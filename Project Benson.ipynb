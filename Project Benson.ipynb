{
 "cells": [
  {
   "cell_type": "code",
   "execution_count": 1,
   "metadata": {
    "collapsed": true
   },
   "outputs": [],
   "source": [
    "import pandas as pd\n",
    "import numpy as np\n",
    "import matplotlib.pyplot as plt\n",
    "import datetime\n",
    "\n",
    "%matplotlib inline\n",
    "#from IPython.display import Image\n",
    "import matplotlib.pyplot as plt\n",
    "import seaborn as sns\n",
    "#import pydotplus"
   ]
  },
  {
   "cell_type": "code",
   "execution_count": 2,
   "metadata": {},
   "outputs": [
    {
     "data": {
      "text/plain": [
       "'2.0.2'"
      ]
     },
     "execution_count": 2,
     "metadata": {},
     "output_type": "execute_result"
    }
   ],
   "source": [
    "import matplotlib\n",
    "matplotlib.__version__"
   ]
  },
  {
   "cell_type": "code",
   "execution_count": 3,
   "metadata": {},
   "outputs": [
    {
     "data": {
      "text/plain": [
       "'0.8.0'"
      ]
     },
     "execution_count": 3,
     "metadata": {},
     "output_type": "execute_result"
    }
   ],
   "source": [
    "sns.__version__"
   ]
  },
  {
   "cell_type": "code",
   "execution_count": 4,
   "metadata": {
    "collapsed": true
   },
   "outputs": [],
   "source": [
    "sns.set_style(\"whitegrid\")"
   ]
  },
  {
   "cell_type": "code",
   "execution_count": 5,
   "metadata": {},
   "outputs": [],
   "source": [
    "def get_data(week_nums):\n",
    "    # base url\n",
    "    url = \"http://web.mta.info/developers/data/nyct/turnstile/turnstile_{}.txt\"\n",
    "    dfs = []\n",
    "    for week_num in week_nums:\n",
    "        # concat our week onto url..\n",
    "        file_url = url.format(week_num)\n",
    "        dfs.append(pd.read_csv(file_url))\n",
    "    return pd.concat(dfs)\n",
    "        \n",
    "week_nums = [170422, 170429, 170506, 170513]\n",
    "# Test against Julia's nums\n",
    "#week_nums = [160903, 160910, 160917]\n",
    "df = get_data(week_nums)"
   ]
  },
  {
   "cell_type": "code",
   "execution_count": 6,
   "metadata": {},
   "outputs": [
    {
     "data": {
      "text/plain": [
       "['C/A',\n",
       " 'UNIT',\n",
       " 'SCP',\n",
       " 'STATION',\n",
       " 'LINENAME',\n",
       " 'DIVISION',\n",
       " 'DATE',\n",
       " 'TIME',\n",
       " 'DESC',\n",
       " 'ENTRIES',\n",
       " 'EXITS                                                               ']"
      ]
     },
     "execution_count": 6,
     "metadata": {},
     "output_type": "execute_result"
    }
   ],
   "source": [
    "df.columns.tolist()"
   ]
  },
  {
   "cell_type": "code",
   "execution_count": 7,
   "metadata": {},
   "outputs": [
    {
     "data": {
      "text/html": [
       "<div>\n",
       "<style>\n",
       "    .dataframe thead tr:only-child th {\n",
       "        text-align: right;\n",
       "    }\n",
       "\n",
       "    .dataframe thead th {\n",
       "        text-align: left;\n",
       "    }\n",
       "\n",
       "    .dataframe tbody tr th {\n",
       "        vertical-align: top;\n",
       "    }\n",
       "</style>\n",
       "<table border=\"1\" class=\"dataframe\">\n",
       "  <thead>\n",
       "    <tr style=\"text-align: right;\">\n",
       "      <th></th>\n",
       "      <th>C/A</th>\n",
       "      <th>UNIT</th>\n",
       "      <th>SCP</th>\n",
       "      <th>STATION</th>\n",
       "      <th>LINENAME</th>\n",
       "      <th>DIVISION</th>\n",
       "      <th>DATE</th>\n",
       "      <th>TIME</th>\n",
       "      <th>DESC</th>\n",
       "      <th>ENTRIES</th>\n",
       "      <th>EXITS</th>\n",
       "    </tr>\n",
       "  </thead>\n",
       "  <tbody>\n",
       "    <tr>\n",
       "      <th>0</th>\n",
       "      <td>A002</td>\n",
       "      <td>R051</td>\n",
       "      <td>02-00-00</td>\n",
       "      <td>59 ST</td>\n",
       "      <td>NQR456W</td>\n",
       "      <td>BMT</td>\n",
       "      <td>04/15/2017</td>\n",
       "      <td>00:00:00</td>\n",
       "      <td>REGULAR</td>\n",
       "      <td>6136580</td>\n",
       "      <td>2078941</td>\n",
       "    </tr>\n",
       "    <tr>\n",
       "      <th>1</th>\n",
       "      <td>A002</td>\n",
       "      <td>R051</td>\n",
       "      <td>02-00-00</td>\n",
       "      <td>59 ST</td>\n",
       "      <td>NQR456W</td>\n",
       "      <td>BMT</td>\n",
       "      <td>04/15/2017</td>\n",
       "      <td>04:00:00</td>\n",
       "      <td>REGULAR</td>\n",
       "      <td>6136613</td>\n",
       "      <td>2078947</td>\n",
       "    </tr>\n",
       "    <tr>\n",
       "      <th>2</th>\n",
       "      <td>A002</td>\n",
       "      <td>R051</td>\n",
       "      <td>02-00-00</td>\n",
       "      <td>59 ST</td>\n",
       "      <td>NQR456W</td>\n",
       "      <td>BMT</td>\n",
       "      <td>04/15/2017</td>\n",
       "      <td>08:00:00</td>\n",
       "      <td>REGULAR</td>\n",
       "      <td>6136639</td>\n",
       "      <td>2078987</td>\n",
       "    </tr>\n",
       "    <tr>\n",
       "      <th>3</th>\n",
       "      <td>A002</td>\n",
       "      <td>R051</td>\n",
       "      <td>02-00-00</td>\n",
       "      <td>59 ST</td>\n",
       "      <td>NQR456W</td>\n",
       "      <td>BMT</td>\n",
       "      <td>04/15/2017</td>\n",
       "      <td>12:00:00</td>\n",
       "      <td>REGULAR</td>\n",
       "      <td>6136799</td>\n",
       "      <td>2079109</td>\n",
       "    </tr>\n",
       "    <tr>\n",
       "      <th>4</th>\n",
       "      <td>A002</td>\n",
       "      <td>R051</td>\n",
       "      <td>02-00-00</td>\n",
       "      <td>59 ST</td>\n",
       "      <td>NQR456W</td>\n",
       "      <td>BMT</td>\n",
       "      <td>04/15/2017</td>\n",
       "      <td>16:00:00</td>\n",
       "      <td>REGULAR</td>\n",
       "      <td>6137076</td>\n",
       "      <td>2079173</td>\n",
       "    </tr>\n",
       "  </tbody>\n",
       "</table>\n",
       "</div>"
      ],
      "text/plain": [
       "    C/A  UNIT       SCP STATION LINENAME DIVISION        DATE      TIME  \\\n",
       "0  A002  R051  02-00-00   59 ST  NQR456W      BMT  04/15/2017  00:00:00   \n",
       "1  A002  R051  02-00-00   59 ST  NQR456W      BMT  04/15/2017  04:00:00   \n",
       "2  A002  R051  02-00-00   59 ST  NQR456W      BMT  04/15/2017  08:00:00   \n",
       "3  A002  R051  02-00-00   59 ST  NQR456W      BMT  04/15/2017  12:00:00   \n",
       "4  A002  R051  02-00-00   59 ST  NQR456W      BMT  04/15/2017  16:00:00   \n",
       "\n",
       "      DESC  ENTRIES  \\\n",
       "0  REGULAR  6136580   \n",
       "1  REGULAR  6136613   \n",
       "2  REGULAR  6136639   \n",
       "3  REGULAR  6136799   \n",
       "4  REGULAR  6137076   \n",
       "\n",
       "   EXITS                                                                 \n",
       "0                                            2078941                     \n",
       "1                                            2078947                     \n",
       "2                                            2078987                     \n",
       "3                                            2079109                     \n",
       "4                                            2079173                     "
      ]
     },
     "execution_count": 7,
     "metadata": {},
     "output_type": "execute_result"
    }
   ],
   "source": [
    "df.head()"
   ]
  },
  {
   "cell_type": "code",
   "execution_count": 8,
   "metadata": {},
   "outputs": [
    {
     "data": {
      "text/plain": [
       "(789772, 11)"
      ]
     },
     "execution_count": 8,
     "metadata": {},
     "output_type": "execute_result"
    }
   ],
   "source": [
    "df.shape"
   ]
  },
  {
   "cell_type": "code",
   "execution_count": 9,
   "metadata": {
    "collapsed": true
   },
   "outputs": [],
   "source": [
    "df.columns = [column.strip() for column in df.columns]"
   ]
  },
  {
   "cell_type": "code",
   "execution_count": 10,
   "metadata": {
    "collapsed": true
   },
   "outputs": [],
   "source": [
    "# df.DATE.value_counts().sort_index()"
   ]
  },
  {
   "cell_type": "code",
   "execution_count": 11,
   "metadata": {
    "collapsed": true
   },
   "outputs": [],
   "source": [
    "df['KEY'] = df['C/A'] + ',' + df['UNIT'] + ',' + df['SCP'] + ',' + df['STATION']\n",
    "df['STATIONLINE'] = df['STATION'] + '_' + df['LINENAME']"
   ]
  },
  {
   "cell_type": "code",
   "execution_count": 12,
   "metadata": {},
   "outputs": [
    {
     "data": {
      "text/plain": [
       "C/A            object\n",
       "UNIT           object\n",
       "SCP            object\n",
       "STATION        object\n",
       "LINENAME       object\n",
       "DIVISION       object\n",
       "DATE           object\n",
       "TIME           object\n",
       "DESC           object\n",
       "ENTRIES         int64\n",
       "EXITS           int64\n",
       "KEY            object\n",
       "STATIONLINE    object\n",
       "dtype: object"
      ]
     },
     "execution_count": 12,
     "metadata": {},
     "output_type": "execute_result"
    }
   ],
   "source": [
    "df.dtypes"
   ]
  },
  {
   "cell_type": "code",
   "execution_count": 14,
   "metadata": {},
   "outputs": [],
   "source": [
    "df['DATETIME'] = pd.to_datetime(df['DATE'] + ' ' + df['TIME'],format=\"%m/%d/%Y %H:%M:%S\")"
   ]
  },
  {
   "cell_type": "code",
   "execution_count": 15,
   "metadata": {},
   "outputs": [],
   "source": [
    "df['TIME'] = df.DATETIME.dt.time"
   ]
  },
  {
   "cell_type": "code",
   "execution_count": 16,
   "metadata": {},
   "outputs": [
    {
     "data": {
      "text/plain": [
       "0   2017-04-15 00:00:00\n",
       "1   2017-04-15 04:00:00\n",
       "2   2017-04-15 08:00:00\n",
       "3   2017-04-15 12:00:00\n",
       "4   2017-04-15 16:00:00\n",
       "Name: DATETIME, dtype: datetime64[ns]"
      ]
     },
     "execution_count": 16,
     "metadata": {},
     "output_type": "execute_result"
    }
   ],
   "source": [
    "df.DATETIME.head()"
   ]
  },
  {
   "cell_type": "code",
   "execution_count": 17,
   "metadata": {},
   "outputs": [
    {
     "data": {
      "text/plain": [
       "0    00:00:00\n",
       "1    04:00:00\n",
       "2    08:00:00\n",
       "3    12:00:00\n",
       "4    16:00:00\n",
       "Name: TIME, dtype: object"
      ]
     },
     "execution_count": 17,
     "metadata": {},
     "output_type": "execute_result"
    }
   ],
   "source": [
    "df.TIME.head()"
   ]
  },
  {
   "cell_type": "code",
   "execution_count": 103,
   "metadata": {},
   "outputs": [
    {
     "data": {
      "text/plain": [
       "196851   2017-05-11 09:00:00\n",
       "196852   2017-05-11 13:00:00\n",
       "196853   2017-05-11 17:00:00\n",
       "196854   2017-05-11 21:00:00\n",
       "196855   2017-05-12 01:00:00\n",
       "196856   2017-05-12 05:00:00\n",
       "196857   2017-05-12 09:00:00\n",
       "196858   2017-05-12 13:00:00\n",
       "196859   2017-05-12 17:00:00\n",
       "196860   2017-05-12 21:00:00\n",
       "Name: DATETIME, dtype: datetime64[ns]"
      ]
     },
     "execution_count": 103,
     "metadata": {},
     "output_type": "execute_result"
    }
   ],
   "source": [
    "df.DATETIME.tail(10)"
   ]
  },
  {
   "cell_type": "code",
   "execution_count": 104,
   "metadata": {},
   "outputs": [
    {
     "data": {
      "text/plain": [
       "196851    09:00:00\n",
       "196852    13:00:00\n",
       "196853    17:00:00\n",
       "196854    21:00:00\n",
       "196855    01:00:00\n",
       "196856    05:00:00\n",
       "196857    09:00:00\n",
       "196858    13:00:00\n",
       "196859    17:00:00\n",
       "196860    21:00:00\n",
       "Name: TIME, dtype: object"
      ]
     },
     "execution_count": 104,
     "metadata": {},
     "output_type": "execute_result"
    }
   ],
   "source": [
    "df.TIME.tail(10)"
   ]
  },
  {
   "cell_type": "code",
   "execution_count": 18,
   "metadata": {},
   "outputs": [
    {
     "data": {
      "text/html": [
       "<div>\n",
       "<style>\n",
       "    .dataframe thead tr:only-child th {\n",
       "        text-align: right;\n",
       "    }\n",
       "\n",
       "    .dataframe thead th {\n",
       "        text-align: left;\n",
       "    }\n",
       "\n",
       "    .dataframe tbody tr th {\n",
       "        vertical-align: top;\n",
       "    }\n",
       "</style>\n",
       "<table border=\"1\" class=\"dataframe\">\n",
       "  <thead>\n",
       "    <tr style=\"text-align: right;\">\n",
       "      <th></th>\n",
       "      <th>KEY</th>\n",
       "      <th>DATETIME</th>\n",
       "      <th>ENTRIES</th>\n",
       "    </tr>\n",
       "  </thead>\n",
       "  <tbody>\n",
       "    <tr>\n",
       "      <th>109331</th>\n",
       "      <td>G001,R151,00-00-00,CONEY IS-STILLW</td>\n",
       "      <td>2017-05-09 05:00:00</td>\n",
       "      <td>2</td>\n",
       "    </tr>\n",
       "    <tr>\n",
       "      <th>323055</th>\n",
       "      <td>N329,R201,00-00-00,WOODHAVEN BLVD</td>\n",
       "      <td>2017-04-28 05:00:00</td>\n",
       "      <td>2</td>\n",
       "    </tr>\n",
       "    <tr>\n",
       "      <th>0</th>\n",
       "      <td>A002,R051,02-00-00,59 ST</td>\n",
       "      <td>2017-04-15 00:00:00</td>\n",
       "      <td>1</td>\n",
       "    </tr>\n",
       "    <tr>\n",
       "      <th>526517</th>\n",
       "      <td>R145,R032,00-00-02,TIMES SQ-42 ST</td>\n",
       "      <td>2017-04-20 08:00:00</td>\n",
       "      <td>1</td>\n",
       "    </tr>\n",
       "    <tr>\n",
       "      <th>526508</th>\n",
       "      <td>R145,R032,00-00-02,TIMES SQ-42 ST</td>\n",
       "      <td>2017-04-18 20:00:00</td>\n",
       "      <td>1</td>\n",
       "    </tr>\n",
       "  </tbody>\n",
       "</table>\n",
       "</div>"
      ],
      "text/plain": [
       "                                       KEY            DATETIME  ENTRIES\n",
       "109331  G001,R151,00-00-00,CONEY IS-STILLW 2017-05-09 05:00:00        2\n",
       "323055   N329,R201,00-00-00,WOODHAVEN BLVD 2017-04-28 05:00:00        2\n",
       "0                 A002,R051,02-00-00,59 ST 2017-04-15 00:00:00        1\n",
       "526517   R145,R032,00-00-02,TIMES SQ-42 ST 2017-04-20 08:00:00        1\n",
       "526508   R145,R032,00-00-02,TIMES SQ-42 ST 2017-04-18 20:00:00        1"
      ]
     },
     "execution_count": 18,
     "metadata": {},
     "output_type": "execute_result"
    }
   ],
   "source": [
    "(df\n",
    " .groupby([\"KEY\", \"DATETIME\"])\n",
    " .ENTRIES.count()\n",
    " .reset_index()\n",
    " .sort_values(\"ENTRIES\", ascending=False)).head()"
   ]
  },
  {
   "cell_type": "code",
   "execution_count": 19,
   "metadata": {
    "collapsed": true
   },
   "outputs": [],
   "source": [
    "# Explore the duplicate entries on 5/9\n",
    "# mask = ((df[\"C/A\"] == \"G001\") & \n",
    "# (df[\"UNIT\"] == \"R151\") & \n",
    "# (df[\"SCP\"] == \"00-00-00\") & \n",
    "# (df[\"STATION\"] == \"CONEY IS-STILLW\") &\n",
    "# # get datetime properties ~ .dt\n",
    "# (df[\"DATETIME\"].dt.date == datetime.datetime(2017, 5, 9).date()))\n",
    "# df[mask].head()"
   ]
  },
  {
   "cell_type": "code",
   "execution_count": 20,
   "metadata": {
    "collapsed": true
   },
   "outputs": [],
   "source": [
    "# Explore the duplicate entries on 4/28\n",
    "# mask = ((df[\"C/A\"] == \"N329\") & \n",
    "# (df[\"UNIT\"] == \"R201\") & \n",
    "# (df[\"SCP\"] == \"00-00-00\") & \n",
    "# (df[\"STATION\"] == \"WOODHAVEN BLVD\") &\n",
    "# # get datetime properties ~ .dt\n",
    "# (df[\"DATETIME\"].dt.date == datetime.datetime(2017, 4, 28).date()))\n",
    "# df[mask].head()"
   ]
  },
  {
   "cell_type": "code",
   "execution_count": 21,
   "metadata": {
    "collapsed": true
   },
   "outputs": [],
   "source": [
    "# df.sort_values([\"KEY\", \"DATETIME\"], inplace=True,\n",
    "#               ascending = True)"
   ]
  },
  {
   "cell_type": "code",
   "execution_count": 22,
   "metadata": {
    "collapsed": true
   },
   "outputs": [],
   "source": [
    "df.drop_duplicates(subset=[\"KEY\", \"DATETIME\"], inplace=True)"
   ]
  },
  {
   "cell_type": "code",
   "execution_count": 23,
   "metadata": {},
   "outputs": [
    {
     "data": {
      "text/plain": [
       "(789770, 14)"
      ]
     },
     "execution_count": 23,
     "metadata": {},
     "output_type": "execute_result"
    }
   ],
   "source": [
    "df.shape # two duplicates were removed"
   ]
  },
  {
   "cell_type": "code",
   "execution_count": 24,
   "metadata": {
    "collapsed": true
   },
   "outputs": [],
   "source": [
    "df.sort_values([\"KEY\", \"DATETIME\"], inplace=True, ascending=True)"
   ]
  },
  {
   "cell_type": "code",
   "execution_count": 25,
   "metadata": {
    "collapsed": true
   },
   "outputs": [],
   "source": [
    "# stationMax = df.groupby(\"STATION\").ENTRIES.max()\n",
    "# stationMax.sort_values(ascending=False)"
   ]
  },
  {
   "cell_type": "code",
   "execution_count": 26,
   "metadata": {
    "collapsed": true
   },
   "outputs": [],
   "source": [
    "# df.sort_values([\"KEY\",'DATETIME'],inplace=True)"
   ]
  },
  {
   "cell_type": "code",
   "execution_count": 27,
   "metadata": {},
   "outputs": [
    {
     "data": {
      "text/html": [
       "<div>\n",
       "<style>\n",
       "    .dataframe thead tr:only-child th {\n",
       "        text-align: right;\n",
       "    }\n",
       "\n",
       "    .dataframe thead th {\n",
       "        text-align: left;\n",
       "    }\n",
       "\n",
       "    .dataframe tbody tr th {\n",
       "        vertical-align: top;\n",
       "    }\n",
       "</style>\n",
       "<table border=\"1\" class=\"dataframe\">\n",
       "  <thead>\n",
       "    <tr style=\"text-align: right;\">\n",
       "      <th></th>\n",
       "      <th>C/A</th>\n",
       "      <th>UNIT</th>\n",
       "      <th>SCP</th>\n",
       "      <th>STATION</th>\n",
       "      <th>LINENAME</th>\n",
       "      <th>DIVISION</th>\n",
       "      <th>DATE</th>\n",
       "      <th>TIME</th>\n",
       "      <th>DESC</th>\n",
       "      <th>ENTRIES</th>\n",
       "      <th>EXITS</th>\n",
       "      <th>KEY</th>\n",
       "      <th>STATIONLINE</th>\n",
       "      <th>DATETIME</th>\n",
       "    </tr>\n",
       "  </thead>\n",
       "  <tbody>\n",
       "    <tr>\n",
       "      <th>0</th>\n",
       "      <td>A002</td>\n",
       "      <td>R051</td>\n",
       "      <td>02-00-00</td>\n",
       "      <td>59 ST</td>\n",
       "      <td>NQR456W</td>\n",
       "      <td>BMT</td>\n",
       "      <td>04/15/2017</td>\n",
       "      <td>00:00:00</td>\n",
       "      <td>REGULAR</td>\n",
       "      <td>6136580</td>\n",
       "      <td>2078941</td>\n",
       "      <td>A002,R051,02-00-00,59 ST</td>\n",
       "      <td>59 ST_NQR456W</td>\n",
       "      <td>2017-04-15 00:00:00</td>\n",
       "    </tr>\n",
       "    <tr>\n",
       "      <th>1</th>\n",
       "      <td>A002</td>\n",
       "      <td>R051</td>\n",
       "      <td>02-00-00</td>\n",
       "      <td>59 ST</td>\n",
       "      <td>NQR456W</td>\n",
       "      <td>BMT</td>\n",
       "      <td>04/15/2017</td>\n",
       "      <td>04:00:00</td>\n",
       "      <td>REGULAR</td>\n",
       "      <td>6136613</td>\n",
       "      <td>2078947</td>\n",
       "      <td>A002,R051,02-00-00,59 ST</td>\n",
       "      <td>59 ST_NQR456W</td>\n",
       "      <td>2017-04-15 04:00:00</td>\n",
       "    </tr>\n",
       "    <tr>\n",
       "      <th>2</th>\n",
       "      <td>A002</td>\n",
       "      <td>R051</td>\n",
       "      <td>02-00-00</td>\n",
       "      <td>59 ST</td>\n",
       "      <td>NQR456W</td>\n",
       "      <td>BMT</td>\n",
       "      <td>04/15/2017</td>\n",
       "      <td>08:00:00</td>\n",
       "      <td>REGULAR</td>\n",
       "      <td>6136639</td>\n",
       "      <td>2078987</td>\n",
       "      <td>A002,R051,02-00-00,59 ST</td>\n",
       "      <td>59 ST_NQR456W</td>\n",
       "      <td>2017-04-15 08:00:00</td>\n",
       "    </tr>\n",
       "    <tr>\n",
       "      <th>3</th>\n",
       "      <td>A002</td>\n",
       "      <td>R051</td>\n",
       "      <td>02-00-00</td>\n",
       "      <td>59 ST</td>\n",
       "      <td>NQR456W</td>\n",
       "      <td>BMT</td>\n",
       "      <td>04/15/2017</td>\n",
       "      <td>12:00:00</td>\n",
       "      <td>REGULAR</td>\n",
       "      <td>6136799</td>\n",
       "      <td>2079109</td>\n",
       "      <td>A002,R051,02-00-00,59 ST</td>\n",
       "      <td>59 ST_NQR456W</td>\n",
       "      <td>2017-04-15 12:00:00</td>\n",
       "    </tr>\n",
       "    <tr>\n",
       "      <th>4</th>\n",
       "      <td>A002</td>\n",
       "      <td>R051</td>\n",
       "      <td>02-00-00</td>\n",
       "      <td>59 ST</td>\n",
       "      <td>NQR456W</td>\n",
       "      <td>BMT</td>\n",
       "      <td>04/15/2017</td>\n",
       "      <td>16:00:00</td>\n",
       "      <td>REGULAR</td>\n",
       "      <td>6137076</td>\n",
       "      <td>2079173</td>\n",
       "      <td>A002,R051,02-00-00,59 ST</td>\n",
       "      <td>59 ST_NQR456W</td>\n",
       "      <td>2017-04-15 16:00:00</td>\n",
       "    </tr>\n",
       "  </tbody>\n",
       "</table>\n",
       "</div>"
      ],
      "text/plain": [
       "    C/A  UNIT       SCP STATION LINENAME DIVISION        DATE      TIME  \\\n",
       "0  A002  R051  02-00-00   59 ST  NQR456W      BMT  04/15/2017  00:00:00   \n",
       "1  A002  R051  02-00-00   59 ST  NQR456W      BMT  04/15/2017  04:00:00   \n",
       "2  A002  R051  02-00-00   59 ST  NQR456W      BMT  04/15/2017  08:00:00   \n",
       "3  A002  R051  02-00-00   59 ST  NQR456W      BMT  04/15/2017  12:00:00   \n",
       "4  A002  R051  02-00-00   59 ST  NQR456W      BMT  04/15/2017  16:00:00   \n",
       "\n",
       "      DESC  ENTRIES    EXITS                       KEY    STATIONLINE  \\\n",
       "0  REGULAR  6136580  2078941  A002,R051,02-00-00,59 ST  59 ST_NQR456W   \n",
       "1  REGULAR  6136613  2078947  A002,R051,02-00-00,59 ST  59 ST_NQR456W   \n",
       "2  REGULAR  6136639  2078987  A002,R051,02-00-00,59 ST  59 ST_NQR456W   \n",
       "3  REGULAR  6136799  2079109  A002,R051,02-00-00,59 ST  59 ST_NQR456W   \n",
       "4  REGULAR  6137076  2079173  A002,R051,02-00-00,59 ST  59 ST_NQR456W   \n",
       "\n",
       "             DATETIME  \n",
       "0 2017-04-15 00:00:00  \n",
       "1 2017-04-15 04:00:00  \n",
       "2 2017-04-15 08:00:00  \n",
       "3 2017-04-15 12:00:00  \n",
       "4 2017-04-15 16:00:00  "
      ]
     },
     "execution_count": 27,
     "metadata": {},
     "output_type": "execute_result"
    }
   ],
   "source": [
    "df.head()"
   ]
  },
  {
   "cell_type": "code",
   "execution_count": 28,
   "metadata": {
    "collapsed": true
   },
   "outputs": [],
   "source": [
    "df['ENTRYCOUNT'] = df.groupby(\"KEY\")['ENTRIES'].diff()"
   ]
  },
  {
   "cell_type": "code",
   "execution_count": 29,
   "metadata": {
    "collapsed": true
   },
   "outputs": [],
   "source": [
    "df = df.drop([\"EXITS\", \"DESC\"], axis=1, errors=\"ignore\")\n",
    "\n",
    "df2 = df.copy()"
   ]
  },
  {
   "cell_type": "code",
   "execution_count": 30,
   "metadata": {},
   "outputs": [
    {
     "data": {
      "text/html": [
       "<div>\n",
       "<style>\n",
       "    .dataframe thead tr:only-child th {\n",
       "        text-align: right;\n",
       "    }\n",
       "\n",
       "    .dataframe thead th {\n",
       "        text-align: left;\n",
       "    }\n",
       "\n",
       "    .dataframe tbody tr th {\n",
       "        vertical-align: top;\n",
       "    }\n",
       "</style>\n",
       "<table border=\"1\" class=\"dataframe\">\n",
       "  <thead>\n",
       "    <tr style=\"text-align: right;\">\n",
       "      <th></th>\n",
       "      <th>C/A</th>\n",
       "      <th>UNIT</th>\n",
       "      <th>SCP</th>\n",
       "      <th>STATION</th>\n",
       "      <th>LINENAME</th>\n",
       "      <th>DIVISION</th>\n",
       "      <th>DATE</th>\n",
       "      <th>TIME</th>\n",
       "      <th>ENTRIES</th>\n",
       "      <th>KEY</th>\n",
       "      <th>STATIONLINE</th>\n",
       "      <th>DATETIME</th>\n",
       "      <th>ENTRYCOUNT</th>\n",
       "    </tr>\n",
       "  </thead>\n",
       "  <tbody>\n",
       "    <tr>\n",
       "      <th>22446</th>\n",
       "      <td>C021</td>\n",
       "      <td>R212</td>\n",
       "      <td>00-00-02</td>\n",
       "      <td>59 ST</td>\n",
       "      <td>NRW</td>\n",
       "      <td>BMT</td>\n",
       "      <td>04/21/2017</td>\n",
       "      <td>08:00:00</td>\n",
       "      <td>2031090592</td>\n",
       "      <td>C021,R212,00-00-02,59 ST</td>\n",
       "      <td>59 ST_NRW</td>\n",
       "      <td>2017-04-21 08:00:00</td>\n",
       "      <td>2.020572e+09</td>\n",
       "    </tr>\n",
       "    <tr>\n",
       "      <th>195481</th>\n",
       "      <td>R730</td>\n",
       "      <td>R431</td>\n",
       "      <td>00-00-04</td>\n",
       "      <td>EASTCHSTER/DYRE</td>\n",
       "      <td>5</td>\n",
       "      <td>IRT</td>\n",
       "      <td>05/05/2017</td>\n",
       "      <td>09:00:00</td>\n",
       "      <td>1560221483</td>\n",
       "      <td>R730,R431,00-00-04,EASTCHSTER/DYRE</td>\n",
       "      <td>EASTCHSTER/DYRE_5</td>\n",
       "      <td>2017-05-05 09:00:00</td>\n",
       "      <td>1.557696e+09</td>\n",
       "    </tr>\n",
       "    <tr>\n",
       "      <th>135682</th>\n",
       "      <td>R161B</td>\n",
       "      <td>R452</td>\n",
       "      <td>00-00-03</td>\n",
       "      <td>72 ST</td>\n",
       "      <td>123</td>\n",
       "      <td>IRT</td>\n",
       "      <td>04/30/2017</td>\n",
       "      <td>13:00:00</td>\n",
       "      <td>691260128</td>\n",
       "      <td>R161B,R452,00-00-03,72 ST</td>\n",
       "      <td>72 ST_123</td>\n",
       "      <td>2017-04-30 13:00:00</td>\n",
       "      <td>6.831548e+08</td>\n",
       "    </tr>\n",
       "    <tr>\n",
       "      <th>153362</th>\n",
       "      <td>R241A</td>\n",
       "      <td>R048</td>\n",
       "      <td>00-00-00</td>\n",
       "      <td>GRD CNTRL-42 ST</td>\n",
       "      <td>4567S</td>\n",
       "      <td>IRT</td>\n",
       "      <td>05/04/2017</td>\n",
       "      <td>13:00:00</td>\n",
       "      <td>503289886</td>\n",
       "      <td>R241A,R048,00-00-00,GRD CNTRL-42 ST</td>\n",
       "      <td>GRD CNTRL-42 ST_4567S</td>\n",
       "      <td>2017-05-04 13:00:00</td>\n",
       "      <td>4.884515e+08</td>\n",
       "    </tr>\n",
       "    <tr>\n",
       "      <th>103128</th>\n",
       "      <td>N550</td>\n",
       "      <td>R242</td>\n",
       "      <td>01-05-00</td>\n",
       "      <td>18 AV</td>\n",
       "      <td>F</td>\n",
       "      <td>IND</td>\n",
       "      <td>04/24/2017</td>\n",
       "      <td>16:00:00</td>\n",
       "      <td>117440513</td>\n",
       "      <td>N550,R242,01-05-00,18 AV</td>\n",
       "      <td>18 AV_F</td>\n",
       "      <td>2017-04-24 16:00:00</td>\n",
       "      <td>1.174379e+08</td>\n",
       "    </tr>\n",
       "    <tr>\n",
       "      <th>23499</th>\n",
       "      <td>C026</td>\n",
       "      <td>R215</td>\n",
       "      <td>01-06-01</td>\n",
       "      <td>86 ST</td>\n",
       "      <td>R</td>\n",
       "      <td>BMT</td>\n",
       "      <td>04/18/2017</td>\n",
       "      <td>16:00:00</td>\n",
       "      <td>117484688</td>\n",
       "      <td>C026,R215,01-06-01,86 ST</td>\n",
       "      <td>86 ST_R</td>\n",
       "      <td>2017-04-18 16:00:00</td>\n",
       "      <td>1.170130e+08</td>\n",
       "    </tr>\n",
       "    <tr>\n",
       "      <th>150431</th>\n",
       "      <td>R228</td>\n",
       "      <td>R143</td>\n",
       "      <td>00-00-04</td>\n",
       "      <td>28 ST</td>\n",
       "      <td>6</td>\n",
       "      <td>IRT</td>\n",
       "      <td>04/26/2017</td>\n",
       "      <td>17:00:00</td>\n",
       "      <td>100710462</td>\n",
       "      <td>R228,R143,00-00-04,28 ST</td>\n",
       "      <td>28 ST_6</td>\n",
       "      <td>2017-04-26 17:00:00</td>\n",
       "      <td>1.003657e+08</td>\n",
       "    </tr>\n",
       "    <tr>\n",
       "      <th>166407</th>\n",
       "      <td>R311</td>\n",
       "      <td>R053</td>\n",
       "      <td>00-05-00</td>\n",
       "      <td>3 AV-149 ST</td>\n",
       "      <td>25</td>\n",
       "      <td>IRT</td>\n",
       "      <td>04/28/2017</td>\n",
       "      <td>16:00:00</td>\n",
       "      <td>67108864</td>\n",
       "      <td>R311,R053,00-05-00,3 AV-149 ST</td>\n",
       "      <td>3 AV-149 ST_25</td>\n",
       "      <td>2017-04-28 16:00:00</td>\n",
       "      <td>6.710797e+07</td>\n",
       "    </tr>\n",
       "    <tr>\n",
       "      <th>16380</th>\n",
       "      <td>B022</td>\n",
       "      <td>R229</td>\n",
       "      <td>00-05-00</td>\n",
       "      <td>AVENUE M</td>\n",
       "      <td>BQ</td>\n",
       "      <td>BMT</td>\n",
       "      <td>04/30/2017</td>\n",
       "      <td>12:00:00</td>\n",
       "      <td>16796105</td>\n",
       "      <td>B022,R229,00-05-00,AVENUE M</td>\n",
       "      <td>AVENUE M_BQ</td>\n",
       "      <td>2017-04-30 12:00:00</td>\n",
       "      <td>1.673498e+07</td>\n",
       "    </tr>\n",
       "    <tr>\n",
       "      <th>16085</th>\n",
       "      <td>B022</td>\n",
       "      <td>R229</td>\n",
       "      <td>00-00-00</td>\n",
       "      <td>AVENUE M</td>\n",
       "      <td>BQ</td>\n",
       "      <td>BMT</td>\n",
       "      <td>04/30/2017</td>\n",
       "      <td>11:00:00</td>\n",
       "      <td>16796105</td>\n",
       "      <td>B022,R229,00-00-00,AVENUE M</td>\n",
       "      <td>AVENUE M_BQ</td>\n",
       "      <td>2017-04-30 11:00:00</td>\n",
       "      <td>1.600624e+07</td>\n",
       "    </tr>\n",
       "    <tr>\n",
       "      <th>119008</th>\n",
       "      <td>PTH18</td>\n",
       "      <td>R549</td>\n",
       "      <td>01-00-00</td>\n",
       "      <td>NEWARK BM BW</td>\n",
       "      <td>1</td>\n",
       "      <td>PTH</td>\n",
       "      <td>04/25/2017</td>\n",
       "      <td>09:48:48</td>\n",
       "      <td>897709</td>\n",
       "      <td>PTH18,R549,01-00-00,NEWARK BM BW</td>\n",
       "      <td>NEWARK BM BW_1</td>\n",
       "      <td>2017-04-25 09:48:48</td>\n",
       "      <td>8.680430e+05</td>\n",
       "    </tr>\n",
       "    <tr>\n",
       "      <th>115272</th>\n",
       "      <td>PTH10</td>\n",
       "      <td>R547</td>\n",
       "      <td>00-00-00</td>\n",
       "      <td>9TH STREET</td>\n",
       "      <td>1</td>\n",
       "      <td>PTH</td>\n",
       "      <td>04/16/2017</td>\n",
       "      <td>09:30:19</td>\n",
       "      <td>738627</td>\n",
       "      <td>PTH10,R547,00-00-00,9TH STREET</td>\n",
       "      <td>9TH STREET_1</td>\n",
       "      <td>2017-04-16 09:30:19</td>\n",
       "      <td>4.660070e+05</td>\n",
       "    </tr>\n",
       "    <tr>\n",
       "      <th>113366</th>\n",
       "      <td>PTH05</td>\n",
       "      <td>R543</td>\n",
       "      <td>00-04-00</td>\n",
       "      <td>EXCHANGE PLACE</td>\n",
       "      <td>1</td>\n",
       "      <td>PTH</td>\n",
       "      <td>04/18/2017</td>\n",
       "      <td>10:46:39</td>\n",
       "      <td>162272</td>\n",
       "      <td>PTH05,R543,00-04-00,EXCHANGE PLACE</td>\n",
       "      <td>EXCHANGE PLACE_1</td>\n",
       "      <td>2017-04-18 10:46:39</td>\n",
       "      <td>1.622710e+05</td>\n",
       "    </tr>\n",
       "    <tr>\n",
       "      <th>120324</th>\n",
       "      <td>PTH20</td>\n",
       "      <td>R549</td>\n",
       "      <td>03-01-00</td>\n",
       "      <td>NEWARK HM HE</td>\n",
       "      <td>1</td>\n",
       "      <td>PTH</td>\n",
       "      <td>04/15/2017</td>\n",
       "      <td>15:43:22</td>\n",
       "      <td>46516</td>\n",
       "      <td>PTH20,R549,03-01-00,NEWARK HM HE</td>\n",
       "      <td>NEWARK HM HE_1</td>\n",
       "      <td>2017-04-15 15:43:22</td>\n",
       "      <td>4.581800e+04</td>\n",
       "    </tr>\n",
       "    <tr>\n",
       "      <th>45486</th>\n",
       "      <td>N043</td>\n",
       "      <td>R186</td>\n",
       "      <td>00-00-02</td>\n",
       "      <td>86 ST</td>\n",
       "      <td>BC</td>\n",
       "      <td>IND</td>\n",
       "      <td>04/29/2017</td>\n",
       "      <td>00:00:00</td>\n",
       "      <td>15644197</td>\n",
       "      <td>N043,R186,00-00-02,86 ST</td>\n",
       "      <td>86 ST_BC</td>\n",
       "      <td>2017-04-29 00:00:00</td>\n",
       "      <td>8.838000e+03</td>\n",
       "    </tr>\n",
       "    <tr>\n",
       "      <th>45398</th>\n",
       "      <td>N043</td>\n",
       "      <td>R186</td>\n",
       "      <td>00-00-00</td>\n",
       "      <td>86 ST</td>\n",
       "      <td>BC</td>\n",
       "      <td>IND</td>\n",
       "      <td>04/29/2017</td>\n",
       "      <td>00:00:00</td>\n",
       "      <td>17418069</td>\n",
       "      <td>N043,R186,00-00-00,86 ST</td>\n",
       "      <td>86 ST_BC</td>\n",
       "      <td>2017-04-29 00:00:00</td>\n",
       "      <td>8.604000e+03</td>\n",
       "    </tr>\n",
       "    <tr>\n",
       "      <th>45574</th>\n",
       "      <td>N043</td>\n",
       "      <td>R186</td>\n",
       "      <td>00-06-01</td>\n",
       "      <td>86 ST</td>\n",
       "      <td>BC</td>\n",
       "      <td>IND</td>\n",
       "      <td>04/29/2017</td>\n",
       "      <td>00:00:00</td>\n",
       "      <td>7417359</td>\n",
       "      <td>N043,R186,00-06-01,86 ST</td>\n",
       "      <td>86 ST_BC</td>\n",
       "      <td>2017-04-29 00:00:00</td>\n",
       "      <td>7.846000e+03</td>\n",
       "    </tr>\n",
       "    <tr>\n",
       "      <th>45442</th>\n",
       "      <td>N043</td>\n",
       "      <td>R186</td>\n",
       "      <td>00-00-01</td>\n",
       "      <td>86 ST</td>\n",
       "      <td>BC</td>\n",
       "      <td>IND</td>\n",
       "      <td>04/29/2017</td>\n",
       "      <td>00:00:00</td>\n",
       "      <td>6305120</td>\n",
       "      <td>N043,R186,00-00-01,86 ST</td>\n",
       "      <td>86 ST_BC</td>\n",
       "      <td>2017-04-29 00:00:00</td>\n",
       "      <td>6.128000e+03</td>\n",
       "    </tr>\n",
       "    <tr>\n",
       "      <th>45530</th>\n",
       "      <td>N043</td>\n",
       "      <td>R186</td>\n",
       "      <td>00-06-00</td>\n",
       "      <td>86 ST</td>\n",
       "      <td>BC</td>\n",
       "      <td>IND</td>\n",
       "      <td>04/29/2017</td>\n",
       "      <td>00:00:00</td>\n",
       "      <td>990863845</td>\n",
       "      <td>N043,R186,00-06-00,86 ST</td>\n",
       "      <td>86 ST_BC</td>\n",
       "      <td>2017-04-29 00:00:00</td>\n",
       "      <td>4.549000e+03</td>\n",
       "    </tr>\n",
       "    <tr>\n",
       "      <th>151834</th>\n",
       "      <td>R238</td>\n",
       "      <td>R046</td>\n",
       "      <td>00-03-02</td>\n",
       "      <td>GRD CNTRL-42 ST</td>\n",
       "      <td>4567S</td>\n",
       "      <td>IRT</td>\n",
       "      <td>05/10/2017</td>\n",
       "      <td>20:00:00</td>\n",
       "      <td>28652861</td>\n",
       "      <td>R238,R046,00-03-02,GRD CNTRL-42 ST</td>\n",
       "      <td>GRD CNTRL-42 ST_4567S</td>\n",
       "      <td>2017-05-10 20:00:00</td>\n",
       "      <td>4.481000e+03</td>\n",
       "    </tr>\n",
       "  </tbody>\n",
       "</table>\n",
       "</div>"
      ],
      "text/plain": [
       "          C/A  UNIT       SCP          STATION LINENAME DIVISION        DATE  \\\n",
       "22446    C021  R212  00-00-02            59 ST      NRW      BMT  04/21/2017   \n",
       "195481   R730  R431  00-00-04  EASTCHSTER/DYRE        5      IRT  05/05/2017   \n",
       "135682  R161B  R452  00-00-03            72 ST      123      IRT  04/30/2017   \n",
       "153362  R241A  R048  00-00-00  GRD CNTRL-42 ST    4567S      IRT  05/04/2017   \n",
       "103128   N550  R242  01-05-00            18 AV        F      IND  04/24/2017   \n",
       "23499    C026  R215  01-06-01            86 ST        R      BMT  04/18/2017   \n",
       "150431   R228  R143  00-00-04            28 ST        6      IRT  04/26/2017   \n",
       "166407   R311  R053  00-05-00      3 AV-149 ST       25      IRT  04/28/2017   \n",
       "16380    B022  R229  00-05-00         AVENUE M       BQ      BMT  04/30/2017   \n",
       "16085    B022  R229  00-00-00         AVENUE M       BQ      BMT  04/30/2017   \n",
       "119008  PTH18  R549  01-00-00     NEWARK BM BW        1      PTH  04/25/2017   \n",
       "115272  PTH10  R547  00-00-00       9TH STREET        1      PTH  04/16/2017   \n",
       "113366  PTH05  R543  00-04-00   EXCHANGE PLACE        1      PTH  04/18/2017   \n",
       "120324  PTH20  R549  03-01-00     NEWARK HM HE        1      PTH  04/15/2017   \n",
       "45486    N043  R186  00-00-02            86 ST       BC      IND  04/29/2017   \n",
       "45398    N043  R186  00-00-00            86 ST       BC      IND  04/29/2017   \n",
       "45574    N043  R186  00-06-01            86 ST       BC      IND  04/29/2017   \n",
       "45442    N043  R186  00-00-01            86 ST       BC      IND  04/29/2017   \n",
       "45530    N043  R186  00-06-00            86 ST       BC      IND  04/29/2017   \n",
       "151834   R238  R046  00-03-02  GRD CNTRL-42 ST    4567S      IRT  05/10/2017   \n",
       "\n",
       "            TIME     ENTRIES                                  KEY  \\\n",
       "22446   08:00:00  2031090592             C021,R212,00-00-02,59 ST   \n",
       "195481  09:00:00  1560221483   R730,R431,00-00-04,EASTCHSTER/DYRE   \n",
       "135682  13:00:00   691260128            R161B,R452,00-00-03,72 ST   \n",
       "153362  13:00:00   503289886  R241A,R048,00-00-00,GRD CNTRL-42 ST   \n",
       "103128  16:00:00   117440513             N550,R242,01-05-00,18 AV   \n",
       "23499   16:00:00   117484688             C026,R215,01-06-01,86 ST   \n",
       "150431  17:00:00   100710462             R228,R143,00-00-04,28 ST   \n",
       "166407  16:00:00    67108864       R311,R053,00-05-00,3 AV-149 ST   \n",
       "16380   12:00:00    16796105          B022,R229,00-05-00,AVENUE M   \n",
       "16085   11:00:00    16796105          B022,R229,00-00-00,AVENUE M   \n",
       "119008  09:48:48      897709     PTH18,R549,01-00-00,NEWARK BM BW   \n",
       "115272  09:30:19      738627       PTH10,R547,00-00-00,9TH STREET   \n",
       "113366  10:46:39      162272   PTH05,R543,00-04-00,EXCHANGE PLACE   \n",
       "120324  15:43:22       46516     PTH20,R549,03-01-00,NEWARK HM HE   \n",
       "45486   00:00:00    15644197             N043,R186,00-00-02,86 ST   \n",
       "45398   00:00:00    17418069             N043,R186,00-00-00,86 ST   \n",
       "45574   00:00:00     7417359             N043,R186,00-06-01,86 ST   \n",
       "45442   00:00:00     6305120             N043,R186,00-00-01,86 ST   \n",
       "45530   00:00:00   990863845             N043,R186,00-06-00,86 ST   \n",
       "151834  20:00:00    28652861   R238,R046,00-03-02,GRD CNTRL-42 ST   \n",
       "\n",
       "                  STATIONLINE            DATETIME    ENTRYCOUNT  \n",
       "22446               59 ST_NRW 2017-04-21 08:00:00  2.020572e+09  \n",
       "195481      EASTCHSTER/DYRE_5 2017-05-05 09:00:00  1.557696e+09  \n",
       "135682              72 ST_123 2017-04-30 13:00:00  6.831548e+08  \n",
       "153362  GRD CNTRL-42 ST_4567S 2017-05-04 13:00:00  4.884515e+08  \n",
       "103128                18 AV_F 2017-04-24 16:00:00  1.174379e+08  \n",
       "23499                 86 ST_R 2017-04-18 16:00:00  1.170130e+08  \n",
       "150431                28 ST_6 2017-04-26 17:00:00  1.003657e+08  \n",
       "166407         3 AV-149 ST_25 2017-04-28 16:00:00  6.710797e+07  \n",
       "16380             AVENUE M_BQ 2017-04-30 12:00:00  1.673498e+07  \n",
       "16085             AVENUE M_BQ 2017-04-30 11:00:00  1.600624e+07  \n",
       "119008         NEWARK BM BW_1 2017-04-25 09:48:48  8.680430e+05  \n",
       "115272           9TH STREET_1 2017-04-16 09:30:19  4.660070e+05  \n",
       "113366       EXCHANGE PLACE_1 2017-04-18 10:46:39  1.622710e+05  \n",
       "120324         NEWARK HM HE_1 2017-04-15 15:43:22  4.581800e+04  \n",
       "45486                86 ST_BC 2017-04-29 00:00:00  8.838000e+03  \n",
       "45398                86 ST_BC 2017-04-29 00:00:00  8.604000e+03  \n",
       "45574                86 ST_BC 2017-04-29 00:00:00  7.846000e+03  \n",
       "45442                86 ST_BC 2017-04-29 00:00:00  6.128000e+03  \n",
       "45530                86 ST_BC 2017-04-29 00:00:00  4.549000e+03  \n",
       "151834  GRD CNTRL-42 ST_4567S 2017-05-10 20:00:00  4.481000e+03  "
      ]
     },
     "execution_count": 30,
     "metadata": {},
     "output_type": "execute_result"
    }
   ],
   "source": [
    "df.sort_values('ENTRYCOUNT', ascending=False).head(20)"
   ]
  },
  {
   "cell_type": "code",
   "execution_count": 31,
   "metadata": {
    "collapsed": true
   },
   "outputs": [],
   "source": [
    "#df[\"ABSENTRY\"] = df.ENTRYCOUNT.abs()"
   ]
  },
  {
   "cell_type": "code",
   "execution_count": 32,
   "metadata": {
    "collapsed": true
   },
   "outputs": [],
   "source": [
    "#df.ABSENTRY.isnull"
   ]
  },
  {
   "cell_type": "code",
   "execution_count": 33,
   "metadata": {},
   "outputs": [
    {
     "data": {
      "text/plain": [
       "7.5971485369158109e-05"
      ]
     },
     "execution_count": 33,
     "metadata": {},
     "output_type": "execute_result"
    }
   ],
   "source": [
    "sum(abs(df.ENTRYCOUNT) > 10000)/len(df)"
   ]
  },
  {
   "cell_type": "code",
   "execution_count": 34,
   "metadata": {},
   "outputs": [
    {
     "data": {
      "text/plain": [
       "<matplotlib.axes._subplots.AxesSubplot at 0x121868128>"
      ]
     },
     "execution_count": 34,
     "metadata": {},
     "output_type": "execute_result"
    },
    {
     "data": {
      "image/png": "[encoded data removed]",
      "text/plain": [
       "<matplotlib.figure.Figure at 0x121868390>"
      ]
     },
     "metadata": {},
     "output_type": "display_data"
    }
   ],
   "source": [
    "df.ENTRYCOUNT.hist()"
   ]
  },
  {
   "cell_type": "code",
   "execution_count": 35,
   "metadata": {
    "collapsed": true
   },
   "outputs": [],
   "source": [
    "# df = df.drop(['EXITS','DESC'],axis=1,errors='ignore')\n",
    "# df2 = df.copy()"
   ]
  },
  {
   "cell_type": "code",
   "execution_count": 36,
   "metadata": {
    "collapsed": true
   },
   "outputs": [],
   "source": [
    "def clean_entries(row, max_counter):\n",
    "    each = row[\"ENTRYCOUNT\"]\n",
    "    if each < 0:\n",
    "        each = -each\n",
    "    if each > max_counter:\n",
    "        return 0\n",
    "    return each\n",
    "\n",
    "df2['ENTRYCOUNT'] = df2.apply(clean_entries, axis=1, max_counter=10000)"
   ]
  },
  {
   "cell_type": "code",
   "execution_count": 37,
   "metadata": {},
   "outputs": [
    {
     "data": {
      "text/plain": [
       "KEY                                  DATETIME           \n",
       "N043,R186,00-00-02,86 ST             2017-04-29 00:00:00    8838.0\n",
       "PTH18,R549,01-01-02,NEWARK BM BW     2017-05-09 11:18:03    8749.0\n",
       "N043,R186,00-00-00,86 ST             2017-04-29 00:00:00    8604.0\n",
       "PTH11,R545,00-00-03,14TH STREET      2017-04-17 10:44:51    8372.0\n",
       "N043,R186,00-06-01,86 ST             2017-04-29 00:00:00    7846.0\n",
       "PTH11,R545,00-00-03,14TH STREET      2017-05-10 13:35:05    6514.0\n",
       "N043,R186,00-00-01,86 ST             2017-04-29 00:00:00    6128.0\n",
       "N043,R186,00-06-00,86 ST             2017-04-29 00:00:00    4549.0\n",
       "R238,R046,00-03-02,GRD CNTRL-42 ST   2017-05-10 20:00:00    4481.0\n",
       "                                     2017-05-09 20:00:00    4051.0\n",
       "                                     2017-05-12 20:00:00    4007.0\n",
       "N072,R012,05-03-01,34 ST-PENN STA    2017-04-21 09:42:59    3994.0\n",
       "N420B,R317,00-00-01,CLINTON-WASH AV  2017-05-06 21:00:00    3962.0\n",
       "R238,R046,00-00-06,GRD CNTRL-42 ST   2017-04-25 20:00:00    3961.0\n",
       "R238,R046,00-03-02,GRD CNTRL-42 ST   2017-05-11 20:00:00    3956.0\n",
       "R238,R046,00-00-06,GRD CNTRL-42 ST   2017-04-19 20:00:00    3948.0\n",
       "E015,R399,00-00-02,25 AV             2017-04-20 09:00:00    3902.0\n",
       "R238,R046,00-03-00,GRD CNTRL-42 ST   2017-05-10 20:00:00    3890.0\n",
       "R240,R047,00-00-00,GRD CNTRL-42 ST   2017-05-03 21:00:00    3830.0\n",
       "R238,R046,00-00-06,GRD CNTRL-42 ST   2017-04-24 20:00:00    3821.0\n",
       "R238,R046,00-00-05,GRD CNTRL-42 ST   2017-04-25 20:00:00    3801.0\n",
       "R238,R046,00-00-06,GRD CNTRL-42 ST   2017-04-27 20:00:00    3795.0\n",
       "                                     2017-04-28 20:00:00    3790.0\n",
       "R238,R046,00-03-00,GRD CNTRL-42 ST   2017-05-05 20:00:00    3777.0\n",
       "R238,R046,00-03-02,GRD CNTRL-42 ST   2017-05-04 20:00:00    3762.0\n",
       "R238,R046,00-03-04,GRD CNTRL-42 ST   2017-05-08 20:00:00    3759.0\n",
       "R238,R046,00-03-00,GRD CNTRL-42 ST   2017-05-12 20:00:00    3740.0\n",
       "R238,R046,00-00-05,GRD CNTRL-42 ST   2017-04-24 20:00:00    3731.0\n",
       "N072,R012,05-03-02,34 ST-PENN STA    2017-04-21 09:42:59    3720.0\n",
       "R238,R046,00-00-05,GRD CNTRL-42 ST   2017-04-19 20:00:00    3709.0\n",
       "                                                             ...  \n",
       "S101A,R070,01-00-00,ST. GEORGE       2017-04-15 00:00:00       NaN\n",
       "S101A,R070,01-00-01,ST. GEORGE       2017-04-15 00:00:00       NaN\n",
       "S101A,R070,01-00-02,ST. GEORGE       2017-04-15 00:00:00       NaN\n",
       "S101A,R070,01-00-03,ST. GEORGE       2017-04-15 00:00:00       NaN\n",
       "S101A,R070,01-00-04,ST. GEORGE       2017-04-15 00:00:00       NaN\n",
       "S101A,R070,01-00-05,ST. GEORGE       2017-04-15 00:00:00       NaN\n",
       "S101A,R070,01-00-06,ST. GEORGE       2017-04-15 00:00:00       NaN\n",
       "S101A,R070,01-03-00,ST. GEORGE       2017-04-15 00:00:00       NaN\n",
       "S101A,R070,01-03-01,ST. GEORGE       2017-04-15 00:00:00       NaN\n",
       "S101A,R070,01-03-02,ST. GEORGE       2017-04-15 00:00:00       NaN\n",
       "S101A,R070,01-03-03,ST. GEORGE       2017-04-15 00:00:00       NaN\n",
       "S101A,R070,01-05-00,ST. GEORGE       2017-04-15 00:00:00       NaN\n",
       "S101A,R070,01-05-01,ST. GEORGE       2017-04-15 00:00:00       NaN\n",
       "S102,R165,00-00-00,TOMPKINSVILLE     2017-04-15 02:00:00       NaN\n",
       "S102,R165,00-00-01,TOMPKINSVILLE     2017-04-15 02:00:00       NaN\n",
       "S102,R165,00-03-00,TOMPKINSVILLE     2017-04-15 02:00:00       NaN\n",
       "S102,R165,00-03-01,TOMPKINSVILLE     2017-04-15 02:00:00       NaN\n",
       "S102,R165,00-03-02,TOMPKINSVILLE     2017-04-15 02:00:00       NaN\n",
       "S102,R165,00-05-00,TOMPKINSVILLE     2017-04-15 02:00:00       NaN\n",
       "S102,R165,00-05-01,TOMPKINSVILLE     2017-04-15 02:00:00       NaN\n",
       "TRAM1,R468,00-00-00,RIT-MANHATTAN    2017-04-15 01:00:00       NaN\n",
       "TRAM1,R468,00-00-01,RIT-MANHATTAN    2017-04-15 01:00:00       NaN\n",
       "TRAM1,R468,00-00-02,RIT-MANHATTAN    2017-04-15 01:00:00       NaN\n",
       "TRAM1,R468,00-05-00,RIT-MANHATTAN    2017-04-15 01:00:00       NaN\n",
       "TRAM2,R469,00-00-00,RIT-ROOSEVELT    2017-04-15 01:00:00       NaN\n",
       "TRAM2,R469,00-00-01,RIT-ROOSEVELT    2017-04-15 01:00:00       NaN\n",
       "TRAM2,R469,00-03-00,RIT-ROOSEVELT    2017-04-15 01:00:00       NaN\n",
       "TRAM2,R469,00-03-01,RIT-ROOSEVELT    2017-04-15 01:00:00       NaN\n",
       "TRAM2,R469,00-05-00,RIT-ROOSEVELT    2017-04-15 01:00:00       NaN\n",
       "TRAM2,R469,00-05-01,RIT-ROOSEVELT    2017-04-15 01:00:00       NaN\n",
       "Name: ENTRYCOUNT, Length: 789770, dtype: float64"
      ]
     },
     "execution_count": 37,
     "metadata": {},
     "output_type": "execute_result"
    }
   ],
   "source": [
    "df2StationMax = df2.groupby(['KEY','DATETIME']).ENTRYCOUNT.max()\n",
    "df2StationMax.sort_values(ascending=False)"
   ]
  },
  {
   "cell_type": "code",
   "execution_count": 38,
   "metadata": {
    "collapsed": true
   },
   "outputs": [],
   "source": [
    "# diffStationMin = df.groupby(\"STATION\").ENTRYCOUNT.min()\n",
    "# diffStationMin.sort_values(ascending=True)"
   ]
  },
  {
   "cell_type": "code",
   "execution_count": 39,
   "metadata": {
    "collapsed": true
   },
   "outputs": [],
   "source": [
    "# stationMax = df.groupby(\"STATION\").ENTRYCOUNT.max()\n",
    "# stationMax.sort_values(ascending=False)"
   ]
  },
  {
   "cell_type": "code",
   "execution_count": 40,
   "metadata": {
    "collapsed": true
   },
   "outputs": [],
   "source": [
    "stationDF = df2.groupby([\"STATION\"]).ENTRYCOUNT.sum().reset_index()\n",
    "stationDF.sort_values('ENTRYCOUNT',ascending=False,inplace=True)"
   ]
  },
  {
   "cell_type": "code",
   "execution_count": 41,
   "metadata": {},
   "outputs": [
    {
     "data": {
      "text/html": [
       "<div>\n",
       "<style>\n",
       "    .dataframe thead tr:only-child th {\n",
       "        text-align: right;\n",
       "    }\n",
       "\n",
       "    .dataframe thead th {\n",
       "        text-align: left;\n",
       "    }\n",
       "\n",
       "    .dataframe tbody tr th {\n",
       "        vertical-align: top;\n",
       "    }\n",
       "</style>\n",
       "<table border=\"1\" class=\"dataframe\">\n",
       "  <thead>\n",
       "    <tr style=\"text-align: right;\">\n",
       "      <th></th>\n",
       "      <th>STATION</th>\n",
       "      <th>ENTRYCOUNT</th>\n",
       "    </tr>\n",
       "  </thead>\n",
       "  <tbody>\n",
       "    <tr>\n",
       "      <th>61</th>\n",
       "      <td>34 ST-PENN STA</td>\n",
       "      <td>4073356.0</td>\n",
       "    </tr>\n",
       "    <tr>\n",
       "      <th>232</th>\n",
       "      <td>GRD CNTRL-42 ST</td>\n",
       "      <td>3564273.0</td>\n",
       "    </tr>\n",
       "    <tr>\n",
       "      <th>59</th>\n",
       "      <td>34 ST-HERALD SQ</td>\n",
       "      <td>3177042.0</td>\n",
       "    </tr>\n",
       "    <tr>\n",
       "      <th>46</th>\n",
       "      <td>23 ST</td>\n",
       "      <td>3066421.0</td>\n",
       "    </tr>\n",
       "    <tr>\n",
       "      <th>14</th>\n",
       "      <td>14 ST-UNION SQ</td>\n",
       "      <td>2721362.0</td>\n",
       "    </tr>\n",
       "    <tr>\n",
       "      <th>68</th>\n",
       "      <td>42 ST-PORT AUTH</td>\n",
       "      <td>2591526.0</td>\n",
       "    </tr>\n",
       "    <tr>\n",
       "      <th>349</th>\n",
       "      <td>TIMES SQ-42 ST</td>\n",
       "      <td>2552338.0</td>\n",
       "    </tr>\n",
       "    <tr>\n",
       "      <th>225</th>\n",
       "      <td>FULTON ST</td>\n",
       "      <td>2249652.0</td>\n",
       "    </tr>\n",
       "    <tr>\n",
       "      <th>109</th>\n",
       "      <td>86 ST</td>\n",
       "      <td>2210359.0</td>\n",
       "    </tr>\n",
       "    <tr>\n",
       "      <th>9</th>\n",
       "      <td>125 ST</td>\n",
       "      <td>2113970.0</td>\n",
       "    </tr>\n",
       "    <tr>\n",
       "      <th>84</th>\n",
       "      <td>59 ST</td>\n",
       "      <td>1924367.0</td>\n",
       "    </tr>\n",
       "    <tr>\n",
       "      <th>85</th>\n",
       "      <td>59 ST COLUMBUS</td>\n",
       "      <td>1899990.0</td>\n",
       "    </tr>\n",
       "    <tr>\n",
       "      <th>172</th>\n",
       "      <td>CANAL ST</td>\n",
       "      <td>1881716.0</td>\n",
       "    </tr>\n",
       "    <tr>\n",
       "      <th>114</th>\n",
       "      <td>96 ST</td>\n",
       "      <td>1703842.0</td>\n",
       "    </tr>\n",
       "    <tr>\n",
       "      <th>13</th>\n",
       "      <td>14 ST</td>\n",
       "      <td>1654537.0</td>\n",
       "    </tr>\n",
       "    <tr>\n",
       "      <th>179</th>\n",
       "      <td>CHAMBERS ST</td>\n",
       "      <td>1591681.0</td>\n",
       "    </tr>\n",
       "    <tr>\n",
       "      <th>216</th>\n",
       "      <td>FLUSHING-MAIN</td>\n",
       "      <td>1511605.0</td>\n",
       "    </tr>\n",
       "    <tr>\n",
       "      <th>72</th>\n",
       "      <td>47-50 STS ROCK</td>\n",
       "      <td>1394959.0</td>\n",
       "    </tr>\n",
       "    <tr>\n",
       "      <th>312</th>\n",
       "      <td>PATH NEW WTC</td>\n",
       "      <td>1280258.0</td>\n",
       "    </tr>\n",
       "    <tr>\n",
       "      <th>256</th>\n",
       "      <td>JKSN HT-ROOSVLT</td>\n",
       "      <td>1279171.0</td>\n",
       "    </tr>\n",
       "  </tbody>\n",
       "</table>\n",
       "</div>"
      ],
      "text/plain": [
       "             STATION  ENTRYCOUNT\n",
       "61    34 ST-PENN STA   4073356.0\n",
       "232  GRD CNTRL-42 ST   3564273.0\n",
       "59   34 ST-HERALD SQ   3177042.0\n",
       "46             23 ST   3066421.0\n",
       "14    14 ST-UNION SQ   2721362.0\n",
       "68   42 ST-PORT AUTH   2591526.0\n",
       "349   TIMES SQ-42 ST   2552338.0\n",
       "225        FULTON ST   2249652.0\n",
       "109            86 ST   2210359.0\n",
       "9             125 ST   2113970.0\n",
       "84             59 ST   1924367.0\n",
       "85    59 ST COLUMBUS   1899990.0\n",
       "172         CANAL ST   1881716.0\n",
       "114            96 ST   1703842.0\n",
       "13             14 ST   1654537.0\n",
       "179      CHAMBERS ST   1591681.0\n",
       "216    FLUSHING-MAIN   1511605.0\n",
       "72    47-50 STS ROCK   1394959.0\n",
       "312     PATH NEW WTC   1280258.0\n",
       "256  JKSN HT-ROOSVLT   1279171.0"
      ]
     },
     "execution_count": 41,
     "metadata": {},
     "output_type": "execute_result"
    }
   ],
   "source": [
    "stationDF.head(20)"
   ]
  },
  {
   "cell_type": "code",
   "execution_count": 42,
   "metadata": {
    "collapsed": true
   },
   "outputs": [],
   "source": [
    "#stationDF.to_csv(\"stations.csv\",index_label=\"Index\")"
   ]
  },
  {
   "cell_type": "code",
   "execution_count": 43,
   "metadata": {
    "collapsed": true
   },
   "outputs": [],
   "source": [
    "stationLineDF = df2.groupby([\"STATIONLINE\"]).ENTRYCOUNT.sum().reset_index()\n",
    "stationLineDF.sort_values('ENTRYCOUNT',ascending=False,inplace=True)"
   ]
  },
  {
   "cell_type": "code",
   "execution_count": 44,
   "metadata": {
    "collapsed": true
   },
   "outputs": [],
   "source": [
    "stationLineDF.to_csv(\"stationsandlines.csv\",index_label=\"Index\")"
   ]
  },
  {
   "cell_type": "code",
   "execution_count": 45,
   "metadata": {
    "collapsed": true
   },
   "outputs": [],
   "source": [
    "top100 = stationDF[:100]"
   ]
  },
  {
   "cell_type": "code",
   "execution_count": 46,
   "metadata": {},
   "outputs": [
    {
     "data": {
      "text/plain": [
       "100"
      ]
     },
     "execution_count": 46,
     "metadata": {},
     "output_type": "execute_result"
    }
   ],
   "source": [
    "len(top100) # check"
   ]
  },
  {
   "cell_type": "code",
   "execution_count": 47,
   "metadata": {},
   "outputs": [
    {
     "data": {
      "text/html": [
       "<div>\n",
       "<style>\n",
       "    .dataframe thead tr:only-child th {\n",
       "        text-align: right;\n",
       "    }\n",
       "\n",
       "    .dataframe thead th {\n",
       "        text-align: left;\n",
       "    }\n",
       "\n",
       "    .dataframe tbody tr th {\n",
       "        vertical-align: top;\n",
       "    }\n",
       "</style>\n",
       "<table border=\"1\" class=\"dataframe\">\n",
       "  <thead>\n",
       "    <tr style=\"text-align: right;\">\n",
       "      <th></th>\n",
       "      <th>STATION</th>\n",
       "      <th>ENTRYCOUNT</th>\n",
       "    </tr>\n",
       "  </thead>\n",
       "  <tbody>\n",
       "    <tr>\n",
       "      <th>61</th>\n",
       "      <td>34 ST-PENN STA</td>\n",
       "      <td>4073356.0</td>\n",
       "    </tr>\n",
       "    <tr>\n",
       "      <th>232</th>\n",
       "      <td>GRD CNTRL-42 ST</td>\n",
       "      <td>3564273.0</td>\n",
       "    </tr>\n",
       "    <tr>\n",
       "      <th>59</th>\n",
       "      <td>34 ST-HERALD SQ</td>\n",
       "      <td>3177042.0</td>\n",
       "    </tr>\n",
       "    <tr>\n",
       "      <th>46</th>\n",
       "      <td>23 ST</td>\n",
       "      <td>3066421.0</td>\n",
       "    </tr>\n",
       "    <tr>\n",
       "      <th>14</th>\n",
       "      <td>14 ST-UNION SQ</td>\n",
       "      <td>2721362.0</td>\n",
       "    </tr>\n",
       "  </tbody>\n",
       "</table>\n",
       "</div>"
      ],
      "text/plain": [
       "             STATION  ENTRYCOUNT\n",
       "61    34 ST-PENN STA   4073356.0\n",
       "232  GRD CNTRL-42 ST   3564273.0\n",
       "59   34 ST-HERALD SQ   3177042.0\n",
       "46             23 ST   3066421.0\n",
       "14    14 ST-UNION SQ   2721362.0"
      ]
     },
     "execution_count": 47,
     "metadata": {},
     "output_type": "execute_result"
    }
   ],
   "source": [
    "top100.head()"
   ]
  },
  {
   "cell_type": "code",
   "execution_count": 48,
   "metadata": {},
   "outputs": [
    {
     "data": {
      "text/plain": [
       "374"
      ]
     },
     "execution_count": 48,
     "metadata": {},
     "output_type": "execute_result"
    }
   ],
   "source": [
    "len(stationDF)"
   ]
  },
  {
   "cell_type": "code",
   "execution_count": 49,
   "metadata": {
    "collapsed": true
   },
   "outputs": [],
   "source": [
    "mid = stationDF[int(len(stationDF)/2):int((len(stationDF)/2)+5)]"
   ]
  },
  {
   "cell_type": "code",
   "execution_count": 50,
   "metadata": {},
   "outputs": [
    {
     "data": {
      "text/html": [
       "<div>\n",
       "<style>\n",
       "    .dataframe thead tr:only-child th {\n",
       "        text-align: right;\n",
       "    }\n",
       "\n",
       "    .dataframe thead th {\n",
       "        text-align: left;\n",
       "    }\n",
       "\n",
       "    .dataframe tbody tr th {\n",
       "        vertical-align: top;\n",
       "    }\n",
       "</style>\n",
       "<table border=\"1\" class=\"dataframe\">\n",
       "  <thead>\n",
       "    <tr style=\"text-align: right;\">\n",
       "      <th></th>\n",
       "      <th>STATION</th>\n",
       "      <th>ENTRYCOUNT</th>\n",
       "    </tr>\n",
       "  </thead>\n",
       "  <tbody>\n",
       "    <tr>\n",
       "      <th>283</th>\n",
       "      <td>MOSHOLU PKWY</td>\n",
       "      <td>220432.0</td>\n",
       "    </tr>\n",
       "    <tr>\n",
       "      <th>37</th>\n",
       "      <td>191 ST</td>\n",
       "      <td>219385.0</td>\n",
       "    </tr>\n",
       "    <tr>\n",
       "      <th>352</th>\n",
       "      <td>TWENTY THIRD ST</td>\n",
       "      <td>218981.0</td>\n",
       "    </tr>\n",
       "    <tr>\n",
       "      <th>69</th>\n",
       "      <td>45 ST</td>\n",
       "      <td>214047.0</td>\n",
       "    </tr>\n",
       "    <tr>\n",
       "      <th>240</th>\n",
       "      <td>HIGH ST</td>\n",
       "      <td>213612.0</td>\n",
       "    </tr>\n",
       "  </tbody>\n",
       "</table>\n",
       "</div>"
      ],
      "text/plain": [
       "             STATION  ENTRYCOUNT\n",
       "283     MOSHOLU PKWY    220432.0\n",
       "37            191 ST    219385.0\n",
       "352  TWENTY THIRD ST    218981.0\n",
       "69             45 ST    214047.0\n",
       "240          HIGH ST    213612.0"
      ]
     },
     "execution_count": 50,
     "metadata": {},
     "output_type": "execute_result"
    }
   ],
   "source": [
    "mid.head()"
   ]
  },
  {
   "cell_type": "code",
   "execution_count": 51,
   "metadata": {
    "collapsed": true
   },
   "outputs": [],
   "source": [
    "# Replace Days with Name Days\n",
    "df2['DAY']= df2.DATETIME.dt.dayofweek"
   ]
  },
  {
   "cell_type": "code",
   "execution_count": 52,
   "metadata": {},
   "outputs": [
    {
     "data": {
      "text/plain": [
       "0    113585\n",
       "3    113363\n",
       "1    113181\n",
       "2    113051\n",
       "5    112397\n",
       "6    112264\n",
       "4    111929\n",
       "Name: DAY, dtype: int64"
      ]
     },
     "execution_count": 52,
     "metadata": {},
     "output_type": "execute_result"
    }
   ],
   "source": [
    "df2.DAY.value_counts()"
   ]
  },
  {
   "cell_type": "code",
   "execution_count": 53,
   "metadata": {
    "collapsed": true
   },
   "outputs": [],
   "source": [
    "df2['NAMEDAY']=df2.DAY.replace({0:'1_Monday',1:'2_Tuesday', 2:'3_Wednesday', 3:'4_Thursday',\n",
    "                       4:'5_Friday', 5:'6_Saturday',6:'7_Sunday'})"
   ]
  },
  {
   "cell_type": "code",
   "execution_count": 54,
   "metadata": {},
   "outputs": [
    {
     "data": {
      "text/plain": [
       "4699"
      ]
     },
     "execution_count": 54,
     "metadata": {},
     "output_type": "execute_result"
    }
   ],
   "source": [
    "df2.ENTRYCOUNT.isnull().sum()"
   ]
  },
  {
   "cell_type": "code",
   "execution_count": 55,
   "metadata": {
    "collapsed": true
   },
   "outputs": [],
   "source": [
    "df2['HOUR']= df2.DATETIME.dt.hour"
   ]
  },
  {
   "cell_type": "code",
   "execution_count": 56,
   "metadata": {
    "collapsed": true
   },
   "outputs": [],
   "source": [
    "# Drop Null Values\n",
    "df2.dropna(subset=[\"ENTRYCOUNT\"], axis=0, inplace=True)"
   ]
  },
  {
   "cell_type": "code",
   "execution_count": 57,
   "metadata": {},
   "outputs": [
    {
     "data": {
      "text/plain": [
       "(785071, 16)"
      ]
     },
     "execution_count": 57,
     "metadata": {},
     "output_type": "execute_result"
    }
   ],
   "source": [
    "df2.shape"
   ]
  },
  {
   "cell_type": "code",
   "execution_count": 58,
   "metadata": {
    "collapsed": true
   },
   "outputs": [],
   "source": [
    "stationDF = df2.groupby([\"STATION\",'LINENAME']).ENTRYCOUNT.sum().reset_index()\n",
    "stationDF.sort_values('ENTRYCOUNT',ascending=False,inplace=True)"
   ]
  },
  {
   "cell_type": "code",
   "execution_count": 59,
   "metadata": {},
   "outputs": [
    {
     "data": {
      "text/html": [
       "<div>\n",
       "<style>\n",
       "    .dataframe thead tr:only-child th {\n",
       "        text-align: right;\n",
       "    }\n",
       "\n",
       "    .dataframe thead th {\n",
       "        text-align: left;\n",
       "    }\n",
       "\n",
       "    .dataframe tbody tr th {\n",
       "        vertical-align: top;\n",
       "    }\n",
       "</style>\n",
       "<table border=\"1\" class=\"dataframe\">\n",
       "  <thead>\n",
       "    <tr style=\"text-align: right;\">\n",
       "      <th></th>\n",
       "      <th>STATION</th>\n",
       "      <th>LINENAME</th>\n",
       "      <th>ENTRYCOUNT</th>\n",
       "    </tr>\n",
       "  </thead>\n",
       "  <tbody>\n",
       "    <tr>\n",
       "      <th>312</th>\n",
       "      <td>GRD CNTRL-42 ST</td>\n",
       "      <td>4567S</td>\n",
       "      <td>3564273.0</td>\n",
       "    </tr>\n",
       "    <tr>\n",
       "      <th>90</th>\n",
       "      <td>34 ST-HERALD SQ</td>\n",
       "      <td>BDFMNQRW</td>\n",
       "      <td>3177042.0</td>\n",
       "    </tr>\n",
       "    <tr>\n",
       "      <th>103</th>\n",
       "      <td>42 ST-PORT AUTH</td>\n",
       "      <td>ACENQRS1237W</td>\n",
       "      <td>2239229.0</td>\n",
       "    </tr>\n",
       "    <tr>\n",
       "      <th>94</th>\n",
       "      <td>34 ST-PENN STA</td>\n",
       "      <td>ACE</td>\n",
       "      <td>1926165.0</td>\n",
       "    </tr>\n",
       "    <tr>\n",
       "      <th>28</th>\n",
       "      <td>14 ST-UNION SQ</td>\n",
       "      <td>LNQR456W</td>\n",
       "      <td>1894751.0</td>\n",
       "    </tr>\n",
       "  </tbody>\n",
       "</table>\n",
       "</div>"
      ],
      "text/plain": [
       "             STATION      LINENAME  ENTRYCOUNT\n",
       "312  GRD CNTRL-42 ST         4567S   3564273.0\n",
       "90   34 ST-HERALD SQ      BDFMNQRW   3177042.0\n",
       "103  42 ST-PORT AUTH  ACENQRS1237W   2239229.0\n",
       "94    34 ST-PENN STA           ACE   1926165.0\n",
       "28    14 ST-UNION SQ      LNQR456W   1894751.0"
      ]
     },
     "execution_count": 59,
     "metadata": {},
     "output_type": "execute_result"
    }
   ],
   "source": [
    "stationDF.head()"
   ]
  },
  {
   "cell_type": "code",
   "execution_count": 60,
   "metadata": {
    "collapsed": true,
    "scrolled": true
   },
   "outputs": [],
   "source": [
    "#top10.ENTRYCOUNT.sum()/df2.ENTRYCOUNT.sum()*100"
   ]
  },
  {
   "cell_type": "code",
   "execution_count": 61,
   "metadata": {
    "collapsed": true
   },
   "outputs": [],
   "source": [
    "#top10.ENTRYCOUNT.sum()"
   ]
  },
  {
   "cell_type": "code",
   "execution_count": 62,
   "metadata": {},
   "outputs": [
    {
     "data": {
      "text/plain": [
       "374"
      ]
     },
     "execution_count": 62,
     "metadata": {},
     "output_type": "execute_result"
    }
   ],
   "source": [
    "df2.STATION.nunique()"
   ]
  },
  {
   "cell_type": "code",
   "execution_count": 63,
   "metadata": {
    "collapsed": true
   },
   "outputs": [],
   "source": [
    "top10 = stationDF[:10]"
   ]
  },
  {
   "cell_type": "code",
   "execution_count": 64,
   "metadata": {},
   "outputs": [
    {
     "data": {
      "text/html": [
       "<div>\n",
       "<style>\n",
       "    .dataframe thead tr:only-child th {\n",
       "        text-align: right;\n",
       "    }\n",
       "\n",
       "    .dataframe thead th {\n",
       "        text-align: left;\n",
       "    }\n",
       "\n",
       "    .dataframe tbody tr th {\n",
       "        vertical-align: top;\n",
       "    }\n",
       "</style>\n",
       "<table border=\"1\" class=\"dataframe\">\n",
       "  <thead>\n",
       "    <tr style=\"text-align: right;\">\n",
       "      <th></th>\n",
       "      <th>STATION</th>\n",
       "      <th>LINENAME</th>\n",
       "      <th>ENTRYCOUNT</th>\n",
       "    </tr>\n",
       "  </thead>\n",
       "  <tbody>\n",
       "    <tr>\n",
       "      <th>312</th>\n",
       "      <td>GRD CNTRL-42 ST</td>\n",
       "      <td>4567S</td>\n",
       "      <td>3564273.0</td>\n",
       "    </tr>\n",
       "    <tr>\n",
       "      <th>90</th>\n",
       "      <td>34 ST-HERALD SQ</td>\n",
       "      <td>BDFMNQRW</td>\n",
       "      <td>3177042.0</td>\n",
       "    </tr>\n",
       "    <tr>\n",
       "      <th>103</th>\n",
       "      <td>42 ST-PORT AUTH</td>\n",
       "      <td>ACENQRS1237W</td>\n",
       "      <td>2239229.0</td>\n",
       "    </tr>\n",
       "    <tr>\n",
       "      <th>94</th>\n",
       "      <td>34 ST-PENN STA</td>\n",
       "      <td>ACE</td>\n",
       "      <td>1926165.0</td>\n",
       "    </tr>\n",
       "    <tr>\n",
       "      <th>28</th>\n",
       "      <td>14 ST-UNION SQ</td>\n",
       "      <td>LNQR456W</td>\n",
       "      <td>1894751.0</td>\n",
       "    </tr>\n",
       "    <tr>\n",
       "      <th>445</th>\n",
       "      <td>TIMES SQ-42 ST</td>\n",
       "      <td>1237ACENQRSW</td>\n",
       "      <td>1672859.0</td>\n",
       "    </tr>\n",
       "    <tr>\n",
       "      <th>289</th>\n",
       "      <td>FLUSHING-MAIN</td>\n",
       "      <td>7</td>\n",
       "      <td>1511605.0</td>\n",
       "    </tr>\n",
       "    <tr>\n",
       "      <th>125</th>\n",
       "      <td>59 ST COLUMBUS</td>\n",
       "      <td>ABCD1</td>\n",
       "      <td>1500836.0</td>\n",
       "    </tr>\n",
       "    <tr>\n",
       "      <th>302</th>\n",
       "      <td>FULTON ST</td>\n",
       "      <td>2345ACJZ</td>\n",
       "      <td>1435955.0</td>\n",
       "    </tr>\n",
       "    <tr>\n",
       "      <th>107</th>\n",
       "      <td>47-50 STS ROCK</td>\n",
       "      <td>BDFM</td>\n",
       "      <td>1394959.0</td>\n",
       "    </tr>\n",
       "  </tbody>\n",
       "</table>\n",
       "</div>"
      ],
      "text/plain": [
       "             STATION      LINENAME  ENTRYCOUNT\n",
       "312  GRD CNTRL-42 ST         4567S   3564273.0\n",
       "90   34 ST-HERALD SQ      BDFMNQRW   3177042.0\n",
       "103  42 ST-PORT AUTH  ACENQRS1237W   2239229.0\n",
       "94    34 ST-PENN STA           ACE   1926165.0\n",
       "28    14 ST-UNION SQ      LNQR456W   1894751.0\n",
       "445   TIMES SQ-42 ST  1237ACENQRSW   1672859.0\n",
       "289    FLUSHING-MAIN             7   1511605.0\n",
       "125   59 ST COLUMBUS         ABCD1   1500836.0\n",
       "302        FULTON ST      2345ACJZ   1435955.0\n",
       "107   47-50 STS ROCK          BDFM   1394959.0"
      ]
     },
     "execution_count": 64,
     "metadata": {},
     "output_type": "execute_result"
    }
   ],
   "source": [
    "top10.head(10)"
   ]
  },
  {
   "cell_type": "markdown",
   "metadata": {},
   "source": [
    "## Plotting Penn Station"
   ]
  },
  {
   "cell_type": "code",
   "execution_count": 65,
   "metadata": {
    "collapsed": true
   },
   "outputs": [],
   "source": [
    "top5 = stationDF[:5]"
   ]
  },
  {
   "cell_type": "code",
   "execution_count": 66,
   "metadata": {},
   "outputs": [
    {
     "data": {
      "text/plain": [
       "<matplotlib.axes._subplots.AxesSubplot at 0x11db608d0>"
      ]
     },
     "execution_count": 66,
     "metadata": {},
     "output_type": "execute_result"
    },
    {
     "data": {
      "image/png": "[encoded data removed]",
      "text/plain": [
       "<matplotlib.figure.Figure at 0x11db6cda0>"
      ]
     },
     "metadata": {},
     "output_type": "display_data"
    }
   ],
   "source": [
    "sns.distplot(top5.ENTRYCOUNT)"
   ]
  },
  {
   "cell_type": "code",
   "execution_count": 67,
   "metadata": {
    "collapsed": true
   },
   "outputs": [],
   "source": [
    "customFig = (10,8)"
   ]
  },
  {
   "cell_type": "code",
   "execution_count": 68,
   "metadata": {},
   "outputs": [
    {
     "data": {
      "image/png": "[encoded data removed]",
      "text/plain": [
       "<matplotlib.figure.Figure at 0x143f82240>"
      ]
     },
     "metadata": {},
     "output_type": "display_data"
    }
   ],
   "source": [
    "topBar = top5.plot(kind='barh',x='STATION',sort_columns=\"ENTRYCOUNT\", figsize=customFig)\n",
    "topBar.invert_yaxis()"
   ]
  },
  {
   "cell_type": "code",
   "execution_count": 69,
   "metadata": {
    "collapsed": true
   },
   "outputs": [],
   "source": [
    "pennDF = df2.loc[df2.STATION == '34 ST-PENN STA']"
   ]
  },
  {
   "cell_type": "code",
   "execution_count": 70,
   "metadata": {},
   "outputs": [
    {
     "data": {
      "text/html": [
       "<div>\n",
       "<style>\n",
       "    .dataframe thead tr:only-child th {\n",
       "        text-align: right;\n",
       "    }\n",
       "\n",
       "    .dataframe thead th {\n",
       "        text-align: left;\n",
       "    }\n",
       "\n",
       "    .dataframe tbody tr th {\n",
       "        vertical-align: top;\n",
       "    }\n",
       "</style>\n",
       "<table border=\"1\" class=\"dataframe\">\n",
       "  <thead>\n",
       "    <tr style=\"text-align: right;\">\n",
       "      <th></th>\n",
       "      <th>C/A</th>\n",
       "      <th>UNIT</th>\n",
       "      <th>SCP</th>\n",
       "      <th>STATION</th>\n",
       "      <th>LINENAME</th>\n",
       "      <th>DIVISION</th>\n",
       "      <th>DATE</th>\n",
       "      <th>TIME</th>\n",
       "      <th>ENTRIES</th>\n",
       "      <th>KEY</th>\n",
       "      <th>STATIONLINE</th>\n",
       "      <th>DATETIME</th>\n",
       "      <th>ENTRYCOUNT</th>\n",
       "      <th>DAY</th>\n",
       "      <th>NAMEDAY</th>\n",
       "      <th>HOUR</th>\n",
       "    </tr>\n",
       "  </thead>\n",
       "  <tbody>\n",
       "    <tr>\n",
       "      <th>50417</th>\n",
       "      <td>N067</td>\n",
       "      <td>R012</td>\n",
       "      <td>00-00-00</td>\n",
       "      <td>34 ST-PENN STA</td>\n",
       "      <td>ACE</td>\n",
       "      <td>IND</td>\n",
       "      <td>04/15/2017</td>\n",
       "      <td>04:00:00</td>\n",
       "      <td>1803492</td>\n",
       "      <td>N067,R012,00-00-00,34 ST-PENN STA</td>\n",
       "      <td>34 ST-PENN STA_ACE</td>\n",
       "      <td>2017-04-15 04:00:00</td>\n",
       "      <td>1.0</td>\n",
       "      <td>5</td>\n",
       "      <td>6_Saturday</td>\n",
       "      <td>4</td>\n",
       "    </tr>\n",
       "    <tr>\n",
       "      <th>50418</th>\n",
       "      <td>N067</td>\n",
       "      <td>R012</td>\n",
       "      <td>00-00-00</td>\n",
       "      <td>34 ST-PENN STA</td>\n",
       "      <td>ACE</td>\n",
       "      <td>IND</td>\n",
       "      <td>04/15/2017</td>\n",
       "      <td>08:00:00</td>\n",
       "      <td>1803497</td>\n",
       "      <td>N067,R012,00-00-00,34 ST-PENN STA</td>\n",
       "      <td>34 ST-PENN STA_ACE</td>\n",
       "      <td>2017-04-15 08:00:00</td>\n",
       "      <td>5.0</td>\n",
       "      <td>5</td>\n",
       "      <td>6_Saturday</td>\n",
       "      <td>8</td>\n",
       "    </tr>\n",
       "    <tr>\n",
       "      <th>50419</th>\n",
       "      <td>N067</td>\n",
       "      <td>R012</td>\n",
       "      <td>00-00-00</td>\n",
       "      <td>34 ST-PENN STA</td>\n",
       "      <td>ACE</td>\n",
       "      <td>IND</td>\n",
       "      <td>04/15/2017</td>\n",
       "      <td>12:00:00</td>\n",
       "      <td>1803540</td>\n",
       "      <td>N067,R012,00-00-00,34 ST-PENN STA</td>\n",
       "      <td>34 ST-PENN STA_ACE</td>\n",
       "      <td>2017-04-15 12:00:00</td>\n",
       "      <td>43.0</td>\n",
       "      <td>5</td>\n",
       "      <td>6_Saturday</td>\n",
       "      <td>12</td>\n",
       "    </tr>\n",
       "    <tr>\n",
       "      <th>50420</th>\n",
       "      <td>N067</td>\n",
       "      <td>R012</td>\n",
       "      <td>00-00-00</td>\n",
       "      <td>34 ST-PENN STA</td>\n",
       "      <td>ACE</td>\n",
       "      <td>IND</td>\n",
       "      <td>04/15/2017</td>\n",
       "      <td>16:00:00</td>\n",
       "      <td>1803584</td>\n",
       "      <td>N067,R012,00-00-00,34 ST-PENN STA</td>\n",
       "      <td>34 ST-PENN STA_ACE</td>\n",
       "      <td>2017-04-15 16:00:00</td>\n",
       "      <td>44.0</td>\n",
       "      <td>5</td>\n",
       "      <td>6_Saturday</td>\n",
       "      <td>16</td>\n",
       "    </tr>\n",
       "    <tr>\n",
       "      <th>50421</th>\n",
       "      <td>N067</td>\n",
       "      <td>R012</td>\n",
       "      <td>00-00-00</td>\n",
       "      <td>34 ST-PENN STA</td>\n",
       "      <td>ACE</td>\n",
       "      <td>IND</td>\n",
       "      <td>04/15/2017</td>\n",
       "      <td>20:00:00</td>\n",
       "      <td>1803606</td>\n",
       "      <td>N067,R012,00-00-00,34 ST-PENN STA</td>\n",
       "      <td>34 ST-PENN STA_ACE</td>\n",
       "      <td>2017-04-15 20:00:00</td>\n",
       "      <td>22.0</td>\n",
       "      <td>5</td>\n",
       "      <td>6_Saturday</td>\n",
       "      <td>20</td>\n",
       "    </tr>\n",
       "  </tbody>\n",
       "</table>\n",
       "</div>"
      ],
      "text/plain": [
       "        C/A  UNIT       SCP         STATION LINENAME DIVISION        DATE  \\\n",
       "50417  N067  R012  00-00-00  34 ST-PENN STA      ACE      IND  04/15/2017   \n",
       "50418  N067  R012  00-00-00  34 ST-PENN STA      ACE      IND  04/15/2017   \n",
       "50419  N067  R012  00-00-00  34 ST-PENN STA      ACE      IND  04/15/2017   \n",
       "50420  N067  R012  00-00-00  34 ST-PENN STA      ACE      IND  04/15/2017   \n",
       "50421  N067  R012  00-00-00  34 ST-PENN STA      ACE      IND  04/15/2017   \n",
       "\n",
       "           TIME  ENTRIES                                KEY  \\\n",
       "50417  04:00:00  1803492  N067,R012,00-00-00,34 ST-PENN STA   \n",
       "50418  08:00:00  1803497  N067,R012,00-00-00,34 ST-PENN STA   \n",
       "50419  12:00:00  1803540  N067,R012,00-00-00,34 ST-PENN STA   \n",
       "50420  16:00:00  1803584  N067,R012,00-00-00,34 ST-PENN STA   \n",
       "50421  20:00:00  1803606  N067,R012,00-00-00,34 ST-PENN STA   \n",
       "\n",
       "              STATIONLINE            DATETIME  ENTRYCOUNT  DAY     NAMEDAY  \\\n",
       "50417  34 ST-PENN STA_ACE 2017-04-15 04:00:00         1.0    5  6_Saturday   \n",
       "50418  34 ST-PENN STA_ACE 2017-04-15 08:00:00         5.0    5  6_Saturday   \n",
       "50419  34 ST-PENN STA_ACE 2017-04-15 12:00:00        43.0    5  6_Saturday   \n",
       "50420  34 ST-PENN STA_ACE 2017-04-15 16:00:00        44.0    5  6_Saturday   \n",
       "50421  34 ST-PENN STA_ACE 2017-04-15 20:00:00        22.0    5  6_Saturday   \n",
       "\n",
       "       HOUR  \n",
       "50417     4  \n",
       "50418     8  \n",
       "50419    12  \n",
       "50420    16  \n",
       "50421    20  "
      ]
     },
     "execution_count": 70,
     "metadata": {},
     "output_type": "execute_result"
    }
   ],
   "source": [
    "pennDF.head()"
   ]
  },
  {
   "cell_type": "code",
   "execution_count": 71,
   "metadata": {},
   "outputs": [
    {
     "data": {
      "text/plain": [
       "NAMEDAY\n",
       "1_Monday       660653.0\n",
       "2_Tuesday      683384.0\n",
       "3_Wednesday    708493.0\n",
       "4_Thursday     656074.0\n",
       "5_Friday       691649.0\n",
       "6_Saturday     368430.0\n",
       "7_Sunday       304673.0\n",
       "Name: ENTRYCOUNT, dtype: float64"
      ]
     },
     "execution_count": 71,
     "metadata": {},
     "output_type": "execute_result"
    }
   ],
   "source": [
    "pennDayGroup = pennDF.groupby('NAMEDAY').ENTRYCOUNT.sum()\n",
    "pennDayGroup"
   ]
  },
  {
   "cell_type": "code",
   "execution_count": 72,
   "metadata": {},
   "outputs": [
    {
     "data": {
      "text/plain": [
       "<matplotlib.axes._subplots.AxesSubplot at 0x10e2b8860>"
      ]
     },
     "execution_count": 72,
     "metadata": {},
     "output_type": "execute_result"
    },
    {
     "data": {
      "image/png": "[encoded data removed]",
      "text/plain": [
       "<matplotlib.figure.Figure at 0x11ba91d30>"
      ]
     },
     "metadata": {},
     "output_type": "display_data"
    }
   ],
   "source": [
    "pennDayGroup.plot(kind='line',figsize=customFig, linewidth=3.5)"
   ]
  },
  {
   "cell_type": "code",
   "execution_count": 73,
   "metadata": {},
   "outputs": [
    {
     "data": {
      "text/plain": [
       "<matplotlib.axes._subplots.AxesSubplot at 0x11be59fd0>"
      ]
     },
     "execution_count": 73,
     "metadata": {},
     "output_type": "execute_result"
    },
    {
     "data": {
      "image/png": "[encoded data removed]",
      "text/plain": [
       "<matplotlib.figure.Figure at 0x11ba85400>"
      ]
     },
     "metadata": {},
     "output_type": "display_data"
    }
   ],
   "source": [
    "pennHourGroup = pennDF.groupby('HOUR').ENTRYCOUNT.sum()\n",
    "pennHourGroup.plot(kind='line', figsize=customFig, linewidth = 3.5)"
   ]
  },
  {
   "cell_type": "code",
   "execution_count": 74,
   "metadata": {},
   "outputs": [
    {
     "data": {
      "text/plain": [
       "HOUR\n",
       "0     330519.0\n",
       "2      79979.0\n",
       "3        128.0\n",
       "4      41169.0\n",
       "5        298.0\n",
       "6      43893.0\n",
       "7      18962.0\n",
       "8     341159.0\n",
       "9      79773.0\n",
       "10    426635.0\n",
       "11      4231.0\n",
       "12    752546.0\n",
       "13      2716.0\n",
       "14    206223.0\n",
       "15      7403.0\n",
       "16    455094.0\n",
       "17      1185.0\n",
       "18    277761.0\n",
       "20    769254.0\n",
       "21        19.0\n",
       "22    234409.0\n",
       "Name: ENTRYCOUNT, dtype: float64"
      ]
     },
     "execution_count": 74,
     "metadata": {},
     "output_type": "execute_result"
    }
   ],
   "source": [
    "pennHourGroup"
   ]
  },
  {
   "cell_type": "code",
   "execution_count": 75,
   "metadata": {
    "collapsed": true
   },
   "outputs": [],
   "source": [
    "unionSquareDF = df2.loc[df2.STATION == '14 ST-UNION SQ']"
   ]
  },
  {
   "cell_type": "code",
   "execution_count": 76,
   "metadata": {
    "collapsed": true
   },
   "outputs": [],
   "source": [
    "unionSquareDayGroup = unionSquareDF.groupby('NAMEDAY').ENTRYCOUNT.sum()"
   ]
  },
  {
   "cell_type": "code",
   "execution_count": 77,
   "metadata": {},
   "outputs": [],
   "source": [
    "#twentyDayGroup.plot(kind='line',figsize=customFig, linewidth=3.5)"
   ]
  },
  {
   "cell_type": "code",
   "execution_count": 78,
   "metadata": {},
   "outputs": [
    {
     "data": {
      "text/plain": [
       "<matplotlib.axes._subplots.AxesSubplot at 0x10e1c8c50>"
      ]
     },
     "execution_count": 78,
     "metadata": {},
     "output_type": "execute_result"
    },
    {
     "data": {
      "image/png": "[encoded data removed]",
      "text/plain": [
       "<matplotlib.figure.Figure at 0x10e1c2f98>"
      ]
     },
     "metadata": {},
     "output_type": "display_data"
    }
   ],
   "source": [
    "unionSquareHourGroup = unionSquareDF.groupby('HOUR').ENTRYCOUNT.sum()\n",
    "unionSquareHourGroup.plot(kind='line', figsize=customFig, linewidth=3.5)"
   ]
  },
  {
   "cell_type": "code",
   "execution_count": 79,
   "metadata": {
    "collapsed": true
   },
   "outputs": [],
   "source": [
    "#pennDF.DATETIME.value_counts()"
   ]
  },
  {
   "cell_type": "code",
   "execution_count": 80,
   "metadata": {
    "collapsed": true
   },
   "outputs": [],
   "source": [
    "# time_group = df2.groupby(pd.TimeGrouper(by='TIME',level='Time', freq='2H'))['ENTRYCOUNT'].agg('sum')   \n",
    "# time_group.dropna(inplace=True)\n",
    "# time_group = time_group.to_frame().reset_index()\n",
    "# print(time_group)"
   ]
  },
  {
   "cell_type": "code",
   "execution_count": 81,
   "metadata": {
    "collapsed": true
   },
   "outputs": [],
   "source": [
    "topNYCDF = df2.loc[(df2.STATION == 'GRD CNTRL-42 ST') | (df2.STATION == '34 ST-HERALD SQ') | \n",
    "                (df2.STATION == '42 ST-PORT AUTH') | (df2.STATION == '34 ST-PENN STA') |\n",
    "                 (df2.STATION == '14 ST-UNION SQ')]"
   ]
  },
  {
   "cell_type": "code",
   "execution_count": 82,
   "metadata": {},
   "outputs": [
    {
     "data": {
      "text/html": [
       "<div>\n",
       "<style>\n",
       "    .dataframe thead tr:only-child th {\n",
       "        text-align: right;\n",
       "    }\n",
       "\n",
       "    .dataframe thead th {\n",
       "        text-align: left;\n",
       "    }\n",
       "\n",
       "    .dataframe tbody tr th {\n",
       "        vertical-align: top;\n",
       "    }\n",
       "</style>\n",
       "<table border=\"1\" class=\"dataframe\">\n",
       "  <thead>\n",
       "    <tr style=\"text-align: right;\">\n",
       "      <th></th>\n",
       "      <th>C/A</th>\n",
       "      <th>UNIT</th>\n",
       "      <th>SCP</th>\n",
       "      <th>STATION</th>\n",
       "      <th>LINENAME</th>\n",
       "      <th>DIVISION</th>\n",
       "      <th>DATE</th>\n",
       "      <th>TIME</th>\n",
       "      <th>ENTRIES</th>\n",
       "      <th>KEY</th>\n",
       "      <th>STATIONLINE</th>\n",
       "      <th>DATETIME</th>\n",
       "      <th>ENTRYCOUNT</th>\n",
       "      <th>DAY</th>\n",
       "      <th>NAMEDAY</th>\n",
       "      <th>HOUR</th>\n",
       "    </tr>\n",
       "  </thead>\n",
       "  <tbody>\n",
       "    <tr>\n",
       "      <th>2955</th>\n",
       "      <td>A022</td>\n",
       "      <td>R022</td>\n",
       "      <td>01-00-00</td>\n",
       "      <td>34 ST-HERALD SQ</td>\n",
       "      <td>BDFMNQRW</td>\n",
       "      <td>BMT</td>\n",
       "      <td>04/15/2017</td>\n",
       "      <td>04:00:00</td>\n",
       "      <td>23286840</td>\n",
       "      <td>A022,R022,01-00-00,34 ST-HERALD SQ</td>\n",
       "      <td>34 ST-HERALD SQ_BDFMNQRW</td>\n",
       "      <td>2017-04-15 04:00:00</td>\n",
       "      <td>209.0</td>\n",
       "      <td>5</td>\n",
       "      <td>6_Saturday</td>\n",
       "      <td>4</td>\n",
       "    </tr>\n",
       "    <tr>\n",
       "      <th>2956</th>\n",
       "      <td>A022</td>\n",
       "      <td>R022</td>\n",
       "      <td>01-00-00</td>\n",
       "      <td>34 ST-HERALD SQ</td>\n",
       "      <td>BDFMNQRW</td>\n",
       "      <td>BMT</td>\n",
       "      <td>04/15/2017</td>\n",
       "      <td>08:00:00</td>\n",
       "      <td>23286890</td>\n",
       "      <td>A022,R022,01-00-00,34 ST-HERALD SQ</td>\n",
       "      <td>34 ST-HERALD SQ_BDFMNQRW</td>\n",
       "      <td>2017-04-15 08:00:00</td>\n",
       "      <td>50.0</td>\n",
       "      <td>5</td>\n",
       "      <td>6_Saturday</td>\n",
       "      <td>8</td>\n",
       "    </tr>\n",
       "    <tr>\n",
       "      <th>2957</th>\n",
       "      <td>A022</td>\n",
       "      <td>R022</td>\n",
       "      <td>01-00-00</td>\n",
       "      <td>34 ST-HERALD SQ</td>\n",
       "      <td>BDFMNQRW</td>\n",
       "      <td>BMT</td>\n",
       "      <td>04/15/2017</td>\n",
       "      <td>12:00:00</td>\n",
       "      <td>23287303</td>\n",
       "      <td>A022,R022,01-00-00,34 ST-HERALD SQ</td>\n",
       "      <td>34 ST-HERALD SQ_BDFMNQRW</td>\n",
       "      <td>2017-04-15 12:00:00</td>\n",
       "      <td>413.0</td>\n",
       "      <td>5</td>\n",
       "      <td>6_Saturday</td>\n",
       "      <td>12</td>\n",
       "    </tr>\n",
       "    <tr>\n",
       "      <th>2958</th>\n",
       "      <td>A022</td>\n",
       "      <td>R022</td>\n",
       "      <td>01-00-00</td>\n",
       "      <td>34 ST-HERALD SQ</td>\n",
       "      <td>BDFMNQRW</td>\n",
       "      <td>BMT</td>\n",
       "      <td>04/15/2017</td>\n",
       "      <td>16:00:00</td>\n",
       "      <td>23288246</td>\n",
       "      <td>A022,R022,01-00-00,34 ST-HERALD SQ</td>\n",
       "      <td>34 ST-HERALD SQ_BDFMNQRW</td>\n",
       "      <td>2017-04-15 16:00:00</td>\n",
       "      <td>943.0</td>\n",
       "      <td>5</td>\n",
       "      <td>6_Saturday</td>\n",
       "      <td>16</td>\n",
       "    </tr>\n",
       "    <tr>\n",
       "      <th>2959</th>\n",
       "      <td>A022</td>\n",
       "      <td>R022</td>\n",
       "      <td>01-00-00</td>\n",
       "      <td>34 ST-HERALD SQ</td>\n",
       "      <td>BDFMNQRW</td>\n",
       "      <td>BMT</td>\n",
       "      <td>04/15/2017</td>\n",
       "      <td>20:00:00</td>\n",
       "      <td>23289516</td>\n",
       "      <td>A022,R022,01-00-00,34 ST-HERALD SQ</td>\n",
       "      <td>34 ST-HERALD SQ_BDFMNQRW</td>\n",
       "      <td>2017-04-15 20:00:00</td>\n",
       "      <td>1270.0</td>\n",
       "      <td>5</td>\n",
       "      <td>6_Saturday</td>\n",
       "      <td>20</td>\n",
       "    </tr>\n",
       "  </tbody>\n",
       "</table>\n",
       "</div>"
      ],
      "text/plain": [
       "       C/A  UNIT       SCP          STATION  LINENAME DIVISION        DATE  \\\n",
       "2955  A022  R022  01-00-00  34 ST-HERALD SQ  BDFMNQRW      BMT  04/15/2017   \n",
       "2956  A022  R022  01-00-00  34 ST-HERALD SQ  BDFMNQRW      BMT  04/15/2017   \n",
       "2957  A022  R022  01-00-00  34 ST-HERALD SQ  BDFMNQRW      BMT  04/15/2017   \n",
       "2958  A022  R022  01-00-00  34 ST-HERALD SQ  BDFMNQRW      BMT  04/15/2017   \n",
       "2959  A022  R022  01-00-00  34 ST-HERALD SQ  BDFMNQRW      BMT  04/15/2017   \n",
       "\n",
       "          TIME   ENTRIES                                 KEY  \\\n",
       "2955  04:00:00  23286840  A022,R022,01-00-00,34 ST-HERALD SQ   \n",
       "2956  08:00:00  23286890  A022,R022,01-00-00,34 ST-HERALD SQ   \n",
       "2957  12:00:00  23287303  A022,R022,01-00-00,34 ST-HERALD SQ   \n",
       "2958  16:00:00  23288246  A022,R022,01-00-00,34 ST-HERALD SQ   \n",
       "2959  20:00:00  23289516  A022,R022,01-00-00,34 ST-HERALD SQ   \n",
       "\n",
       "                   STATIONLINE            DATETIME  ENTRYCOUNT  DAY  \\\n",
       "2955  34 ST-HERALD SQ_BDFMNQRW 2017-04-15 04:00:00       209.0    5   \n",
       "2956  34 ST-HERALD SQ_BDFMNQRW 2017-04-15 08:00:00        50.0    5   \n",
       "2957  34 ST-HERALD SQ_BDFMNQRW 2017-04-15 12:00:00       413.0    5   \n",
       "2958  34 ST-HERALD SQ_BDFMNQRW 2017-04-15 16:00:00       943.0    5   \n",
       "2959  34 ST-HERALD SQ_BDFMNQRW 2017-04-15 20:00:00      1270.0    5   \n",
       "\n",
       "         NAMEDAY  HOUR  \n",
       "2955  6_Saturday     4  \n",
       "2956  6_Saturday     8  \n",
       "2957  6_Saturday    12  \n",
       "2958  6_Saturday    16  \n",
       "2959  6_Saturday    20  "
      ]
     },
     "execution_count": 82,
     "metadata": {},
     "output_type": "execute_result"
    }
   ],
   "source": [
    "topNYCDF.head()"
   ]
  },
  {
   "cell_type": "code",
   "execution_count": 83,
   "metadata": {},
   "outputs": [
    {
     "data": {
      "text/plain": [
       "(51426, 16)"
      ]
     },
     "execution_count": 83,
     "metadata": {},
     "output_type": "execute_result"
    }
   ],
   "source": [
    "topNYCDF.shape"
   ]
  },
  {
   "cell_type": "code",
   "execution_count": 84,
   "metadata": {},
   "outputs": [],
   "source": [
    "topNYCDayGroup = topNYCDF.groupby(['STATION','NAMEDAY']).ENTRYCOUNT.sum().reset_index()\n",
    "#pairDayGroup.plot(x='NAMEDAY', y='ENTRYCOUNT', figsize=(10,7))"
   ]
  },
  {
   "cell_type": "code",
   "execution_count": 85,
   "metadata": {
    "collapsed": true
   },
   "outputs": [],
   "source": [
    "#topNYCDayGroup"
   ]
  },
  {
   "cell_type": "code",
   "execution_count": 86,
   "metadata": {},
   "outputs": [
    {
     "data": {
      "text/plain": [
       "<matplotlib.axes._subplots.AxesSubplot at 0x11ba5a748>"
      ]
     },
     "execution_count": 86,
     "metadata": {},
     "output_type": "execute_result"
    },
    {
     "data": {
      "image/png": "[encoded data removed]",
      "text/plain": [
       "<matplotlib.figure.Figure at 0x11be079e8>"
      ]
     },
     "metadata": {},
     "output_type": "display_data"
    }
   ],
   "source": [
    "#pairDayGroup.plot(x='NAMEDAY', y='ENTRYCOUNT')\n",
    "# ax = plt.subplot()\n",
    "# sns.pointplot(x='DAY', y='ENTRYCOUNT', data=pairDayGroup,ax=ax, color='b')\n",
    "# sns.pointplot(x='DAY', y='ENTRYCOUNT', data=pairDayGroup,ax=ax, color='r')\n",
    "topNYCDayGroup.pivot('NAMEDAY','STATION','ENTRYCOUNT').plot(kind='line',figsize=customFig)"
   ]
  },
  {
   "cell_type": "code",
   "execution_count": 87,
   "metadata": {
    "collapsed": true
   },
   "outputs": [],
   "source": [
    "topNYCHour = topNYCDF[['STATION','HOUR','ENTRYCOUNT']].copy()\n",
    "topNYCHour.sort_values('ENTRYCOUNT', ascending=False,inplace=True)"
   ]
  },
  {
   "cell_type": "code",
   "execution_count": 88,
   "metadata": {
    "collapsed": true
   },
   "outputs": [],
   "source": [
    "topNYCHour = (topNYCHour\n",
    " .sort_values(by=['STATION','ENTRYCOUNT'], ascending=[True,False])\n",
    " .groupby('STATION')\n",
    " .head(1))"
   ]
  },
  {
   "cell_type": "code",
   "execution_count": 89,
   "metadata": {},
   "outputs": [
    {
     "data": {
      "text/html": [
       "<div>\n",
       "<style>\n",
       "    .dataframe thead tr:only-child th {\n",
       "        text-align: right;\n",
       "    }\n",
       "\n",
       "    .dataframe thead th {\n",
       "        text-align: left;\n",
       "    }\n",
       "\n",
       "    .dataframe tbody tr th {\n",
       "        vertical-align: top;\n",
       "    }\n",
       "</style>\n",
       "<table border=\"1\" class=\"dataframe\">\n",
       "  <thead>\n",
       "    <tr style=\"text-align: right;\">\n",
       "      <th></th>\n",
       "      <th>STATION</th>\n",
       "      <th>HOUR</th>\n",
       "      <th>ENTRYCOUNT</th>\n",
       "    </tr>\n",
       "  </thead>\n",
       "  <tbody>\n",
       "    <tr>\n",
       "      <th>4778</th>\n",
       "      <td>14 ST-UNION SQ</td>\n",
       "      <td>21</td>\n",
       "      <td>2796.0</td>\n",
       "    </tr>\n",
       "    <tr>\n",
       "      <th>3408</th>\n",
       "      <td>34 ST-HERALD SQ</td>\n",
       "      <td>20</td>\n",
       "      <td>2939.0</td>\n",
       "    </tr>\n",
       "    <tr>\n",
       "      <th>51961</th>\n",
       "      <td>34 ST-PENN STA</td>\n",
       "      <td>9</td>\n",
       "      <td>3994.0</td>\n",
       "    </tr>\n",
       "    <tr>\n",
       "      <th>49954</th>\n",
       "      <td>42 ST-PORT AUTH</td>\n",
       "      <td>12</td>\n",
       "      <td>2189.0</td>\n",
       "    </tr>\n",
       "    <tr>\n",
       "      <th>151834</th>\n",
       "      <td>GRD CNTRL-42 ST</td>\n",
       "      <td>20</td>\n",
       "      <td>4481.0</td>\n",
       "    </tr>\n",
       "  </tbody>\n",
       "</table>\n",
       "</div>"
      ],
      "text/plain": [
       "                STATION  HOUR  ENTRYCOUNT\n",
       "4778     14 ST-UNION SQ    21      2796.0\n",
       "3408    34 ST-HERALD SQ    20      2939.0\n",
       "51961    34 ST-PENN STA     9      3994.0\n",
       "49954   42 ST-PORT AUTH    12      2189.0\n",
       "151834  GRD CNTRL-42 ST    20      4481.0"
      ]
     },
     "execution_count": 89,
     "metadata": {},
     "output_type": "execute_result"
    }
   ],
   "source": [
    "topNYCHour"
   ]
  },
  {
   "cell_type": "code",
   "execution_count": 90,
   "metadata": {},
   "outputs": [
    {
     "data": {
      "text/plain": [
       "<matplotlib.axes._subplots.AxesSubplot at 0x11a19fa90>"
      ]
     },
     "execution_count": 90,
     "metadata": {},
     "output_type": "execute_result"
    },
    {
     "data": {
      "image/png": "[encoded data removed]",
      "text/plain": [
       "<matplotlib.figure.Figure at 0x11a1af940>"
      ]
     },
     "metadata": {},
     "output_type": "display_data"
    }
   ],
   "source": [
    "topNYCHour.plot(kind='bar', figsize=customFig,x='HOUR',y=\"ENTRYCOUNT\")"
   ]
  },
  {
   "cell_type": "code",
   "execution_count": 91,
   "metadata": {
    "collapsed": true
   },
   "outputs": [],
   "source": [
    "topTechDF = df2.loc[(df2.STATIONLINE == '23 ST_FM') | (df2.STATIONLINE == '33 ST_6') | \n",
    "                (df2.STATIONLINE == '14 ST_123FLM') | (df2.STATIONLINE == '14 ST_ACEL') |\n",
    "                 (df2.STATIONLINE == '23 ST_NRW')]\n"
   ]
  },
  {
   "cell_type": "code",
   "execution_count": 92,
   "metadata": {},
   "outputs": [
    {
     "data": {
      "text/plain": [
       "<matplotlib.axes._subplots.AxesSubplot at 0x11a1c6128>"
      ]
     },
     "execution_count": 92,
     "metadata": {},
     "output_type": "execute_result"
    },
    {
     "data": {
      "image/png": "[encoded data removed]",
      "text/plain": [
       "<matplotlib.figure.Figure at 0x11a1383c8>"
      ]
     },
     "metadata": {},
     "output_type": "display_data"
    }
   ],
   "source": [
    "topTechDayGroup = topTechDF.groupby(['STATIONLINE','NAMEDAY']).ENTRYCOUNT.sum().reset_index()\n",
    "topTechDayGroup.pivot('NAMEDAY','STATIONLINE','ENTRYCOUNT').plot(kind='line',figsize=customFig)"
   ]
  },
  {
   "cell_type": "code",
   "execution_count": 93,
   "metadata": {},
   "outputs": [
    {
     "data": {
      "text/plain": [
       "STATIONLINE   NAMEDAY    \n",
       "14 ST_123FLM  1_Monday        92483.0\n",
       "              2_Tuesday      100495.0\n",
       "              3_Wednesday    104472.0\n",
       "              4_Thursday     108331.0\n",
       "              5_Friday       107642.0\n",
       "              6_Saturday      85612.0\n",
       "              7_Sunday        78228.0\n",
       "14 ST_ACEL    1_Monday        75938.0\n",
       "              2_Tuesday       84059.0\n",
       "              3_Wednesday     86825.0\n",
       "              4_Thursday      89095.0\n",
       "              5_Friday        88433.0\n",
       "              6_Saturday      49164.0\n",
       "              7_Sunday        39654.0\n",
       "23 ST_FM      1_Monday       112246.0\n",
       "              2_Tuesday      127962.0\n",
       "              3_Wednesday    132693.0\n",
       "              4_Thursday     134076.0\n",
       "              5_Friday       125645.0\n",
       "              6_Saturday      55727.0\n",
       "              7_Sunday        39658.0\n",
       "23 ST_NRW     1_Monday        92131.0\n",
       "              2_Tuesday      106010.0\n",
       "              3_Wednesday    110543.0\n",
       "              4_Thursday     111287.0\n",
       "              5_Friday       105189.0\n",
       "              6_Saturday      64598.0\n",
       "              7_Sunday        49930.0\n",
       "33 ST_6       1_Monday       113368.0\n",
       "              2_Tuesday      125924.0\n",
       "              3_Wednesday    128291.0\n",
       "              4_Thursday     129955.0\n",
       "              5_Friday       123061.0\n",
       "              6_Saturday      58607.0\n",
       "              7_Sunday        45307.0\n",
       "Name: ENTRYCOUNT, dtype: float64"
      ]
     },
     "execution_count": 93,
     "metadata": {},
     "output_type": "execute_result"
    }
   ],
   "source": [
    "topTechDayGroupMax = topTechDF.groupby(['STATIONLINE','NAMEDAY']).ENTRYCOUNT.sum()\n",
    "topTechDayGroupMax"
   ]
  },
  {
   "cell_type": "code",
   "execution_count": 94,
   "metadata": {
    "collapsed": true
   },
   "outputs": [],
   "source": [
    "topTechHour = topTechDF[['STATIONLINE','HOUR','ENTRYCOUNT']].copy()\n",
    "topTechHour.sort_values('ENTRYCOUNT', ascending=False,inplace=True)"
   ]
  },
  {
   "cell_type": "code",
   "execution_count": 95,
   "metadata": {
    "collapsed": true
   },
   "outputs": [],
   "source": [
    "topTechHour = (topTechHour\n",
    " .sort_values(by=['STATIONLINE','ENTRYCOUNT'], ascending=[True,False])\n",
    " .groupby('STATIONLINE')\n",
    " .head(1))\n",
    "#topTechHour.groupby(['STATIONLINE','HOUR']).ENTRYCOUNT.max().head(1)"
   ]
  },
  {
   "cell_type": "code",
   "execution_count": 96,
   "metadata": {},
   "outputs": [
    {
     "data": {
      "text/html": [
       "<div>\n",
       "<style>\n",
       "    .dataframe thead tr:only-child th {\n",
       "        text-align: right;\n",
       "    }\n",
       "\n",
       "    .dataframe thead th {\n",
       "        text-align: left;\n",
       "    }\n",
       "\n",
       "    .dataframe tbody tr th {\n",
       "        vertical-align: top;\n",
       "    }\n",
       "</style>\n",
       "<table border=\"1\" class=\"dataframe\">\n",
       "  <thead>\n",
       "    <tr style=\"text-align: right;\">\n",
       "      <th></th>\n",
       "      <th>STATIONLINE</th>\n",
       "      <th>HOUR</th>\n",
       "      <th>ENTRYCOUNT</th>\n",
       "    </tr>\n",
       "  </thead>\n",
       "  <tbody>\n",
       "    <tr>\n",
       "      <th>127943</th>\n",
       "      <td>14 ST_123FLM</td>\n",
       "      <td>20</td>\n",
       "      <td>1373.0</td>\n",
       "    </tr>\n",
       "    <tr>\n",
       "      <th>54004</th>\n",
       "      <td>14 ST_ACEL</td>\n",
       "      <td>21</td>\n",
       "      <td>2800.0</td>\n",
       "    </tr>\n",
       "    <tr>\n",
       "      <th>95348</th>\n",
       "      <td>23 ST_FM</td>\n",
       "      <td>20</td>\n",
       "      <td>2000.0</td>\n",
       "    </tr>\n",
       "    <tr>\n",
       "      <th>4194</th>\n",
       "      <td>23 ST_NRW</td>\n",
       "      <td>20</td>\n",
       "      <td>1934.0</td>\n",
       "    </tr>\n",
       "    <tr>\n",
       "      <th>149919</th>\n",
       "      <td>33 ST_6</td>\n",
       "      <td>21</td>\n",
       "      <td>1061.0</td>\n",
       "    </tr>\n",
       "  </tbody>\n",
       "</table>\n",
       "</div>"
      ],
      "text/plain": [
       "         STATIONLINE  HOUR  ENTRYCOUNT\n",
       "127943  14 ST_123FLM    20      1373.0\n",
       "54004     14 ST_ACEL    21      2800.0\n",
       "95348       23 ST_FM    20      2000.0\n",
       "4194       23 ST_NRW    20      1934.0\n",
       "149919       33 ST_6    21      1061.0"
      ]
     },
     "execution_count": 96,
     "metadata": {},
     "output_type": "execute_result"
    }
   ],
   "source": [
    "topTechHour"
   ]
  },
  {
   "cell_type": "code",
   "execution_count": 97,
   "metadata": {},
   "outputs": [
    {
     "data": {
      "text/plain": [
       "Index(['C/A', 'UNIT', 'SCP', 'STATION', 'LINENAME', 'DIVISION', 'DATE', 'TIME',\n",
       "       'ENTRIES', 'KEY', 'STATIONLINE', 'DATETIME', 'ENTRYCOUNT', 'DAY',\n",
       "       'NAMEDAY', 'HOUR'],\n",
       "      dtype='object')"
      ]
     },
     "execution_count": 97,
     "metadata": {},
     "output_type": "execute_result"
    }
   ],
   "source": [
    "topTechDF.columns"
   ]
  },
  {
   "cell_type": "code",
   "execution_count": 98,
   "metadata": {
    "collapsed": true
   },
   "outputs": [],
   "source": [
    "topTechHourDF = topTechDF.loc[(topTechDF.STATIONLINE == '23 ST_FM') & (topTechDF.DAY == 3)].copy()"
   ]
  },
  {
   "cell_type": "code",
   "execution_count": 108,
   "metadata": {},
   "outputs": [
    {
     "data": {
      "text/plain": [
       "<matplotlib.axes._subplots.AxesSubplot at 0x12b752a58>"
      ]
     },
     "execution_count": 108,
     "metadata": {},
     "output_type": "execute_result"
    },
    {
     "data": {
      "image/png": "[encoded data removed]",
      "text/plain": [
       "<matplotlib.figure.Figure at 0x12182db70>"
      ]
     },
     "metadata": {},
     "output_type": "display_data"
    }
   ],
   "source": [
    "# unionSquareHourGroup = unionSquareDF.groupby('HOUR').ENTRYCOUNT.sum()\n",
    "# unionSquareHourGroup.plot(kind='line', figsize=customFig, linewidth=3.5)\n",
    "# 23 ST_FM Trains on Thursday\n",
    "topTechHourGroup = topTechHourDF.groupby(\"HOUR\").ENTRYCOUNT.sum()\n",
    "topTechHourGroup.plot(kind='line',figsize=customFig,linewidth=3.5,xticks=[0,4,8,12,16,20])"
   ]
  },
  {
   "cell_type": "code",
   "execution_count": 107,
   "metadata": {},
   "outputs": [
    {
     "data": {
      "text/plain": [
       "HOUR\n",
       "0     20741.0\n",
       "4      1101.0\n",
       "8      4725.0\n",
       "12    22458.0\n",
       "16    25578.0\n",
       "20    59473.0\n",
       "Name: ENTRYCOUNT, dtype: float64"
      ]
     },
     "execution_count": 107,
     "metadata": {},
     "output_type": "execute_result"
    }
   ],
   "source": [
    "topTechHourGroup"
   ]
  },
  {
   "cell_type": "code",
   "execution_count": 110,
   "metadata": {},
   "outputs": [
    {
     "data": {
      "text/plain": [
       "<matplotlib.axes._subplots.AxesSubplot at 0x12d43c438>"
      ]
     },
     "execution_count": 110,
     "metadata": {},
     "output_type": "execute_result"
    },
    {
     "data": {
      "image/png": "[encoded data removed]",
      "text/plain": [
       "<matplotlib.figure.Figure at 0x12d5a5748>"
      ]
     },
     "metadata": {},
     "output_type": "display_data"
    }
   ],
   "source": [
    "topNYCHourDF = topNYCDF.loc[(topNYCDF.STATION == 'GRD CNTRL-42 ST') & (topNYCDF.DAY == 3)].copy()\n",
    "topNYCHourGroup = topNYCHourDF.groupby(\"HOUR\").ENTRYCOUNT.sum()\n",
    "topNYCHourGroup.plot(kind='line',figsize=customFig,linewidth=3.5,xticks=[0,4,8,12,16,20])"
   ]
  },
  {
   "cell_type": "code",
   "execution_count": 111,
   "metadata": {},
   "outputs": [
    {
     "data": {
      "text/plain": [
       "HOUR\n",
       "0      34343.0\n",
       "1      20305.0\n",
       "4       4070.0\n",
       "5       1467.0\n",
       "7       1837.0\n",
       "8      20143.0\n",
       "9      44309.0\n",
       "10     12308.0\n",
       "12     61075.0\n",
       "13     48087.0\n",
       "16     56359.0\n",
       "17     79421.0\n",
       "18     10385.0\n",
       "20     99916.0\n",
       "21    153623.0\n",
       "Name: ENTRYCOUNT, dtype: float64"
      ]
     },
     "execution_count": 111,
     "metadata": {},
     "output_type": "execute_result"
    }
   ],
   "source": [
    "topNYCHourGroup"
   ]
  },
  {
   "cell_type": "code",
   "execution_count": 112,
   "metadata": {
    "collapsed": true
   },
   "outputs": [],
   "source": [
    "topNYCDFCleanHours = topNYCDF.loc[(topNYCDF.HOUR == 0) | (topNYCDF.HOUR == 4) | \n",
    "                (topNYCDF.HOUR == 8) | (topNYCDF.HOUR == 12) |\n",
    "                 (topNYCDF.HOUR == 16) | (topNYCDF.HOUR == 20)]"
   ]
  },
  {
   "cell_type": "code",
   "execution_count": 113,
   "metadata": {},
   "outputs": [
    {
     "data": {
      "text/plain": [
       "<matplotlib.axes._subplots.AxesSubplot at 0x12183b668>"
      ]
     },
     "execution_count": 113,
     "metadata": {},
     "output_type": "execute_result"
    },
    {
     "data": {
      "image/png": "[encoded data removed]",
      "text/plain": [
       "<matplotlib.figure.Figure at 0x12d5e06a0>"
      ]
     },
     "metadata": {},
     "output_type": "display_data"
    }
   ],
   "source": [
    "topNYCDFCleanHours1 = topNYCDFCleanHours.loc[(topNYCDFCleanHours.STATION == 'GRD CNTRL-42 ST') & (topNYCDFCleanHours.DAY == 3)].copy()\n",
    "topNYCCleanHourGroup = topNYCDFCleanHours1.groupby(\"HOUR\").ENTRYCOUNT.sum()\n",
    "topNYCCleanHourGroup.plot(kind='line',figsize=customFig,linewidth=3.5,xticks=[0,4,8,12,16,20])"
   ]
  },
  {
   "cell_type": "markdown",
   "metadata": {},
   "source": [
    "## Challenge 5"
   ]
  },
  {
   "cell_type": "code",
   "execution_count": null,
   "metadata": {
    "collapsed": true
   },
   "outputs": [],
   "source": [
    "turnstiles = df2.groupby(['C/A', 'UNIT', 'STATION','DATE']).ENTRYCOUNT.sum().reset_index()"
   ]
  },
  {
   "cell_type": "code",
   "execution_count": null,
   "metadata": {
    "collapsed": true
   },
   "outputs": [],
   "source": [
    "type(turnstiles)"
   ]
  },
  {
   "cell_type": "code",
   "execution_count": null,
   "metadata": {
    "collapsed": true
   },
   "outputs": [],
   "source": [
    "turnstiles.head()"
   ]
  },
  {
   "cell_type": "markdown",
   "metadata": {},
   "source": [
    "## Challenge 6"
   ]
  },
  {
   "cell_type": "code",
   "execution_count": null,
   "metadata": {
    "collapsed": true
   },
   "outputs": [],
   "source": [
    "station = df.groupby(['STATION','DATE']).ENTRYCOUNT.sum().reset_index()\n"
   ]
  },
  {
   "cell_type": "code",
   "execution_count": null,
   "metadata": {
    "collapsed": true
   },
   "outputs": [],
   "source": [
    "station.head()"
   ]
  },
  {
   "cell_type": "code",
   "execution_count": null,
   "metadata": {
    "collapsed": true
   },
   "outputs": [],
   "source": [
    "station1 = station.loc[station.STATION == '1 AV']"
   ]
  },
  {
   "cell_type": "code",
   "execution_count": null,
   "metadata": {
    "collapsed": true
   },
   "outputs": [],
   "source": [
    "type(station1)"
   ]
  },
  {
   "cell_type": "code",
   "execution_count": null,
   "metadata": {
    "collapsed": true
   },
   "outputs": [],
   "source": [
    "# firstAveGroup = station.groupby('DATE')"
   ]
  },
  {
   "cell_type": "code",
   "execution_count": null,
   "metadata": {
    "collapsed": true
   },
   "outputs": [],
   "source": [
    "# firstAveGroup.plot(x=firstAveGroup.indices,y='ENTRYCOUNT')"
   ]
  },
  {
   "cell_type": "markdown",
   "metadata": {},
   "source": [
    "## Challenge 7"
   ]
  },
  {
   "cell_type": "code",
   "execution_count": null,
   "metadata": {
    "collapsed": true
   },
   "outputs": [],
   "source": [
    "station1.plot(y='ENTRYCOUNT',x='DATE')"
   ]
  },
  {
   "cell_type": "markdown",
   "metadata": {},
   "source": [
    "## Top 5 Stations based on Entries"
   ]
  },
  {
   "cell_type": "code",
   "execution_count": null,
   "metadata": {
    "collapsed": true
   },
   "outputs": [],
   "source": [
    "top5stations = df.groupby('STATION').ENTRYCOUNT.sum().reset_index()"
   ]
  },
  {
   "cell_type": "code",
   "execution_count": null,
   "metadata": {
    "collapsed": true
   },
   "outputs": [],
   "source": [
    "#top5stations = top5stations.sort_values('ENTRYCOUNT',ascending=False)"
   ]
  },
  {
   "cell_type": "code",
   "execution_count": null,
   "metadata": {
    "collapsed": true
   },
   "outputs": [],
   "source": [
    "top5stations.loc[top5stations.STATION == 'EASTCHSTER/DYRE']"
   ]
  },
  {
   "cell_type": "code",
   "execution_count": null,
   "metadata": {
    "collapsed": true
   },
   "outputs": [],
   "source": [
    "df.loc[df.STATION == 'EASTCHSTER/DYRE']"
   ]
  },
  {
   "cell_type": "code",
   "execution_count": null,
   "metadata": {
    "collapsed": true
   },
   "outputs": [],
   "source": [
    "df.ENTRYCOUNT.min()"
   ]
  },
  {
   "cell_type": "code",
   "execution_count": null,
   "metadata": {
    "collapsed": true
   },
   "outputs": [],
   "source": [
    "# Replace Days with Name Days\n",
    "##titanic.sex=titanic.sex.replace({'female':0,'male':1})"
   ]
  }
 ],
 "metadata": {
  "kernelspec": {
   "display_name": "Python 3",
   "language": "python",
   "name": "python3"
  },
  "language_info": {
   "codemirror_mode": {
    "name": "ipython",
    "version": 3
   },
   "file_extension": ".py",
   "mimetype": "text/x-python",
   "name": "python",
   "nbconvert_exporter": "python",
   "pygments_lexer": "ipython3",
   "version": "3.6.2"
  }
 },
 "nbformat": 4,
 "nbformat_minor": 2
}
