{
 "cells": [
  {
   "cell_type": "code",
   "execution_count": null,
   "metadata": {
    "collapsed": true
   },
   "outputs": [],
   "source": [
    "import pandas as pd\n",
    "import numpy as np\n",
    "import matplotlib.pyplot as plt\n",
    "import datetime\n",
    "\n",
    "%matplotlib inline\n",
    "#from IPython.display import Image\n",
    "import matplotlib.pyplot as plt\n",
    "import seaborn as sns\n",
    "#import pydotplus"
   ]
  },
  {
   "cell_type": "code",
   "execution_count": null,
   "metadata": {},
   "outputs": [],
   "source": [
    "import matplotlib\n",
    "matplotlib.__version__"
   ]
  },
  {
   "cell_type": "code",
   "execution_count": null,
   "metadata": {},
   "outputs": [],
   "source": [
    "sns.__version__"
   ]
  },
  {
   "cell_type": "code",
   "execution_count": null,
   "metadata": {
    "collapsed": true
   },
   "outputs": [],
   "source": [
    "sns.set_style(\"whitegrid\")"
   ]
  },
  {
   "cell_type": "code",
   "execution_count": null,
   "metadata": {},
   "outputs": [],
   "source": [
    "def get_data(week_nums):\n",
    "    # base url\n",
    "    url = \"http://web.mta.info/developers/data/nyct/turnstile/turnstile_{}.txt\"\n",
    "    dfs = []\n",
    "    for week_num in week_nums:\n",
    "        # concat our week onto url..\n",
    "        file_url = url.format(week_num)\n",
    "        dfs.append(pd.read_csv(file_url))\n",
    "    return pd.concat(dfs)\n",
    "        \n",
    "week_nums = [170422, 170429, 170506, 170513]\n",
    "# Test against Julia's nums\n",
    "#week_nums = [160903, 160910, 160917]\n",
    "df = get_data(week_nums)"
   ]
  },
  {
   "cell_type": "code",
   "execution_count": null,
   "metadata": {},
   "outputs": [],
   "source": [
    "df.columns.tolist()"
   ]
  },
  {
   "cell_type": "code",
   "execution_count": null,
   "metadata": {},
   "outputs": [],
   "source": [
    "df.head()"
   ]
  },
  {
   "cell_type": "code",
   "execution_count": null,
   "metadata": {},
   "outputs": [],
   "source": [
    "df.shape"
   ]
  },
  {
   "cell_type": "code",
   "execution_count": null,
   "metadata": {
    "collapsed": true
   },
   "outputs": [],
   "source": [
    "df.columns = [column.strip() for column in df.columns]"
   ]
  },
  {
   "cell_type": "code",
   "execution_count": null,
   "metadata": {
    "collapsed": true
   },
   "outputs": [],
   "source": [
    "# df.DATE.value_counts().sort_index()"
   ]
  },
  {
   "cell_type": "code",
   "execution_count": null,
   "metadata": {
    "collapsed": true
   },
   "outputs": [],
   "source": [
    "df['KEY'] = df['C/A'] + ',' + df['UNIT'] + ',' + df['SCP'] + ',' + df['STATION']\n",
    "df['STATIONLINE'] = df['STATION'] + '_' + df['LINENAME']"
   ]
  },
  {
   "cell_type": "code",
   "execution_count": null,
   "metadata": {
    "collapsed": true
   },
   "outputs": [],
   "source": [
    "df['TIME'] = pd.to_datetime(df['TIME'])"
   ]
  },
  {
   "cell_type": "code",
   "execution_count": null,
   "metadata": {},
   "outputs": [],
   "source": [
    "df.dtypes"
   ]
  },
  {
   "cell_type": "code",
   "execution_count": null,
   "metadata": {},
   "outputs": [],
   "source": [
    "df['DATETIME'] = pd.to_datetime(df['DATE'] + ' ' + df['TIME'],format=\"%m/%d/%Y %H:%M:%S\")"
   ]
  },
  {
   "cell_type": "code",
   "execution_count": null,
   "metadata": {},
   "outputs": [],
   "source": [
    "df.DATETIME.head()"
   ]
  },
  {
   "cell_type": "code",
   "execution_count": null,
   "metadata": {},
   "outputs": [],
   "source": [
    "(df\n",
    " .groupby([\"KEY\", \"DATETIME\"])\n",
    " .ENTRIES.count()\n",
    " .reset_index()\n",
    " .sort_values(\"ENTRIES\", ascending=False)).head()"
   ]
  },
  {
   "cell_type": "code",
   "execution_count": null,
   "metadata": {
    "collapsed": true
   },
   "outputs": [],
   "source": [
    "# Explore the duplicate entries on 5/9\n",
    "# mask = ((df[\"C/A\"] == \"G001\") & \n",
    "# (df[\"UNIT\"] == \"R151\") & \n",
    "# (df[\"SCP\"] == \"00-00-00\") & \n",
    "# (df[\"STATION\"] == \"CONEY IS-STILLW\") &\n",
    "# # get datetime properties ~ .dt\n",
    "# (df[\"DATETIME\"].dt.date == datetime.datetime(2017, 5, 9).date()))\n",
    "# df[mask].head()"
   ]
  },
  {
   "cell_type": "code",
   "execution_count": null,
   "metadata": {
    "collapsed": true
   },
   "outputs": [],
   "source": [
    "# Explore the duplicate entries on 4/28\n",
    "# mask = ((df[\"C/A\"] == \"N329\") & \n",
    "# (df[\"UNIT\"] == \"R201\") & \n",
    "# (df[\"SCP\"] == \"00-00-00\") & \n",
    "# (df[\"STATION\"] == \"WOODHAVEN BLVD\") &\n",
    "# # get datetime properties ~ .dt\n",
    "# (df[\"DATETIME\"].dt.date == datetime.datetime(2017, 4, 28).date()))\n",
    "# df[mask].head()"
   ]
  },
  {
   "cell_type": "code",
   "execution_count": null,
   "metadata": {
    "collapsed": true
   },
   "outputs": [],
   "source": [
    "# df.sort_values([\"KEY\", \"DATETIME\"], inplace=True,\n",
    "#               ascending = True)"
   ]
  },
  {
   "cell_type": "code",
   "execution_count": null,
   "metadata": {
    "collapsed": true
   },
   "outputs": [],
   "source": [
    "df.drop_duplicates(subset=[\"KEY\", \"DATETIME\"], inplace=True)"
   ]
  },
  {
   "cell_type": "code",
   "execution_count": null,
   "metadata": {},
   "outputs": [],
   "source": [
    "df.shape # two duplicates were removed"
   ]
  },
  {
   "cell_type": "code",
   "execution_count": null,
   "metadata": {
    "collapsed": true
   },
   "outputs": [],
   "source": [
    "df.sort_values([\"KEY\", \"DATETIME\"], inplace=True, ascending=True)"
   ]
  },
  {
   "cell_type": "code",
   "execution_count": null,
   "metadata": {
    "collapsed": true
   },
   "outputs": [],
   "source": [
    "# stationMax = df.groupby(\"STATION\").ENTRIES.max()\n",
    "# stationMax.sort_values(ascending=False)"
   ]
  },
  {
   "cell_type": "code",
   "execution_count": null,
   "metadata": {
    "collapsed": true
   },
   "outputs": [],
   "source": [
    "# df.sort_values([\"KEY\",'DATETIME'],inplace=True)"
   ]
  },
  {
   "cell_type": "code",
   "execution_count": null,
   "metadata": {},
   "outputs": [],
   "source": [
    "df.head()"
   ]
  },
  {
   "cell_type": "code",
   "execution_count": null,
   "metadata": {
    "collapsed": true
   },
   "outputs": [],
   "source": [
    "df['ENTRYCOUNT'] = df.groupby(\"KEY\")['ENTRIES'].diff()"
   ]
  },
  {
   "cell_type": "code",
   "execution_count": null,
   "metadata": {
    "collapsed": true
   },
   "outputs": [],
   "source": [
    "df = df.drop([\"EXITS\", \"DESC\"], axis=1, errors=\"ignore\")\n",
    "\n",
    "df2 = df.copy()"
   ]
  },
  {
   "cell_type": "code",
   "execution_count": null,
   "metadata": {},
   "outputs": [],
   "source": [
    "df.sort_values('ENTRYCOUNT', ascending=False).head(20)"
   ]
  },
  {
   "cell_type": "code",
   "execution_count": null,
   "metadata": {
    "collapsed": true
   },
   "outputs": [],
   "source": [
    "#df[\"ABSENTRY\"] = df.ENTRYCOUNT.abs()"
   ]
  },
  {
   "cell_type": "code",
   "execution_count": null,
   "metadata": {
    "collapsed": true
   },
   "outputs": [],
   "source": [
    "#df.ABSENTRY.isnull"
   ]
  },
  {
   "cell_type": "code",
   "execution_count": null,
   "metadata": {},
   "outputs": [],
   "source": [
    "sum(abs(df.ENTRYCOUNT) > 10000)/len(df)"
   ]
  },
  {
   "cell_type": "code",
   "execution_count": null,
   "metadata": {},
   "outputs": [],
   "source": [
    "df.ENTRYCOUNT.hist()"
   ]
  },
  {
   "cell_type": "code",
   "execution_count": null,
   "metadata": {
    "collapsed": true
   },
   "outputs": [],
   "source": [
    "# df = df.drop(['EXITS','DESC'],axis=1,errors='ignore')\n",
    "# df2 = df.copy()"
   ]
  },
  {
   "cell_type": "code",
   "execution_count": null,
   "metadata": {
    "collapsed": true
   },
   "outputs": [],
   "source": [
    "def clean_entries(row, max_counter):\n",
    "    each = row[\"ENTRYCOUNT\"]\n",
    "    if each < 0:\n",
    "        each = -each\n",
    "    if each > max_counter:\n",
    "        return 0\n",
    "    return each\n",
    "\n",
    "df2['ENTRYCOUNT'] = df2.apply(clean_entries, axis=1, max_counter=10000)"
   ]
  },
  {
   "cell_type": "code",
   "execution_count": null,
   "metadata": {},
   "outputs": [],
   "source": [
    "df2StationMax = df2.groupby(['KEY','DATETIME']).ENTRYCOUNT.max()\n",
    "df2StationMax.sort_values(ascending=False)"
   ]
  },
  {
   "cell_type": "code",
   "execution_count": null,
   "metadata": {
    "collapsed": true
   },
   "outputs": [],
   "source": [
    "# diffStationMin = df.groupby(\"STATION\").ENTRYCOUNT.min()\n",
    "# diffStationMin.sort_values(ascending=True)"
   ]
  },
  {
   "cell_type": "code",
   "execution_count": null,
   "metadata": {
    "collapsed": true
   },
   "outputs": [],
   "source": [
    "# stationMax = df.groupby(\"STATION\").ENTRYCOUNT.max()\n",
    "# stationMax.sort_values(ascending=False)"
   ]
  },
  {
   "cell_type": "code",
   "execution_count": null,
   "metadata": {
    "collapsed": true
   },
   "outputs": [],
   "source": [
    "stationDF = df2.groupby([\"STATION\"]).ENTRYCOUNT.sum().reset_index()\n",
    "stationDF.sort_values('ENTRYCOUNT',ascending=False,inplace=True)"
   ]
  },
  {
   "cell_type": "code",
   "execution_count": null,
   "metadata": {},
   "outputs": [],
   "source": [
    "stationDF.head(20)"
   ]
  },
  {
   "cell_type": "code",
   "execution_count": null,
   "metadata": {
    "collapsed": true
   },
   "outputs": [],
   "source": [
    "#stationDF.to_csv(\"stations.csv\",index_label=\"Index\")"
   ]
  },
  {
   "cell_type": "code",
   "execution_count": null,
   "metadata": {},
   "outputs": [],
   "source": [
    "stationLineDF = df2.groupby([\"STATIONLINE\"]).ENTRYCOUNT.sum().reset_index()\n",
    "stationLineDF.sort_values('ENTRYCOUNT',ascending=False,inplace=True)"
   ]
  },
  {
   "cell_type": "code",
   "execution_count": null,
   "metadata": {
    "collapsed": true
   },
   "outputs": [],
   "source": [
    "stationLineDF.to_csv(\"stationsandlines.csv\",index_label=\"Index\")"
   ]
  },
  {
   "cell_type": "code",
   "execution_count": null,
   "metadata": {
    "collapsed": true
   },
   "outputs": [],
   "source": [
    "top100 = stationDF[:100]"
   ]
  },
  {
   "cell_type": "code",
   "execution_count": null,
   "metadata": {},
   "outputs": [],
   "source": [
    "len(top100) # check"
   ]
  },
  {
   "cell_type": "code",
   "execution_count": null,
   "metadata": {},
   "outputs": [],
   "source": [
    "top100.head()"
   ]
  },
  {
   "cell_type": "code",
   "execution_count": null,
   "metadata": {},
   "outputs": [],
   "source": [
    "len(stationDF)"
   ]
  },
  {
   "cell_type": "code",
   "execution_count": null,
   "metadata": {
    "collapsed": true
   },
   "outputs": [],
   "source": [
    "mid = stationDF[int(len(stationDF)/2):int((len(stationDF)/2)+5)]"
   ]
  },
  {
   "cell_type": "code",
   "execution_count": null,
   "metadata": {},
   "outputs": [],
   "source": [
    "mid.head()"
   ]
  },
  {
   "cell_type": "code",
   "execution_count": null,
   "metadata": {
    "collapsed": true
   },
   "outputs": [],
   "source": [
    "# Replace Days with Name Days\n",
    "df2['DAY']= df2.DATETIME.dt.dayofweek"
   ]
  },
  {
   "cell_type": "code",
   "execution_count": null,
   "metadata": {},
   "outputs": [],
   "source": [
    "df2.DAY.value_counts()"
   ]
  },
  {
   "cell_type": "code",
   "execution_count": null,
   "metadata": {
    "collapsed": true
   },
   "outputs": [],
   "source": [
    "df2['NAMEDAY']=df2.DAY.replace({0:'1_Monday',1:'2_Tuesday', 2:'3_Wednesday', 3:'4_Thursday',\n",
    "                       4:'5_Friday', 5:'6_Saturday',6:'7_Sunday'})"
   ]
  },
  {
   "cell_type": "code",
   "execution_count": null,
   "metadata": {},
   "outputs": [],
   "source": [
    "df2.ENTRYCOUNT.isnull().sum()"
   ]
  },
  {
   "cell_type": "code",
   "execution_count": null,
   "metadata": {
    "collapsed": true
   },
   "outputs": [],
   "source": [
    "df2['HOUR']= df2.DATETIME.dt.hour"
   ]
  },
  {
   "cell_type": "code",
   "execution_count": null,
   "metadata": {
    "collapsed": true
   },
   "outputs": [],
   "source": [
    "# Drop Null Values\n",
    "df2.dropna(subset=[\"ENTRYCOUNT\"], axis=0, inplace=True)"
   ]
  },
  {
   "cell_type": "code",
   "execution_count": null,
   "metadata": {},
   "outputs": [],
   "source": [
    "df2.shape"
   ]
  },
  {
   "cell_type": "code",
   "execution_count": null,
   "metadata": {
    "collapsed": true
   },
   "outputs": [],
   "source": [
    "stationDF = df2.groupby([\"STATION\",'LINENAME']).ENTRYCOUNT.sum().reset_index()\n",
    "stationDF.sort_values('ENTRYCOUNT',ascending=False,inplace=True)"
   ]
  },
  {
   "cell_type": "code",
   "execution_count": null,
   "metadata": {},
   "outputs": [],
   "source": [
    "stationDF.head()"
   ]
  },
  {
   "cell_type": "code",
   "execution_count": null,
   "metadata": {
    "scrolled": true
   },
   "outputs": [],
   "source": [
    "#top10.ENTRYCOUNT.sum()/df2.ENTRYCOUNT.sum()*100"
   ]
  },
  {
   "cell_type": "code",
   "execution_count": null,
   "metadata": {},
   "outputs": [],
   "source": [
    "#top10.ENTRYCOUNT.sum()"
   ]
  },
  {
   "cell_type": "code",
   "execution_count": null,
   "metadata": {},
   "outputs": [],
   "source": [
    "df2.STATION.nunique()"
   ]
  },
  {
   "cell_type": "code",
   "execution_count": null,
   "metadata": {
    "collapsed": true
   },
   "outputs": [],
   "source": [
    "top10 = stationDF[:10]"
   ]
  },
  {
   "cell_type": "code",
   "execution_count": null,
   "metadata": {},
   "outputs": [],
   "source": [
    "top10.head(10)"
   ]
  },
  {
   "cell_type": "markdown",
   "metadata": {},
   "source": [
    "## Plotting Penn Station"
   ]
  },
  {
   "cell_type": "code",
   "execution_count": null,
   "metadata": {
    "collapsed": true
   },
   "outputs": [],
   "source": [
    "top5 = stationDF[:5]"
   ]
  },
  {
   "cell_type": "code",
   "execution_count": null,
   "metadata": {},
   "outputs": [],
   "source": [
    "sns.distplot(top5.ENTRYCOUNT)"
   ]
  },
  {
   "cell_type": "code",
   "execution_count": null,
   "metadata": {
    "collapsed": true
   },
   "outputs": [],
   "source": [
    "customFig = (10,8)"
   ]
  },
  {
   "cell_type": "code",
   "execution_count": null,
   "metadata": {},
   "outputs": [],
   "source": [
    "topBar = top5.plot(kind='barh',x='STATION',sort_columns=\"ENTRYCOUNT\", figsize=customFig)\n",
    "topBar.invert_yaxis()"
   ]
  },
  {
   "cell_type": "code",
   "execution_count": null,
   "metadata": {
    "collapsed": true
   },
   "outputs": [],
   "source": [
    "pennDF = df2.loc[df2.STATION == '34 ST-PENN STA']"
   ]
  },
  {
   "cell_type": "code",
   "execution_count": null,
   "metadata": {},
   "outputs": [],
   "source": [
    "pennDF.head()"
   ]
  },
  {
   "cell_type": "code",
   "execution_count": null,
   "metadata": {},
   "outputs": [],
   "source": [
    "pennDayGroup = pennDF.groupby('NAMEDAY').ENTRYCOUNT.sum()\n",
    "pennDayGroup"
   ]
  },
  {
   "cell_type": "code",
   "execution_count": null,
   "metadata": {},
   "outputs": [],
   "source": [
    "pennDayGroup.plot(kind='line',figsize=customFig, linewidth=3.5)"
   ]
  },
  {
   "cell_type": "code",
   "execution_count": null,
   "metadata": {},
   "outputs": [],
   "source": [
    "pennHourGroup = pennDF.groupby('HOUR').ENTRYCOUNT.sum()\n",
    "pennHourGroup.plot(kind='line', figsize=customFig, linewidth = 3.5)"
   ]
  },
  {
   "cell_type": "code",
   "execution_count": null,
   "metadata": {},
   "outputs": [],
   "source": [
    "pennHourGroup"
   ]
  },
  {
   "cell_type": "code",
   "execution_count": null,
   "metadata": {},
   "outputs": [],
   "source": [
    "unionSquareDF = df2.loc[df2.STATION == '14 ST-UNION SQ']"
   ]
  },
  {
   "cell_type": "code",
   "execution_count": null,
   "metadata": {},
   "outputs": [],
   "source": [
    "unionSquareDayGroup = unionSquareDF.groupby('NAMEDAY').ENTRYCOUNT.sum()"
   ]
  },
  {
   "cell_type": "code",
   "execution_count": null,
   "metadata": {},
   "outputs": [],
   "source": [
    "twentyDayGroup.plot(kind='line',figsize=customFig, linewidth=3.5)"
   ]
  },
  {
   "cell_type": "code",
   "execution_count": null,
   "metadata": {},
   "outputs": [],
   "source": [
    "unionSquareHourGroup = unionSquareDF.groupby('HOUR').ENTRYCOUNT.sum()\n",
    "unionSquareHourGroup.plot(kind='line', figsize=customFig, linewidth=3.5)"
   ]
  },
  {
   "cell_type": "code",
   "execution_count": null,
   "metadata": {},
   "outputs": [],
   "source": [
    "#pennDF.DATETIME.value_counts()"
   ]
  },
  {
   "cell_type": "code",
   "execution_count": null,
   "metadata": {},
   "outputs": [],
   "source": [
    "# time_group = df2.groupby(pd.TimeGrouper(by='TIME',level='Time', freq='2H'))['ENTRYCOUNT'].agg('sum')   \n",
    "# time_group.dropna(inplace=True)\n",
    "# time_group = time_group.to_frame().reset_index()\n",
    "# print(time_group)"
   ]
  },
  {
   "cell_type": "code",
   "execution_count": null,
   "metadata": {},
   "outputs": [],
   "source": [
    "topNYCDF = df2.loc[(df2.STATION == 'GRD CNTRL-42 ST') | (df2.STATION == '34 ST-HERALD SQ') | \n",
    "                (df2.STATION == '42 ST-PORT AUTH') | (df2.STATION == '34 ST-PENN STA') |\n",
    "                 (df2.STATION == '14 ST-UNION SQ')]"
   ]
  },
  {
   "cell_type": "code",
   "execution_count": null,
   "metadata": {},
   "outputs": [],
   "source": [
    "topNYCDF.head()"
   ]
  },
  {
   "cell_type": "code",
   "execution_count": null,
   "metadata": {},
   "outputs": [],
   "source": [
    "pairDF.shape"
   ]
  },
  {
   "cell_type": "code",
   "execution_count": null,
   "metadata": {},
   "outputs": [],
   "source": [
    "topNYCDayGroup = pairDF.groupby(['STATION','NAMEDAY']).ENTRYCOUNT.sum().reset_index()\n",
    "#pairDayGroup.plot(x='NAMEDAY', y='ENTRYCOUNT', figsize=(10,7))"
   ]
  },
  {
   "cell_type": "code",
   "execution_count": null,
   "metadata": {},
   "outputs": [],
   "source": [
    "#topNYCDayGroup"
   ]
  },
  {
   "cell_type": "code",
   "execution_count": null,
   "metadata": {},
   "outputs": [],
   "source": [
    "#pairDayGroup.plot(x='NAMEDAY', y='ENTRYCOUNT')\n",
    "# ax = plt.subplot()\n",
    "# sns.pointplot(x='DAY', y='ENTRYCOUNT', data=pairDayGroup,ax=ax, color='b')\n",
    "# sns.pointplot(x='DAY', y='ENTRYCOUNT', data=pairDayGroup,ax=ax, color='r')\n",
    "topNYCDayGroup.pivot('NAMEDAY','STATION','ENTRYCOUNT').plot(kind='line',figsize=customFig)"
   ]
  },
  {
   "cell_type": "code",
   "execution_count": null,
   "metadata": {
    "collapsed": true
   },
   "outputs": [],
   "source": [
    "topNYCHour = topNYCDF[['STATION','HOUR','ENTRYCOUNT']].copy()\n",
    "topNYCHour.sort_values('ENTRYCOUNT', ascending=False,inplace=True)"
   ]
  },
  {
   "cell_type": "code",
   "execution_count": null,
   "metadata": {},
   "outputs": [],
   "source": [
    "topNYCHour = (topNYCHour\n",
    " .sort_values(by=['STATION','ENTRYCOUNT'], ascending=[True,False])\n",
    " .groupby('STATION')\n",
    " .head(1))"
   ]
  },
  {
   "cell_type": "code",
   "execution_count": null,
   "metadata": {},
   "outputs": [],
   "source": [
    "topNYCHour.plot"
   ]
  },
  {
   "cell_type": "code",
   "execution_count": null,
   "metadata": {},
   "outputs": [],
   "source": [
    "topNYCHour.plot(kind='bar', figsize=customFig,x='HOUR',y=\"ENTRYCOUNT\")"
   ]
  },
  {
   "cell_type": "code",
   "execution_count": null,
   "metadata": {
    "collapsed": true
   },
   "outputs": [],
   "source": [
    "topTechDF = df2.loc[(df2.STATIONLINE == '23 ST_FM') | (df2.STATIONLINE == '33 ST_6') | \n",
    "                (df2.STATIONLINE == '14 ST_123FLM') | (df2.STATIONLINE == '14 ST_ACEL') |\n",
    "                 (df2.STATIONLINE == '23 ST_NRW')]\n"
   ]
  },
  {
   "cell_type": "code",
   "execution_count": null,
   "metadata": {},
   "outputs": [],
   "source": [
    "topTechDayGroup = topTechDF.groupby(['STATIONLINE','NAMEDAY']).ENTRYCOUNT.sum().reset_index()\n",
    "topTechDayGroup.pivot('NAMEDAY','STATIONLINE','ENTRYCOUNT').plot(kind='line',figsize=customFig)"
   ]
  },
  {
   "cell_type": "code",
   "execution_count": null,
   "metadata": {},
   "outputs": [],
   "source": [
    "topTechDayGroupMax = topTechDF.groupby(['STATIONLINE','NAMEDAY']).ENTRYCOUNT.max()\n",
    "topTechDayGroupMax"
   ]
  },
  {
   "cell_type": "code",
   "execution_count": null,
   "metadata": {},
   "outputs": [],
   "source": [
    "topTechHour = topTechDF[['STATIONLINE','HOUR','ENTRYCOUNT']].copy()\n",
    "topTechHour.sort_values('ENTRYCOUNT', ascending=False,inplace=True)"
   ]
  },
  {
   "cell_type": "code",
   "execution_count": null,
   "metadata": {},
   "outputs": [],
   "source": [
    "topTechHour = (topTechHour\n",
    " .sort_values(by=['STATIONLINE','ENTRYCOUNT'], ascending=[True,False])\n",
    " .groupby('STATIONLINE')\n",
    " .head(1))\n",
    "#topTechHour.groupby(['STATIONLINE','HOUR']).ENTRYCOUNT.max().head(1)"
   ]
  },
  {
   "cell_type": "code",
   "execution_count": null,
   "metadata": {},
   "outputs": [],
   "source": [
    "topTechHour"
   ]
  },
  {
   "cell_type": "code",
   "execution_count": null,
   "metadata": {},
   "outputs": [],
   "source": [
    "topTechDF.columns"
   ]
  },
  {
   "cell_type": "code",
   "execution_count": null,
   "metadata": {},
   "outputs": [],
   "source": [
    "topTechHourDF = topTechDF.loc[(topTechDF.STATIONLINE == '23 ST_FM') & (topTechDF.DAY == 3)].copy()"
   ]
  },
  {
   "cell_type": "code",
   "execution_count": 212,
   "metadata": {},
   "outputs": [
    {
     "data": {
      "text/html": [
       "<div>\n",
       "<style>\n",
       "    .dataframe thead tr:only-child th {\n",
       "        text-align: right;\n",
       "    }\n",
       "\n",
       "    .dataframe thead th {\n",
       "        text-align: left;\n",
       "    }\n",
       "\n",
       "    .dataframe tbody tr th {\n",
       "        vertical-align: top;\n",
       "    }\n",
       "</style>\n",
       "<table border=\"1\" class=\"dataframe\">\n",
       "  <thead>\n",
       "    <tr style=\"text-align: right;\">\n",
       "      <th></th>\n",
       "      <th>C/A</th>\n",
       "      <th>UNIT</th>\n",
       "      <th>SCP</th>\n",
       "      <th>STATION</th>\n",
       "      <th>LINENAME</th>\n",
       "      <th>DIVISION</th>\n",
       "      <th>DATE</th>\n",
       "      <th>TIME</th>\n",
       "      <th>ENTRIES</th>\n",
       "      <th>KEY</th>\n",
       "      <th>STATIONLINE</th>\n",
       "      <th>DATETIME</th>\n",
       "      <th>ENTRYCOUNT</th>\n",
       "      <th>DAY</th>\n",
       "      <th>NAMEDAY</th>\n",
       "      <th>HOUR</th>\n",
       "    </tr>\n",
       "  </thead>\n",
       "  <tbody>\n",
       "    <tr>\n",
       "      <th>95001</th>\n",
       "      <td>N508</td>\n",
       "      <td>R453</td>\n",
       "      <td>00-00-00</td>\n",
       "      <td>23 ST</td>\n",
       "      <td>FM</td>\n",
       "      <td>IND</td>\n",
       "      <td>04/20/2017</td>\n",
       "      <td>00:00:00</td>\n",
       "      <td>237046617</td>\n",
       "      <td>N508,R453,00-00-00,23 ST</td>\n",
       "      <td>23 ST_FM</td>\n",
       "      <td>2017-04-20 00:00:00</td>\n",
       "      <td>435.0</td>\n",
       "      <td>3</td>\n",
       "      <td>4_Thursday</td>\n",
       "      <td>0</td>\n",
       "    </tr>\n",
       "    <tr>\n",
       "      <th>95002</th>\n",
       "      <td>N508</td>\n",
       "      <td>R453</td>\n",
       "      <td>00-00-00</td>\n",
       "      <td>23 ST</td>\n",
       "      <td>FM</td>\n",
       "      <td>IND</td>\n",
       "      <td>04/20/2017</td>\n",
       "      <td>04:00:00</td>\n",
       "      <td>237046634</td>\n",
       "      <td>N508,R453,00-00-00,23 ST</td>\n",
       "      <td>23 ST_FM</td>\n",
       "      <td>2017-04-20 04:00:00</td>\n",
       "      <td>17.0</td>\n",
       "      <td>3</td>\n",
       "      <td>4_Thursday</td>\n",
       "      <td>4</td>\n",
       "    </tr>\n",
       "    <tr>\n",
       "      <th>95003</th>\n",
       "      <td>N508</td>\n",
       "      <td>R453</td>\n",
       "      <td>00-00-00</td>\n",
       "      <td>23 ST</td>\n",
       "      <td>FM</td>\n",
       "      <td>IND</td>\n",
       "      <td>04/20/2017</td>\n",
       "      <td>08:00:00</td>\n",
       "      <td>237046656</td>\n",
       "      <td>N508,R453,00-00-00,23 ST</td>\n",
       "      <td>23 ST_FM</td>\n",
       "      <td>2017-04-20 08:00:00</td>\n",
       "      <td>22.0</td>\n",
       "      <td>3</td>\n",
       "      <td>4_Thursday</td>\n",
       "      <td>8</td>\n",
       "    </tr>\n",
       "    <tr>\n",
       "      <th>95004</th>\n",
       "      <td>N508</td>\n",
       "      <td>R453</td>\n",
       "      <td>00-00-00</td>\n",
       "      <td>23 ST</td>\n",
       "      <td>FM</td>\n",
       "      <td>IND</td>\n",
       "      <td>04/20/2017</td>\n",
       "      <td>12:00:00</td>\n",
       "      <td>237046850</td>\n",
       "      <td>N508,R453,00-00-00,23 ST</td>\n",
       "      <td>23 ST_FM</td>\n",
       "      <td>2017-04-20 12:00:00</td>\n",
       "      <td>194.0</td>\n",
       "      <td>3</td>\n",
       "      <td>4_Thursday</td>\n",
       "      <td>12</td>\n",
       "    </tr>\n",
       "    <tr>\n",
       "      <th>95005</th>\n",
       "      <td>N508</td>\n",
       "      <td>R453</td>\n",
       "      <td>00-00-00</td>\n",
       "      <td>23 ST</td>\n",
       "      <td>FM</td>\n",
       "      <td>IND</td>\n",
       "      <td>04/20/2017</td>\n",
       "      <td>16:00:00</td>\n",
       "      <td>237047314</td>\n",
       "      <td>N508,R453,00-00-00,23 ST</td>\n",
       "      <td>23 ST_FM</td>\n",
       "      <td>2017-04-20 16:00:00</td>\n",
       "      <td>464.0</td>\n",
       "      <td>3</td>\n",
       "      <td>4_Thursday</td>\n",
       "      <td>16</td>\n",
       "    </tr>\n",
       "    <tr>\n",
       "      <th>95006</th>\n",
       "      <td>N508</td>\n",
       "      <td>R453</td>\n",
       "      <td>00-00-00</td>\n",
       "      <td>23 ST</td>\n",
       "      <td>FM</td>\n",
       "      <td>IND</td>\n",
       "      <td>04/20/2017</td>\n",
       "      <td>20:00:00</td>\n",
       "      <td>237048653</td>\n",
       "      <td>N508,R453,00-00-00,23 ST</td>\n",
       "      <td>23 ST_FM</td>\n",
       "      <td>2017-04-20 20:00:00</td>\n",
       "      <td>1339.0</td>\n",
       "      <td>3</td>\n",
       "      <td>4_Thursday</td>\n",
       "      <td>20</td>\n",
       "    </tr>\n",
       "    <tr>\n",
       "      <th>95441</th>\n",
       "      <td>N508</td>\n",
       "      <td>R453</td>\n",
       "      <td>00-00-00</td>\n",
       "      <td>23 ST</td>\n",
       "      <td>FM</td>\n",
       "      <td>IND</td>\n",
       "      <td>04/27/2017</td>\n",
       "      <td>00:00:00</td>\n",
       "      <td>237061391</td>\n",
       "      <td>N508,R453,00-00-00,23 ST</td>\n",
       "      <td>23 ST_FM</td>\n",
       "      <td>2017-04-27 00:00:00</td>\n",
       "      <td>501.0</td>\n",
       "      <td>3</td>\n",
       "      <td>4_Thursday</td>\n",
       "      <td>0</td>\n",
       "    </tr>\n",
       "    <tr>\n",
       "      <th>95442</th>\n",
       "      <td>N508</td>\n",
       "      <td>R453</td>\n",
       "      <td>00-00-00</td>\n",
       "      <td>23 ST</td>\n",
       "      <td>FM</td>\n",
       "      <td>IND</td>\n",
       "      <td>04/27/2017</td>\n",
       "      <td>04:00:00</td>\n",
       "      <td>237061392</td>\n",
       "      <td>N508,R453,00-00-00,23 ST</td>\n",
       "      <td>23 ST_FM</td>\n",
       "      <td>2017-04-27 04:00:00</td>\n",
       "      <td>1.0</td>\n",
       "      <td>3</td>\n",
       "      <td>4_Thursday</td>\n",
       "      <td>4</td>\n",
       "    </tr>\n",
       "    <tr>\n",
       "      <th>95443</th>\n",
       "      <td>N508</td>\n",
       "      <td>R453</td>\n",
       "      <td>00-00-00</td>\n",
       "      <td>23 ST</td>\n",
       "      <td>FM</td>\n",
       "      <td>IND</td>\n",
       "      <td>04/27/2017</td>\n",
       "      <td>08:00:00</td>\n",
       "      <td>237061413</td>\n",
       "      <td>N508,R453,00-00-00,23 ST</td>\n",
       "      <td>23 ST_FM</td>\n",
       "      <td>2017-04-27 08:00:00</td>\n",
       "      <td>21.0</td>\n",
       "      <td>3</td>\n",
       "      <td>4_Thursday</td>\n",
       "      <td>8</td>\n",
       "    </tr>\n",
       "    <tr>\n",
       "      <th>95444</th>\n",
       "      <td>N508</td>\n",
       "      <td>R453</td>\n",
       "      <td>00-00-00</td>\n",
       "      <td>23 ST</td>\n",
       "      <td>FM</td>\n",
       "      <td>IND</td>\n",
       "      <td>04/27/2017</td>\n",
       "      <td>12:00:00</td>\n",
       "      <td>237061621</td>\n",
       "      <td>N508,R453,00-00-00,23 ST</td>\n",
       "      <td>23 ST_FM</td>\n",
       "      <td>2017-04-27 12:00:00</td>\n",
       "      <td>208.0</td>\n",
       "      <td>3</td>\n",
       "      <td>4_Thursday</td>\n",
       "      <td>12</td>\n",
       "    </tr>\n",
       "    <tr>\n",
       "      <th>95445</th>\n",
       "      <td>N508</td>\n",
       "      <td>R453</td>\n",
       "      <td>00-00-00</td>\n",
       "      <td>23 ST</td>\n",
       "      <td>FM</td>\n",
       "      <td>IND</td>\n",
       "      <td>04/27/2017</td>\n",
       "      <td>16:00:00</td>\n",
       "      <td>237062042</td>\n",
       "      <td>N508,R453,00-00-00,23 ST</td>\n",
       "      <td>23 ST_FM</td>\n",
       "      <td>2017-04-27 16:00:00</td>\n",
       "      <td>421.0</td>\n",
       "      <td>3</td>\n",
       "      <td>4_Thursday</td>\n",
       "      <td>16</td>\n",
       "    </tr>\n",
       "    <tr>\n",
       "      <th>95446</th>\n",
       "      <td>N508</td>\n",
       "      <td>R453</td>\n",
       "      <td>00-00-00</td>\n",
       "      <td>23 ST</td>\n",
       "      <td>FM</td>\n",
       "      <td>IND</td>\n",
       "      <td>04/27/2017</td>\n",
       "      <td>20:00:00</td>\n",
       "      <td>237062933</td>\n",
       "      <td>N508,R453,00-00-00,23 ST</td>\n",
       "      <td>23 ST_FM</td>\n",
       "      <td>2017-04-27 20:00:00</td>\n",
       "      <td>891.0</td>\n",
       "      <td>3</td>\n",
       "      <td>4_Thursday</td>\n",
       "      <td>20</td>\n",
       "    </tr>\n",
       "    <tr>\n",
       "      <th>95277</th>\n",
       "      <td>N508</td>\n",
       "      <td>R453</td>\n",
       "      <td>00-00-00</td>\n",
       "      <td>23 ST</td>\n",
       "      <td>FM</td>\n",
       "      <td>IND</td>\n",
       "      <td>05/04/2017</td>\n",
       "      <td>00:00:00</td>\n",
       "      <td>237073656</td>\n",
       "      <td>N508,R453,00-00-00,23 ST</td>\n",
       "      <td>23 ST_FM</td>\n",
       "      <td>2017-05-04 00:00:00</td>\n",
       "      <td>583.0</td>\n",
       "      <td>3</td>\n",
       "      <td>4_Thursday</td>\n",
       "      <td>0</td>\n",
       "    </tr>\n",
       "    <tr>\n",
       "      <th>95278</th>\n",
       "      <td>N508</td>\n",
       "      <td>R453</td>\n",
       "      <td>00-00-00</td>\n",
       "      <td>23 ST</td>\n",
       "      <td>FM</td>\n",
       "      <td>IND</td>\n",
       "      <td>05/04/2017</td>\n",
       "      <td>04:00:00</td>\n",
       "      <td>237073693</td>\n",
       "      <td>N508,R453,00-00-00,23 ST</td>\n",
       "      <td>23 ST_FM</td>\n",
       "      <td>2017-05-04 04:00:00</td>\n",
       "      <td>37.0</td>\n",
       "      <td>3</td>\n",
       "      <td>4_Thursday</td>\n",
       "      <td>4</td>\n",
       "    </tr>\n",
       "    <tr>\n",
       "      <th>95279</th>\n",
       "      <td>N508</td>\n",
       "      <td>R453</td>\n",
       "      <td>00-00-00</td>\n",
       "      <td>23 ST</td>\n",
       "      <td>FM</td>\n",
       "      <td>IND</td>\n",
       "      <td>05/04/2017</td>\n",
       "      <td>08:00:00</td>\n",
       "      <td>237073721</td>\n",
       "      <td>N508,R453,00-00-00,23 ST</td>\n",
       "      <td>23 ST_FM</td>\n",
       "      <td>2017-05-04 08:00:00</td>\n",
       "      <td>28.0</td>\n",
       "      <td>3</td>\n",
       "      <td>4_Thursday</td>\n",
       "      <td>8</td>\n",
       "    </tr>\n",
       "    <tr>\n",
       "      <th>95280</th>\n",
       "      <td>N508</td>\n",
       "      <td>R453</td>\n",
       "      <td>00-00-00</td>\n",
       "      <td>23 ST</td>\n",
       "      <td>FM</td>\n",
       "      <td>IND</td>\n",
       "      <td>05/04/2017</td>\n",
       "      <td>12:00:00</td>\n",
       "      <td>237073944</td>\n",
       "      <td>N508,R453,00-00-00,23 ST</td>\n",
       "      <td>23 ST_FM</td>\n",
       "      <td>2017-05-04 12:00:00</td>\n",
       "      <td>223.0</td>\n",
       "      <td>3</td>\n",
       "      <td>4_Thursday</td>\n",
       "      <td>12</td>\n",
       "    </tr>\n",
       "    <tr>\n",
       "      <th>95281</th>\n",
       "      <td>N508</td>\n",
       "      <td>R453</td>\n",
       "      <td>00-00-00</td>\n",
       "      <td>23 ST</td>\n",
       "      <td>FM</td>\n",
       "      <td>IND</td>\n",
       "      <td>05/04/2017</td>\n",
       "      <td>16:00:00</td>\n",
       "      <td>237074438</td>\n",
       "      <td>N508,R453,00-00-00,23 ST</td>\n",
       "      <td>23 ST_FM</td>\n",
       "      <td>2017-05-04 16:00:00</td>\n",
       "      <td>494.0</td>\n",
       "      <td>3</td>\n",
       "      <td>4_Thursday</td>\n",
       "      <td>16</td>\n",
       "    </tr>\n",
       "    <tr>\n",
       "      <th>95282</th>\n",
       "      <td>N508</td>\n",
       "      <td>R453</td>\n",
       "      <td>00-00-00</td>\n",
       "      <td>23 ST</td>\n",
       "      <td>FM</td>\n",
       "      <td>IND</td>\n",
       "      <td>05/04/2017</td>\n",
       "      <td>20:00:00</td>\n",
       "      <td>237075934</td>\n",
       "      <td>N508,R453,00-00-00,23 ST</td>\n",
       "      <td>23 ST_FM</td>\n",
       "      <td>2017-05-04 20:00:00</td>\n",
       "      <td>1496.0</td>\n",
       "      <td>3</td>\n",
       "      <td>4_Thursday</td>\n",
       "      <td>20</td>\n",
       "    </tr>\n",
       "    <tr>\n",
       "      <th>94721</th>\n",
       "      <td>N508</td>\n",
       "      <td>R453</td>\n",
       "      <td>00-00-00</td>\n",
       "      <td>23 ST</td>\n",
       "      <td>FM</td>\n",
       "      <td>IND</td>\n",
       "      <td>05/11/2017</td>\n",
       "      <td>00:00:00</td>\n",
       "      <td>237090094</td>\n",
       "      <td>N508,R453,00-00-00,23 ST</td>\n",
       "      <td>23 ST_FM</td>\n",
       "      <td>2017-05-11 00:00:00</td>\n",
       "      <td>587.0</td>\n",
       "      <td>3</td>\n",
       "      <td>4_Thursday</td>\n",
       "      <td>0</td>\n",
       "    </tr>\n",
       "    <tr>\n",
       "      <th>94722</th>\n",
       "      <td>N508</td>\n",
       "      <td>R453</td>\n",
       "      <td>00-00-00</td>\n",
       "      <td>23 ST</td>\n",
       "      <td>FM</td>\n",
       "      <td>IND</td>\n",
       "      <td>05/11/2017</td>\n",
       "      <td>04:00:00</td>\n",
       "      <td>237090126</td>\n",
       "      <td>N508,R453,00-00-00,23 ST</td>\n",
       "      <td>23 ST_FM</td>\n",
       "      <td>2017-05-11 04:00:00</td>\n",
       "      <td>32.0</td>\n",
       "      <td>3</td>\n",
       "      <td>4_Thursday</td>\n",
       "      <td>4</td>\n",
       "    </tr>\n",
       "    <tr>\n",
       "      <th>94723</th>\n",
       "      <td>N508</td>\n",
       "      <td>R453</td>\n",
       "      <td>00-00-00</td>\n",
       "      <td>23 ST</td>\n",
       "      <td>FM</td>\n",
       "      <td>IND</td>\n",
       "      <td>05/11/2017</td>\n",
       "      <td>08:00:00</td>\n",
       "      <td>237090162</td>\n",
       "      <td>N508,R453,00-00-00,23 ST</td>\n",
       "      <td>23 ST_FM</td>\n",
       "      <td>2017-05-11 08:00:00</td>\n",
       "      <td>36.0</td>\n",
       "      <td>3</td>\n",
       "      <td>4_Thursday</td>\n",
       "      <td>8</td>\n",
       "    </tr>\n",
       "    <tr>\n",
       "      <th>94724</th>\n",
       "      <td>N508</td>\n",
       "      <td>R453</td>\n",
       "      <td>00-00-00</td>\n",
       "      <td>23 ST</td>\n",
       "      <td>FM</td>\n",
       "      <td>IND</td>\n",
       "      <td>05/11/2017</td>\n",
       "      <td>12:00:00</td>\n",
       "      <td>237090400</td>\n",
       "      <td>N508,R453,00-00-00,23 ST</td>\n",
       "      <td>23 ST_FM</td>\n",
       "      <td>2017-05-11 12:00:00</td>\n",
       "      <td>238.0</td>\n",
       "      <td>3</td>\n",
       "      <td>4_Thursday</td>\n",
       "      <td>12</td>\n",
       "    </tr>\n",
       "    <tr>\n",
       "      <th>94725</th>\n",
       "      <td>N508</td>\n",
       "      <td>R453</td>\n",
       "      <td>00-00-00</td>\n",
       "      <td>23 ST</td>\n",
       "      <td>FM</td>\n",
       "      <td>IND</td>\n",
       "      <td>05/11/2017</td>\n",
       "      <td>16:00:00</td>\n",
       "      <td>237090964</td>\n",
       "      <td>N508,R453,00-00-00,23 ST</td>\n",
       "      <td>23 ST_FM</td>\n",
       "      <td>2017-05-11 16:00:00</td>\n",
       "      <td>564.0</td>\n",
       "      <td>3</td>\n",
       "      <td>4_Thursday</td>\n",
       "      <td>16</td>\n",
       "    </tr>\n",
       "    <tr>\n",
       "      <th>94726</th>\n",
       "      <td>N508</td>\n",
       "      <td>R453</td>\n",
       "      <td>00-00-00</td>\n",
       "      <td>23 ST</td>\n",
       "      <td>FM</td>\n",
       "      <td>IND</td>\n",
       "      <td>05/11/2017</td>\n",
       "      <td>20:00:00</td>\n",
       "      <td>237092525</td>\n",
       "      <td>N508,R453,00-00-00,23 ST</td>\n",
       "      <td>23 ST_FM</td>\n",
       "      <td>2017-05-11 20:00:00</td>\n",
       "      <td>1561.0</td>\n",
       "      <td>3</td>\n",
       "      <td>4_Thursday</td>\n",
       "      <td>20</td>\n",
       "    </tr>\n",
       "    <tr>\n",
       "      <th>95044</th>\n",
       "      <td>N508</td>\n",
       "      <td>R453</td>\n",
       "      <td>00-00-01</td>\n",
       "      <td>23 ST</td>\n",
       "      <td>FM</td>\n",
       "      <td>IND</td>\n",
       "      <td>04/20/2017</td>\n",
       "      <td>00:00:00</td>\n",
       "      <td>673525511</td>\n",
       "      <td>N508,R453,00-00-01,23 ST</td>\n",
       "      <td>23 ST_FM</td>\n",
       "      <td>2017-04-20 00:00:00</td>\n",
       "      <td>631.0</td>\n",
       "      <td>3</td>\n",
       "      <td>4_Thursday</td>\n",
       "      <td>0</td>\n",
       "    </tr>\n",
       "    <tr>\n",
       "      <th>95045</th>\n",
       "      <td>N508</td>\n",
       "      <td>R453</td>\n",
       "      <td>00-00-01</td>\n",
       "      <td>23 ST</td>\n",
       "      <td>FM</td>\n",
       "      <td>IND</td>\n",
       "      <td>04/20/2017</td>\n",
       "      <td>04:00:00</td>\n",
       "      <td>673525538</td>\n",
       "      <td>N508,R453,00-00-01,23 ST</td>\n",
       "      <td>23 ST_FM</td>\n",
       "      <td>2017-04-20 04:00:00</td>\n",
       "      <td>27.0</td>\n",
       "      <td>3</td>\n",
       "      <td>4_Thursday</td>\n",
       "      <td>4</td>\n",
       "    </tr>\n",
       "    <tr>\n",
       "      <th>95046</th>\n",
       "      <td>N508</td>\n",
       "      <td>R453</td>\n",
       "      <td>00-00-01</td>\n",
       "      <td>23 ST</td>\n",
       "      <td>FM</td>\n",
       "      <td>IND</td>\n",
       "      <td>04/20/2017</td>\n",
       "      <td>08:00:00</td>\n",
       "      <td>673525580</td>\n",
       "      <td>N508,R453,00-00-01,23 ST</td>\n",
       "      <td>23 ST_FM</td>\n",
       "      <td>2017-04-20 08:00:00</td>\n",
       "      <td>42.0</td>\n",
       "      <td>3</td>\n",
       "      <td>4_Thursday</td>\n",
       "      <td>8</td>\n",
       "    </tr>\n",
       "    <tr>\n",
       "      <th>95047</th>\n",
       "      <td>N508</td>\n",
       "      <td>R453</td>\n",
       "      <td>00-00-01</td>\n",
       "      <td>23 ST</td>\n",
       "      <td>FM</td>\n",
       "      <td>IND</td>\n",
       "      <td>04/20/2017</td>\n",
       "      <td>12:00:00</td>\n",
       "      <td>673525833</td>\n",
       "      <td>N508,R453,00-00-01,23 ST</td>\n",
       "      <td>23 ST_FM</td>\n",
       "      <td>2017-04-20 12:00:00</td>\n",
       "      <td>253.0</td>\n",
       "      <td>3</td>\n",
       "      <td>4_Thursday</td>\n",
       "      <td>12</td>\n",
       "    </tr>\n",
       "    <tr>\n",
       "      <th>95048</th>\n",
       "      <td>N508</td>\n",
       "      <td>R453</td>\n",
       "      <td>00-00-01</td>\n",
       "      <td>23 ST</td>\n",
       "      <td>FM</td>\n",
       "      <td>IND</td>\n",
       "      <td>04/20/2017</td>\n",
       "      <td>16:00:00</td>\n",
       "      <td>673526436</td>\n",
       "      <td>N508,R453,00-00-01,23 ST</td>\n",
       "      <td>23 ST_FM</td>\n",
       "      <td>2017-04-20 16:00:00</td>\n",
       "      <td>603.0</td>\n",
       "      <td>3</td>\n",
       "      <td>4_Thursday</td>\n",
       "      <td>16</td>\n",
       "    </tr>\n",
       "    <tr>\n",
       "      <th>95049</th>\n",
       "      <td>N508</td>\n",
       "      <td>R453</td>\n",
       "      <td>00-00-01</td>\n",
       "      <td>23 ST</td>\n",
       "      <td>FM</td>\n",
       "      <td>IND</td>\n",
       "      <td>04/20/2017</td>\n",
       "      <td>20:00:00</td>\n",
       "      <td>673527852</td>\n",
       "      <td>N508,R453,00-00-01,23 ST</td>\n",
       "      <td>23 ST_FM</td>\n",
       "      <td>2017-04-20 20:00:00</td>\n",
       "      <td>1416.0</td>\n",
       "      <td>3</td>\n",
       "      <td>4_Thursday</td>\n",
       "      <td>20</td>\n",
       "    </tr>\n",
       "    <tr>\n",
       "      <th>...</th>\n",
       "      <td>...</td>\n",
       "      <td>...</td>\n",
       "      <td>...</td>\n",
       "      <td>...</td>\n",
       "      <td>...</td>\n",
       "      <td>...</td>\n",
       "      <td>...</td>\n",
       "      <td>...</td>\n",
       "      <td>...</td>\n",
       "      <td>...</td>\n",
       "      <td>...</td>\n",
       "      <td>...</td>\n",
       "      <td>...</td>\n",
       "      <td>...</td>\n",
       "      <td>...</td>\n",
       "      <td>...</td>\n",
       "    </tr>\n",
       "    <tr>\n",
       "      <th>95057</th>\n",
       "      <td>N509</td>\n",
       "      <td>R203</td>\n",
       "      <td>00-00-03</td>\n",
       "      <td>23 ST</td>\n",
       "      <td>FM</td>\n",
       "      <td>IND</td>\n",
       "      <td>05/11/2017</td>\n",
       "      <td>00:00:00</td>\n",
       "      <td>5436921</td>\n",
       "      <td>N509,R203,00-00-03,23 ST</td>\n",
       "      <td>23 ST_FM</td>\n",
       "      <td>2017-05-11 00:00:00</td>\n",
       "      <td>524.0</td>\n",
       "      <td>3</td>\n",
       "      <td>4_Thursday</td>\n",
       "      <td>0</td>\n",
       "    </tr>\n",
       "    <tr>\n",
       "      <th>95058</th>\n",
       "      <td>N509</td>\n",
       "      <td>R203</td>\n",
       "      <td>00-00-03</td>\n",
       "      <td>23 ST</td>\n",
       "      <td>FM</td>\n",
       "      <td>IND</td>\n",
       "      <td>05/11/2017</td>\n",
       "      <td>04:00:00</td>\n",
       "      <td>5436959</td>\n",
       "      <td>N509,R203,00-00-03,23 ST</td>\n",
       "      <td>23 ST_FM</td>\n",
       "      <td>2017-05-11 04:00:00</td>\n",
       "      <td>38.0</td>\n",
       "      <td>3</td>\n",
       "      <td>4_Thursday</td>\n",
       "      <td>4</td>\n",
       "    </tr>\n",
       "    <tr>\n",
       "      <th>95059</th>\n",
       "      <td>N509</td>\n",
       "      <td>R203</td>\n",
       "      <td>00-00-03</td>\n",
       "      <td>23 ST</td>\n",
       "      <td>FM</td>\n",
       "      <td>IND</td>\n",
       "      <td>05/11/2017</td>\n",
       "      <td>08:00:00</td>\n",
       "      <td>5437115</td>\n",
       "      <td>N509,R203,00-00-03,23 ST</td>\n",
       "      <td>23 ST_FM</td>\n",
       "      <td>2017-05-11 08:00:00</td>\n",
       "      <td>156.0</td>\n",
       "      <td>3</td>\n",
       "      <td>4_Thursday</td>\n",
       "      <td>8</td>\n",
       "    </tr>\n",
       "    <tr>\n",
       "      <th>95060</th>\n",
       "      <td>N509</td>\n",
       "      <td>R203</td>\n",
       "      <td>00-00-03</td>\n",
       "      <td>23 ST</td>\n",
       "      <td>FM</td>\n",
       "      <td>IND</td>\n",
       "      <td>05/11/2017</td>\n",
       "      <td>12:00:00</td>\n",
       "      <td>5437798</td>\n",
       "      <td>N509,R203,00-00-03,23 ST</td>\n",
       "      <td>23 ST_FM</td>\n",
       "      <td>2017-05-11 12:00:00</td>\n",
       "      <td>683.0</td>\n",
       "      <td>3</td>\n",
       "      <td>4_Thursday</td>\n",
       "      <td>12</td>\n",
       "    </tr>\n",
       "    <tr>\n",
       "      <th>95061</th>\n",
       "      <td>N509</td>\n",
       "      <td>R203</td>\n",
       "      <td>00-00-03</td>\n",
       "      <td>23 ST</td>\n",
       "      <td>FM</td>\n",
       "      <td>IND</td>\n",
       "      <td>05/11/2017</td>\n",
       "      <td>16:00:00</td>\n",
       "      <td>5438533</td>\n",
       "      <td>N509,R203,00-00-03,23 ST</td>\n",
       "      <td>23 ST_FM</td>\n",
       "      <td>2017-05-11 16:00:00</td>\n",
       "      <td>735.0</td>\n",
       "      <td>3</td>\n",
       "      <td>4_Thursday</td>\n",
       "      <td>16</td>\n",
       "    </tr>\n",
       "    <tr>\n",
       "      <th>95062</th>\n",
       "      <td>N509</td>\n",
       "      <td>R203</td>\n",
       "      <td>00-00-03</td>\n",
       "      <td>23 ST</td>\n",
       "      <td>FM</td>\n",
       "      <td>IND</td>\n",
       "      <td>05/11/2017</td>\n",
       "      <td>20:00:00</td>\n",
       "      <td>5440004</td>\n",
       "      <td>N509,R203,00-00-03,23 ST</td>\n",
       "      <td>23 ST_FM</td>\n",
       "      <td>2017-05-11 20:00:00</td>\n",
       "      <td>1471.0</td>\n",
       "      <td>3</td>\n",
       "      <td>4_Thursday</td>\n",
       "      <td>20</td>\n",
       "    </tr>\n",
       "    <tr>\n",
       "      <th>95379</th>\n",
       "      <td>N509</td>\n",
       "      <td>R203</td>\n",
       "      <td>00-00-04</td>\n",
       "      <td>23 ST</td>\n",
       "      <td>FM</td>\n",
       "      <td>IND</td>\n",
       "      <td>04/20/2017</td>\n",
       "      <td>00:00:00</td>\n",
       "      <td>6057130</td>\n",
       "      <td>N509,R203,00-00-04,23 ST</td>\n",
       "      <td>23 ST_FM</td>\n",
       "      <td>2017-04-20 00:00:00</td>\n",
       "      <td>575.0</td>\n",
       "      <td>3</td>\n",
       "      <td>4_Thursday</td>\n",
       "      <td>0</td>\n",
       "    </tr>\n",
       "    <tr>\n",
       "      <th>95380</th>\n",
       "      <td>N509</td>\n",
       "      <td>R203</td>\n",
       "      <td>00-00-04</td>\n",
       "      <td>23 ST</td>\n",
       "      <td>FM</td>\n",
       "      <td>IND</td>\n",
       "      <td>04/20/2017</td>\n",
       "      <td>04:00:00</td>\n",
       "      <td>6057200</td>\n",
       "      <td>N509,R203,00-00-04,23 ST</td>\n",
       "      <td>23 ST_FM</td>\n",
       "      <td>2017-04-20 04:00:00</td>\n",
       "      <td>70.0</td>\n",
       "      <td>3</td>\n",
       "      <td>4_Thursday</td>\n",
       "      <td>4</td>\n",
       "    </tr>\n",
       "    <tr>\n",
       "      <th>95381</th>\n",
       "      <td>N509</td>\n",
       "      <td>R203</td>\n",
       "      <td>00-00-04</td>\n",
       "      <td>23 ST</td>\n",
       "      <td>FM</td>\n",
       "      <td>IND</td>\n",
       "      <td>04/20/2017</td>\n",
       "      <td>08:00:00</td>\n",
       "      <td>6057381</td>\n",
       "      <td>N509,R203,00-00-04,23 ST</td>\n",
       "      <td>23 ST_FM</td>\n",
       "      <td>2017-04-20 08:00:00</td>\n",
       "      <td>181.0</td>\n",
       "      <td>3</td>\n",
       "      <td>4_Thursday</td>\n",
       "      <td>8</td>\n",
       "    </tr>\n",
       "    <tr>\n",
       "      <th>95382</th>\n",
       "      <td>N509</td>\n",
       "      <td>R203</td>\n",
       "      <td>00-00-04</td>\n",
       "      <td>23 ST</td>\n",
       "      <td>FM</td>\n",
       "      <td>IND</td>\n",
       "      <td>04/20/2017</td>\n",
       "      <td>12:00:00</td>\n",
       "      <td>6058077</td>\n",
       "      <td>N509,R203,00-00-04,23 ST</td>\n",
       "      <td>23 ST_FM</td>\n",
       "      <td>2017-04-20 12:00:00</td>\n",
       "      <td>696.0</td>\n",
       "      <td>3</td>\n",
       "      <td>4_Thursday</td>\n",
       "      <td>12</td>\n",
       "    </tr>\n",
       "    <tr>\n",
       "      <th>95383</th>\n",
       "      <td>N509</td>\n",
       "      <td>R203</td>\n",
       "      <td>00-00-04</td>\n",
       "      <td>23 ST</td>\n",
       "      <td>FM</td>\n",
       "      <td>IND</td>\n",
       "      <td>04/20/2017</td>\n",
       "      <td>16:00:00</td>\n",
       "      <td>6058833</td>\n",
       "      <td>N509,R203,00-00-04,23 ST</td>\n",
       "      <td>23 ST_FM</td>\n",
       "      <td>2017-04-20 16:00:00</td>\n",
       "      <td>756.0</td>\n",
       "      <td>3</td>\n",
       "      <td>4_Thursday</td>\n",
       "      <td>16</td>\n",
       "    </tr>\n",
       "    <tr>\n",
       "      <th>95384</th>\n",
       "      <td>N509</td>\n",
       "      <td>R203</td>\n",
       "      <td>00-00-04</td>\n",
       "      <td>23 ST</td>\n",
       "      <td>FM</td>\n",
       "      <td>IND</td>\n",
       "      <td>04/20/2017</td>\n",
       "      <td>20:00:00</td>\n",
       "      <td>6060496</td>\n",
       "      <td>N509,R203,00-00-04,23 ST</td>\n",
       "      <td>23 ST_FM</td>\n",
       "      <td>2017-04-20 20:00:00</td>\n",
       "      <td>1663.0</td>\n",
       "      <td>3</td>\n",
       "      <td>4_Thursday</td>\n",
       "      <td>20</td>\n",
       "    </tr>\n",
       "    <tr>\n",
       "      <th>95819</th>\n",
       "      <td>N509</td>\n",
       "      <td>R203</td>\n",
       "      <td>00-00-04</td>\n",
       "      <td>23 ST</td>\n",
       "      <td>FM</td>\n",
       "      <td>IND</td>\n",
       "      <td>04/27/2017</td>\n",
       "      <td>00:00:00</td>\n",
       "      <td>6079856</td>\n",
       "      <td>N509,R203,00-00-04,23 ST</td>\n",
       "      <td>23 ST_FM</td>\n",
       "      <td>2017-04-27 00:00:00</td>\n",
       "      <td>590.0</td>\n",
       "      <td>3</td>\n",
       "      <td>4_Thursday</td>\n",
       "      <td>0</td>\n",
       "    </tr>\n",
       "    <tr>\n",
       "      <th>95820</th>\n",
       "      <td>N509</td>\n",
       "      <td>R203</td>\n",
       "      <td>00-00-04</td>\n",
       "      <td>23 ST</td>\n",
       "      <td>FM</td>\n",
       "      <td>IND</td>\n",
       "      <td>04/27/2017</td>\n",
       "      <td>04:00:00</td>\n",
       "      <td>6079920</td>\n",
       "      <td>N509,R203,00-00-04,23 ST</td>\n",
       "      <td>23 ST_FM</td>\n",
       "      <td>2017-04-27 04:00:00</td>\n",
       "      <td>64.0</td>\n",
       "      <td>3</td>\n",
       "      <td>4_Thursday</td>\n",
       "      <td>4</td>\n",
       "    </tr>\n",
       "    <tr>\n",
       "      <th>95821</th>\n",
       "      <td>N509</td>\n",
       "      <td>R203</td>\n",
       "      <td>00-00-04</td>\n",
       "      <td>23 ST</td>\n",
       "      <td>FM</td>\n",
       "      <td>IND</td>\n",
       "      <td>04/27/2017</td>\n",
       "      <td>08:00:00</td>\n",
       "      <td>6080102</td>\n",
       "      <td>N509,R203,00-00-04,23 ST</td>\n",
       "      <td>23 ST_FM</td>\n",
       "      <td>2017-04-27 08:00:00</td>\n",
       "      <td>182.0</td>\n",
       "      <td>3</td>\n",
       "      <td>4_Thursday</td>\n",
       "      <td>8</td>\n",
       "    </tr>\n",
       "    <tr>\n",
       "      <th>95822</th>\n",
       "      <td>N509</td>\n",
       "      <td>R203</td>\n",
       "      <td>00-00-04</td>\n",
       "      <td>23 ST</td>\n",
       "      <td>FM</td>\n",
       "      <td>IND</td>\n",
       "      <td>04/27/2017</td>\n",
       "      <td>12:00:00</td>\n",
       "      <td>6080907</td>\n",
       "      <td>N509,R203,00-00-04,23 ST</td>\n",
       "      <td>23 ST_FM</td>\n",
       "      <td>2017-04-27 12:00:00</td>\n",
       "      <td>805.0</td>\n",
       "      <td>3</td>\n",
       "      <td>4_Thursday</td>\n",
       "      <td>12</td>\n",
       "    </tr>\n",
       "    <tr>\n",
       "      <th>95823</th>\n",
       "      <td>N509</td>\n",
       "      <td>R203</td>\n",
       "      <td>00-00-04</td>\n",
       "      <td>23 ST</td>\n",
       "      <td>FM</td>\n",
       "      <td>IND</td>\n",
       "      <td>04/27/2017</td>\n",
       "      <td>16:00:00</td>\n",
       "      <td>6081748</td>\n",
       "      <td>N509,R203,00-00-04,23 ST</td>\n",
       "      <td>23 ST_FM</td>\n",
       "      <td>2017-04-27 16:00:00</td>\n",
       "      <td>841.0</td>\n",
       "      <td>3</td>\n",
       "      <td>4_Thursday</td>\n",
       "      <td>16</td>\n",
       "    </tr>\n",
       "    <tr>\n",
       "      <th>95824</th>\n",
       "      <td>N509</td>\n",
       "      <td>R203</td>\n",
       "      <td>00-00-04</td>\n",
       "      <td>23 ST</td>\n",
       "      <td>FM</td>\n",
       "      <td>IND</td>\n",
       "      <td>04/27/2017</td>\n",
       "      <td>20:00:00</td>\n",
       "      <td>6083431</td>\n",
       "      <td>N509,R203,00-00-04,23 ST</td>\n",
       "      <td>23 ST_FM</td>\n",
       "      <td>2017-04-27 20:00:00</td>\n",
       "      <td>1683.0</td>\n",
       "      <td>3</td>\n",
       "      <td>4_Thursday</td>\n",
       "      <td>20</td>\n",
       "    </tr>\n",
       "    <tr>\n",
       "      <th>95655</th>\n",
       "      <td>N509</td>\n",
       "      <td>R203</td>\n",
       "      <td>00-00-04</td>\n",
       "      <td>23 ST</td>\n",
       "      <td>FM</td>\n",
       "      <td>IND</td>\n",
       "      <td>05/04/2017</td>\n",
       "      <td>00:00:00</td>\n",
       "      <td>6099682</td>\n",
       "      <td>N509,R203,00-00-04,23 ST</td>\n",
       "      <td>23 ST_FM</td>\n",
       "      <td>2017-05-04 00:00:00</td>\n",
       "      <td>569.0</td>\n",
       "      <td>3</td>\n",
       "      <td>4_Thursday</td>\n",
       "      <td>0</td>\n",
       "    </tr>\n",
       "    <tr>\n",
       "      <th>95656</th>\n",
       "      <td>N509</td>\n",
       "      <td>R203</td>\n",
       "      <td>00-00-04</td>\n",
       "      <td>23 ST</td>\n",
       "      <td>FM</td>\n",
       "      <td>IND</td>\n",
       "      <td>05/04/2017</td>\n",
       "      <td>04:00:00</td>\n",
       "      <td>6099682</td>\n",
       "      <td>N509,R203,00-00-04,23 ST</td>\n",
       "      <td>23 ST_FM</td>\n",
       "      <td>2017-05-04 04:00:00</td>\n",
       "      <td>0.0</td>\n",
       "      <td>3</td>\n",
       "      <td>4_Thursday</td>\n",
       "      <td>4</td>\n",
       "    </tr>\n",
       "    <tr>\n",
       "      <th>95657</th>\n",
       "      <td>N509</td>\n",
       "      <td>R203</td>\n",
       "      <td>00-00-04</td>\n",
       "      <td>23 ST</td>\n",
       "      <td>FM</td>\n",
       "      <td>IND</td>\n",
       "      <td>05/04/2017</td>\n",
       "      <td>08:00:00</td>\n",
       "      <td>6099859</td>\n",
       "      <td>N509,R203,00-00-04,23 ST</td>\n",
       "      <td>23 ST_FM</td>\n",
       "      <td>2017-05-04 08:00:00</td>\n",
       "      <td>177.0</td>\n",
       "      <td>3</td>\n",
       "      <td>4_Thursday</td>\n",
       "      <td>8</td>\n",
       "    </tr>\n",
       "    <tr>\n",
       "      <th>95658</th>\n",
       "      <td>N509</td>\n",
       "      <td>R203</td>\n",
       "      <td>00-00-04</td>\n",
       "      <td>23 ST</td>\n",
       "      <td>FM</td>\n",
       "      <td>IND</td>\n",
       "      <td>05/04/2017</td>\n",
       "      <td>12:00:00</td>\n",
       "      <td>6100636</td>\n",
       "      <td>N509,R203,00-00-04,23 ST</td>\n",
       "      <td>23 ST_FM</td>\n",
       "      <td>2017-05-04 12:00:00</td>\n",
       "      <td>777.0</td>\n",
       "      <td>3</td>\n",
       "      <td>4_Thursday</td>\n",
       "      <td>12</td>\n",
       "    </tr>\n",
       "    <tr>\n",
       "      <th>95659</th>\n",
       "      <td>N509</td>\n",
       "      <td>R203</td>\n",
       "      <td>00-00-04</td>\n",
       "      <td>23 ST</td>\n",
       "      <td>FM</td>\n",
       "      <td>IND</td>\n",
       "      <td>05/04/2017</td>\n",
       "      <td>16:00:00</td>\n",
       "      <td>6101471</td>\n",
       "      <td>N509,R203,00-00-04,23 ST</td>\n",
       "      <td>23 ST_FM</td>\n",
       "      <td>2017-05-04 16:00:00</td>\n",
       "      <td>835.0</td>\n",
       "      <td>3</td>\n",
       "      <td>4_Thursday</td>\n",
       "      <td>16</td>\n",
       "    </tr>\n",
       "    <tr>\n",
       "      <th>95660</th>\n",
       "      <td>N509</td>\n",
       "      <td>R203</td>\n",
       "      <td>00-00-04</td>\n",
       "      <td>23 ST</td>\n",
       "      <td>FM</td>\n",
       "      <td>IND</td>\n",
       "      <td>05/04/2017</td>\n",
       "      <td>20:00:00</td>\n",
       "      <td>6103068</td>\n",
       "      <td>N509,R203,00-00-04,23 ST</td>\n",
       "      <td>23 ST_FM</td>\n",
       "      <td>2017-05-04 20:00:00</td>\n",
       "      <td>1597.0</td>\n",
       "      <td>3</td>\n",
       "      <td>4_Thursday</td>\n",
       "      <td>20</td>\n",
       "    </tr>\n",
       "    <tr>\n",
       "      <th>95099</th>\n",
       "      <td>N509</td>\n",
       "      <td>R203</td>\n",
       "      <td>00-00-04</td>\n",
       "      <td>23 ST</td>\n",
       "      <td>FM</td>\n",
       "      <td>IND</td>\n",
       "      <td>05/11/2017</td>\n",
       "      <td>00:00:00</td>\n",
       "      <td>6121464</td>\n",
       "      <td>N509,R203,00-00-04,23 ST</td>\n",
       "      <td>23 ST_FM</td>\n",
       "      <td>2017-05-11 00:00:00</td>\n",
       "      <td>567.0</td>\n",
       "      <td>3</td>\n",
       "      <td>4_Thursday</td>\n",
       "      <td>0</td>\n",
       "    </tr>\n",
       "    <tr>\n",
       "      <th>95100</th>\n",
       "      <td>N509</td>\n",
       "      <td>R203</td>\n",
       "      <td>00-00-04</td>\n",
       "      <td>23 ST</td>\n",
       "      <td>FM</td>\n",
       "      <td>IND</td>\n",
       "      <td>05/11/2017</td>\n",
       "      <td>04:00:00</td>\n",
       "      <td>6121513</td>\n",
       "      <td>N509,R203,00-00-04,23 ST</td>\n",
       "      <td>23 ST_FM</td>\n",
       "      <td>2017-05-11 04:00:00</td>\n",
       "      <td>49.0</td>\n",
       "      <td>3</td>\n",
       "      <td>4_Thursday</td>\n",
       "      <td>4</td>\n",
       "    </tr>\n",
       "    <tr>\n",
       "      <th>95101</th>\n",
       "      <td>N509</td>\n",
       "      <td>R203</td>\n",
       "      <td>00-00-04</td>\n",
       "      <td>23 ST</td>\n",
       "      <td>FM</td>\n",
       "      <td>IND</td>\n",
       "      <td>05/11/2017</td>\n",
       "      <td>08:00:00</td>\n",
       "      <td>6121696</td>\n",
       "      <td>N509,R203,00-00-04,23 ST</td>\n",
       "      <td>23 ST_FM</td>\n",
       "      <td>2017-05-11 08:00:00</td>\n",
       "      <td>183.0</td>\n",
       "      <td>3</td>\n",
       "      <td>4_Thursday</td>\n",
       "      <td>8</td>\n",
       "    </tr>\n",
       "    <tr>\n",
       "      <th>95102</th>\n",
       "      <td>N509</td>\n",
       "      <td>R203</td>\n",
       "      <td>00-00-04</td>\n",
       "      <td>23 ST</td>\n",
       "      <td>FM</td>\n",
       "      <td>IND</td>\n",
       "      <td>05/11/2017</td>\n",
       "      <td>12:00:00</td>\n",
       "      <td>6122538</td>\n",
       "      <td>N509,R203,00-00-04,23 ST</td>\n",
       "      <td>23 ST_FM</td>\n",
       "      <td>2017-05-11 12:00:00</td>\n",
       "      <td>842.0</td>\n",
       "      <td>3</td>\n",
       "      <td>4_Thursday</td>\n",
       "      <td>12</td>\n",
       "    </tr>\n",
       "    <tr>\n",
       "      <th>95103</th>\n",
       "      <td>N509</td>\n",
       "      <td>R203</td>\n",
       "      <td>00-00-04</td>\n",
       "      <td>23 ST</td>\n",
       "      <td>FM</td>\n",
       "      <td>IND</td>\n",
       "      <td>05/11/2017</td>\n",
       "      <td>16:00:00</td>\n",
       "      <td>6123436</td>\n",
       "      <td>N509,R203,00-00-04,23 ST</td>\n",
       "      <td>23 ST_FM</td>\n",
       "      <td>2017-05-11 16:00:00</td>\n",
       "      <td>898.0</td>\n",
       "      <td>3</td>\n",
       "      <td>4_Thursday</td>\n",
       "      <td>16</td>\n",
       "    </tr>\n",
       "    <tr>\n",
       "      <th>95104</th>\n",
       "      <td>N509</td>\n",
       "      <td>R203</td>\n",
       "      <td>00-00-04</td>\n",
       "      <td>23 ST</td>\n",
       "      <td>FM</td>\n",
       "      <td>IND</td>\n",
       "      <td>05/11/2017</td>\n",
       "      <td>20:00:00</td>\n",
       "      <td>6124993</td>\n",
       "      <td>N509,R203,00-00-04,23 ST</td>\n",
       "      <td>23 ST_FM</td>\n",
       "      <td>2017-05-11 20:00:00</td>\n",
       "      <td>1557.0</td>\n",
       "      <td>3</td>\n",
       "      <td>4_Thursday</td>\n",
       "      <td>20</td>\n",
       "    </tr>\n",
       "  </tbody>\n",
       "</table>\n",
       "<p>240 rows × 16 columns</p>\n",
       "</div>"
      ],
      "text/plain": [
       "        C/A  UNIT       SCP STATION LINENAME DIVISION        DATE      TIME  \\\n",
       "95001  N508  R453  00-00-00   23 ST       FM      IND  04/20/2017  00:00:00   \n",
       "95002  N508  R453  00-00-00   23 ST       FM      IND  04/20/2017  04:00:00   \n",
       "95003  N508  R453  00-00-00   23 ST       FM      IND  04/20/2017  08:00:00   \n",
       "95004  N508  R453  00-00-00   23 ST       FM      IND  04/20/2017  12:00:00   \n",
       "95005  N508  R453  00-00-00   23 ST       FM      IND  04/20/2017  16:00:00   \n",
       "95006  N508  R453  00-00-00   23 ST       FM      IND  04/20/2017  20:00:00   \n",
       "95441  N508  R453  00-00-00   23 ST       FM      IND  04/27/2017  00:00:00   \n",
       "95442  N508  R453  00-00-00   23 ST       FM      IND  04/27/2017  04:00:00   \n",
       "95443  N508  R453  00-00-00   23 ST       FM      IND  04/27/2017  08:00:00   \n",
       "95444  N508  R453  00-00-00   23 ST       FM      IND  04/27/2017  12:00:00   \n",
       "95445  N508  R453  00-00-00   23 ST       FM      IND  04/27/2017  16:00:00   \n",
       "95446  N508  R453  00-00-00   23 ST       FM      IND  04/27/2017  20:00:00   \n",
       "95277  N508  R453  00-00-00   23 ST       FM      IND  05/04/2017  00:00:00   \n",
       "95278  N508  R453  00-00-00   23 ST       FM      IND  05/04/2017  04:00:00   \n",
       "95279  N508  R453  00-00-00   23 ST       FM      IND  05/04/2017  08:00:00   \n",
       "95280  N508  R453  00-00-00   23 ST       FM      IND  05/04/2017  12:00:00   \n",
       "95281  N508  R453  00-00-00   23 ST       FM      IND  05/04/2017  16:00:00   \n",
       "95282  N508  R453  00-00-00   23 ST       FM      IND  05/04/2017  20:00:00   \n",
       "94721  N508  R453  00-00-00   23 ST       FM      IND  05/11/2017  00:00:00   \n",
       "94722  N508  R453  00-00-00   23 ST       FM      IND  05/11/2017  04:00:00   \n",
       "94723  N508  R453  00-00-00   23 ST       FM      IND  05/11/2017  08:00:00   \n",
       "94724  N508  R453  00-00-00   23 ST       FM      IND  05/11/2017  12:00:00   \n",
       "94725  N508  R453  00-00-00   23 ST       FM      IND  05/11/2017  16:00:00   \n",
       "94726  N508  R453  00-00-00   23 ST       FM      IND  05/11/2017  20:00:00   \n",
       "95044  N508  R453  00-00-01   23 ST       FM      IND  04/20/2017  00:00:00   \n",
       "95045  N508  R453  00-00-01   23 ST       FM      IND  04/20/2017  04:00:00   \n",
       "95046  N508  R453  00-00-01   23 ST       FM      IND  04/20/2017  08:00:00   \n",
       "95047  N508  R453  00-00-01   23 ST       FM      IND  04/20/2017  12:00:00   \n",
       "95048  N508  R453  00-00-01   23 ST       FM      IND  04/20/2017  16:00:00   \n",
       "95049  N508  R453  00-00-01   23 ST       FM      IND  04/20/2017  20:00:00   \n",
       "...     ...   ...       ...     ...      ...      ...         ...       ...   \n",
       "95057  N509  R203  00-00-03   23 ST       FM      IND  05/11/2017  00:00:00   \n",
       "95058  N509  R203  00-00-03   23 ST       FM      IND  05/11/2017  04:00:00   \n",
       "95059  N509  R203  00-00-03   23 ST       FM      IND  05/11/2017  08:00:00   \n",
       "95060  N509  R203  00-00-03   23 ST       FM      IND  05/11/2017  12:00:00   \n",
       "95061  N509  R203  00-00-03   23 ST       FM      IND  05/11/2017  16:00:00   \n",
       "95062  N509  R203  00-00-03   23 ST       FM      IND  05/11/2017  20:00:00   \n",
       "95379  N509  R203  00-00-04   23 ST       FM      IND  04/20/2017  00:00:00   \n",
       "95380  N509  R203  00-00-04   23 ST       FM      IND  04/20/2017  04:00:00   \n",
       "95381  N509  R203  00-00-04   23 ST       FM      IND  04/20/2017  08:00:00   \n",
       "95382  N509  R203  00-00-04   23 ST       FM      IND  04/20/2017  12:00:00   \n",
       "95383  N509  R203  00-00-04   23 ST       FM      IND  04/20/2017  16:00:00   \n",
       "95384  N509  R203  00-00-04   23 ST       FM      IND  04/20/2017  20:00:00   \n",
       "95819  N509  R203  00-00-04   23 ST       FM      IND  04/27/2017  00:00:00   \n",
       "95820  N509  R203  00-00-04   23 ST       FM      IND  04/27/2017  04:00:00   \n",
       "95821  N509  R203  00-00-04   23 ST       FM      IND  04/27/2017  08:00:00   \n",
       "95822  N509  R203  00-00-04   23 ST       FM      IND  04/27/2017  12:00:00   \n",
       "95823  N509  R203  00-00-04   23 ST       FM      IND  04/27/2017  16:00:00   \n",
       "95824  N509  R203  00-00-04   23 ST       FM      IND  04/27/2017  20:00:00   \n",
       "95655  N509  R203  00-00-04   23 ST       FM      IND  05/04/2017  00:00:00   \n",
       "95656  N509  R203  00-00-04   23 ST       FM      IND  05/04/2017  04:00:00   \n",
       "95657  N509  R203  00-00-04   23 ST       FM      IND  05/04/2017  08:00:00   \n",
       "95658  N509  R203  00-00-04   23 ST       FM      IND  05/04/2017  12:00:00   \n",
       "95659  N509  R203  00-00-04   23 ST       FM      IND  05/04/2017  16:00:00   \n",
       "95660  N509  R203  00-00-04   23 ST       FM      IND  05/04/2017  20:00:00   \n",
       "95099  N509  R203  00-00-04   23 ST       FM      IND  05/11/2017  00:00:00   \n",
       "95100  N509  R203  00-00-04   23 ST       FM      IND  05/11/2017  04:00:00   \n",
       "95101  N509  R203  00-00-04   23 ST       FM      IND  05/11/2017  08:00:00   \n",
       "95102  N509  R203  00-00-04   23 ST       FM      IND  05/11/2017  12:00:00   \n",
       "95103  N509  R203  00-00-04   23 ST       FM      IND  05/11/2017  16:00:00   \n",
       "95104  N509  R203  00-00-04   23 ST       FM      IND  05/11/2017  20:00:00   \n",
       "\n",
       "         ENTRIES                       KEY STATIONLINE            DATETIME  \\\n",
       "95001  237046617  N508,R453,00-00-00,23 ST    23 ST_FM 2017-04-20 00:00:00   \n",
       "95002  237046634  N508,R453,00-00-00,23 ST    23 ST_FM 2017-04-20 04:00:00   \n",
       "95003  237046656  N508,R453,00-00-00,23 ST    23 ST_FM 2017-04-20 08:00:00   \n",
       "95004  237046850  N508,R453,00-00-00,23 ST    23 ST_FM 2017-04-20 12:00:00   \n",
       "95005  237047314  N508,R453,00-00-00,23 ST    23 ST_FM 2017-04-20 16:00:00   \n",
       "95006  237048653  N508,R453,00-00-00,23 ST    23 ST_FM 2017-04-20 20:00:00   \n",
       "95441  237061391  N508,R453,00-00-00,23 ST    23 ST_FM 2017-04-27 00:00:00   \n",
       "95442  237061392  N508,R453,00-00-00,23 ST    23 ST_FM 2017-04-27 04:00:00   \n",
       "95443  237061413  N508,R453,00-00-00,23 ST    23 ST_FM 2017-04-27 08:00:00   \n",
       "95444  237061621  N508,R453,00-00-00,23 ST    23 ST_FM 2017-04-27 12:00:00   \n",
       "95445  237062042  N508,R453,00-00-00,23 ST    23 ST_FM 2017-04-27 16:00:00   \n",
       "95446  237062933  N508,R453,00-00-00,23 ST    23 ST_FM 2017-04-27 20:00:00   \n",
       "95277  237073656  N508,R453,00-00-00,23 ST    23 ST_FM 2017-05-04 00:00:00   \n",
       "95278  237073693  N508,R453,00-00-00,23 ST    23 ST_FM 2017-05-04 04:00:00   \n",
       "95279  237073721  N508,R453,00-00-00,23 ST    23 ST_FM 2017-05-04 08:00:00   \n",
       "95280  237073944  N508,R453,00-00-00,23 ST    23 ST_FM 2017-05-04 12:00:00   \n",
       "95281  237074438  N508,R453,00-00-00,23 ST    23 ST_FM 2017-05-04 16:00:00   \n",
       "95282  237075934  N508,R453,00-00-00,23 ST    23 ST_FM 2017-05-04 20:00:00   \n",
       "94721  237090094  N508,R453,00-00-00,23 ST    23 ST_FM 2017-05-11 00:00:00   \n",
       "94722  237090126  N508,R453,00-00-00,23 ST    23 ST_FM 2017-05-11 04:00:00   \n",
       "94723  237090162  N508,R453,00-00-00,23 ST    23 ST_FM 2017-05-11 08:00:00   \n",
       "94724  237090400  N508,R453,00-00-00,23 ST    23 ST_FM 2017-05-11 12:00:00   \n",
       "94725  237090964  N508,R453,00-00-00,23 ST    23 ST_FM 2017-05-11 16:00:00   \n",
       "94726  237092525  N508,R453,00-00-00,23 ST    23 ST_FM 2017-05-11 20:00:00   \n",
       "95044  673525511  N508,R453,00-00-01,23 ST    23 ST_FM 2017-04-20 00:00:00   \n",
       "95045  673525538  N508,R453,00-00-01,23 ST    23 ST_FM 2017-04-20 04:00:00   \n",
       "95046  673525580  N508,R453,00-00-01,23 ST    23 ST_FM 2017-04-20 08:00:00   \n",
       "95047  673525833  N508,R453,00-00-01,23 ST    23 ST_FM 2017-04-20 12:00:00   \n",
       "95048  673526436  N508,R453,00-00-01,23 ST    23 ST_FM 2017-04-20 16:00:00   \n",
       "95049  673527852  N508,R453,00-00-01,23 ST    23 ST_FM 2017-04-20 20:00:00   \n",
       "...          ...                       ...         ...                 ...   \n",
       "95057    5436921  N509,R203,00-00-03,23 ST    23 ST_FM 2017-05-11 00:00:00   \n",
       "95058    5436959  N509,R203,00-00-03,23 ST    23 ST_FM 2017-05-11 04:00:00   \n",
       "95059    5437115  N509,R203,00-00-03,23 ST    23 ST_FM 2017-05-11 08:00:00   \n",
       "95060    5437798  N509,R203,00-00-03,23 ST    23 ST_FM 2017-05-11 12:00:00   \n",
       "95061    5438533  N509,R203,00-00-03,23 ST    23 ST_FM 2017-05-11 16:00:00   \n",
       "95062    5440004  N509,R203,00-00-03,23 ST    23 ST_FM 2017-05-11 20:00:00   \n",
       "95379    6057130  N509,R203,00-00-04,23 ST    23 ST_FM 2017-04-20 00:00:00   \n",
       "95380    6057200  N509,R203,00-00-04,23 ST    23 ST_FM 2017-04-20 04:00:00   \n",
       "95381    6057381  N509,R203,00-00-04,23 ST    23 ST_FM 2017-04-20 08:00:00   \n",
       "95382    6058077  N509,R203,00-00-04,23 ST    23 ST_FM 2017-04-20 12:00:00   \n",
       "95383    6058833  N509,R203,00-00-04,23 ST    23 ST_FM 2017-04-20 16:00:00   \n",
       "95384    6060496  N509,R203,00-00-04,23 ST    23 ST_FM 2017-04-20 20:00:00   \n",
       "95819    6079856  N509,R203,00-00-04,23 ST    23 ST_FM 2017-04-27 00:00:00   \n",
       "95820    6079920  N509,R203,00-00-04,23 ST    23 ST_FM 2017-04-27 04:00:00   \n",
       "95821    6080102  N509,R203,00-00-04,23 ST    23 ST_FM 2017-04-27 08:00:00   \n",
       "95822    6080907  N509,R203,00-00-04,23 ST    23 ST_FM 2017-04-27 12:00:00   \n",
       "95823    6081748  N509,R203,00-00-04,23 ST    23 ST_FM 2017-04-27 16:00:00   \n",
       "95824    6083431  N509,R203,00-00-04,23 ST    23 ST_FM 2017-04-27 20:00:00   \n",
       "95655    6099682  N509,R203,00-00-04,23 ST    23 ST_FM 2017-05-04 00:00:00   \n",
       "95656    6099682  N509,R203,00-00-04,23 ST    23 ST_FM 2017-05-04 04:00:00   \n",
       "95657    6099859  N509,R203,00-00-04,23 ST    23 ST_FM 2017-05-04 08:00:00   \n",
       "95658    6100636  N509,R203,00-00-04,23 ST    23 ST_FM 2017-05-04 12:00:00   \n",
       "95659    6101471  N509,R203,00-00-04,23 ST    23 ST_FM 2017-05-04 16:00:00   \n",
       "95660    6103068  N509,R203,00-00-04,23 ST    23 ST_FM 2017-05-04 20:00:00   \n",
       "95099    6121464  N509,R203,00-00-04,23 ST    23 ST_FM 2017-05-11 00:00:00   \n",
       "95100    6121513  N509,R203,00-00-04,23 ST    23 ST_FM 2017-05-11 04:00:00   \n",
       "95101    6121696  N509,R203,00-00-04,23 ST    23 ST_FM 2017-05-11 08:00:00   \n",
       "95102    6122538  N509,R203,00-00-04,23 ST    23 ST_FM 2017-05-11 12:00:00   \n",
       "95103    6123436  N509,R203,00-00-04,23 ST    23 ST_FM 2017-05-11 16:00:00   \n",
       "95104    6124993  N509,R203,00-00-04,23 ST    23 ST_FM 2017-05-11 20:00:00   \n",
       "\n",
       "       ENTRYCOUNT  DAY     NAMEDAY  HOUR  \n",
       "95001       435.0    3  4_Thursday     0  \n",
       "95002        17.0    3  4_Thursday     4  \n",
       "95003        22.0    3  4_Thursday     8  \n",
       "95004       194.0    3  4_Thursday    12  \n",
       "95005       464.0    3  4_Thursday    16  \n",
       "95006      1339.0    3  4_Thursday    20  \n",
       "95441       501.0    3  4_Thursday     0  \n",
       "95442         1.0    3  4_Thursday     4  \n",
       "95443        21.0    3  4_Thursday     8  \n",
       "95444       208.0    3  4_Thursday    12  \n",
       "95445       421.0    3  4_Thursday    16  \n",
       "95446       891.0    3  4_Thursday    20  \n",
       "95277       583.0    3  4_Thursday     0  \n",
       "95278        37.0    3  4_Thursday     4  \n",
       "95279        28.0    3  4_Thursday     8  \n",
       "95280       223.0    3  4_Thursday    12  \n",
       "95281       494.0    3  4_Thursday    16  \n",
       "95282      1496.0    3  4_Thursday    20  \n",
       "94721       587.0    3  4_Thursday     0  \n",
       "94722        32.0    3  4_Thursday     4  \n",
       "94723        36.0    3  4_Thursday     8  \n",
       "94724       238.0    3  4_Thursday    12  \n",
       "94725       564.0    3  4_Thursday    16  \n",
       "94726      1561.0    3  4_Thursday    20  \n",
       "95044       631.0    3  4_Thursday     0  \n",
       "95045        27.0    3  4_Thursday     4  \n",
       "95046        42.0    3  4_Thursday     8  \n",
       "95047       253.0    3  4_Thursday    12  \n",
       "95048       603.0    3  4_Thursday    16  \n",
       "95049      1416.0    3  4_Thursday    20  \n",
       "...           ...  ...         ...   ...  \n",
       "95057       524.0    3  4_Thursday     0  \n",
       "95058        38.0    3  4_Thursday     4  \n",
       "95059       156.0    3  4_Thursday     8  \n",
       "95060       683.0    3  4_Thursday    12  \n",
       "95061       735.0    3  4_Thursday    16  \n",
       "95062      1471.0    3  4_Thursday    20  \n",
       "95379       575.0    3  4_Thursday     0  \n",
       "95380        70.0    3  4_Thursday     4  \n",
       "95381       181.0    3  4_Thursday     8  \n",
       "95382       696.0    3  4_Thursday    12  \n",
       "95383       756.0    3  4_Thursday    16  \n",
       "95384      1663.0    3  4_Thursday    20  \n",
       "95819       590.0    3  4_Thursday     0  \n",
       "95820        64.0    3  4_Thursday     4  \n",
       "95821       182.0    3  4_Thursday     8  \n",
       "95822       805.0    3  4_Thursday    12  \n",
       "95823       841.0    3  4_Thursday    16  \n",
       "95824      1683.0    3  4_Thursday    20  \n",
       "95655       569.0    3  4_Thursday     0  \n",
       "95656         0.0    3  4_Thursday     4  \n",
       "95657       177.0    3  4_Thursday     8  \n",
       "95658       777.0    3  4_Thursday    12  \n",
       "95659       835.0    3  4_Thursday    16  \n",
       "95660      1597.0    3  4_Thursday    20  \n",
       "95099       567.0    3  4_Thursday     0  \n",
       "95100        49.0    3  4_Thursday     4  \n",
       "95101       183.0    3  4_Thursday     8  \n",
       "95102       842.0    3  4_Thursday    12  \n",
       "95103       898.0    3  4_Thursday    16  \n",
       "95104      1557.0    3  4_Thursday    20  \n",
       "\n",
       "[240 rows x 16 columns]"
      ]
     },
     "execution_count": 212,
     "metadata": {},
     "output_type": "execute_result"
    }
   ],
   "source": [
    "topTechHourDF.groupby(\"TIME\")"
   ]
  },
  {
   "cell_type": "markdown",
   "metadata": {},
   "source": [
    "## Challenge 5"
   ]
  },
  {
   "cell_type": "code",
   "execution_count": null,
   "metadata": {
    "collapsed": true
   },
   "outputs": [],
   "source": [
    "turnstiles = df2.groupby(['C/A', 'UNIT', 'STATION','DATE']).ENTRYCOUNT.sum().reset_index()"
   ]
  },
  {
   "cell_type": "code",
   "execution_count": null,
   "metadata": {},
   "outputs": [],
   "source": [
    "type(turnstiles)"
   ]
  },
  {
   "cell_type": "code",
   "execution_count": null,
   "metadata": {},
   "outputs": [],
   "source": [
    "turnstiles.head()"
   ]
  },
  {
   "cell_type": "markdown",
   "metadata": {},
   "source": [
    "## Challenge 6"
   ]
  },
  {
   "cell_type": "code",
   "execution_count": null,
   "metadata": {
    "collapsed": true
   },
   "outputs": [],
   "source": [
    "station = df.groupby(['STATION','DATE']).ENTRYCOUNT.sum().reset_index()\n"
   ]
  },
  {
   "cell_type": "code",
   "execution_count": null,
   "metadata": {},
   "outputs": [],
   "source": [
    "station.head()"
   ]
  },
  {
   "cell_type": "code",
   "execution_count": null,
   "metadata": {
    "collapsed": true
   },
   "outputs": [],
   "source": [
    "station1 = station.loc[station.STATION == '1 AV']"
   ]
  },
  {
   "cell_type": "code",
   "execution_count": null,
   "metadata": {},
   "outputs": [],
   "source": [
    "type(station1)"
   ]
  },
  {
   "cell_type": "code",
   "execution_count": null,
   "metadata": {
    "collapsed": true
   },
   "outputs": [],
   "source": [
    "# firstAveGroup = station.groupby('DATE')"
   ]
  },
  {
   "cell_type": "code",
   "execution_count": null,
   "metadata": {
    "collapsed": true
   },
   "outputs": [],
   "source": [
    "# firstAveGroup.plot(x=firstAveGroup.indices,y='ENTRYCOUNT')"
   ]
  },
  {
   "cell_type": "markdown",
   "metadata": {},
   "source": [
    "## Challenge 7"
   ]
  },
  {
   "cell_type": "code",
   "execution_count": null,
   "metadata": {},
   "outputs": [],
   "source": [
    "station1.plot(y='ENTRYCOUNT',x='DATE')"
   ]
  },
  {
   "cell_type": "markdown",
   "metadata": {},
   "source": [
    "## Top 5 Stations based on Entries"
   ]
  },
  {
   "cell_type": "code",
   "execution_count": null,
   "metadata": {
    "collapsed": true
   },
   "outputs": [],
   "source": [
    "top5stations = df.groupby('STATION').ENTRYCOUNT.sum().reset_index()"
   ]
  },
  {
   "cell_type": "code",
   "execution_count": null,
   "metadata": {
    "collapsed": true
   },
   "outputs": [],
   "source": [
    "#top5stations = top5stations.sort_values('ENTRYCOUNT',ascending=False)"
   ]
  },
  {
   "cell_type": "code",
   "execution_count": null,
   "metadata": {},
   "outputs": [],
   "source": [
    "top5stations.loc[top5stations.STATION == 'EASTCHSTER/DYRE']"
   ]
  },
  {
   "cell_type": "code",
   "execution_count": null,
   "metadata": {},
   "outputs": [],
   "source": [
    "df.loc[df.STATION == 'EASTCHSTER/DYRE']"
   ]
  },
  {
   "cell_type": "code",
   "execution_count": null,
   "metadata": {},
   "outputs": [],
   "source": [
    "df.ENTRYCOUNT.min()"
   ]
  },
  {
   "cell_type": "code",
   "execution_count": null,
   "metadata": {
    "collapsed": true
   },
   "outputs": [],
   "source": [
    "# Replace Days with Name Days\n",
    "##titanic.sex=titanic.sex.replace({'female':0,'male':1})"
   ]
  }
 ],
 "metadata": {
  "kernelspec": {
   "display_name": "Python 3",
   "language": "python",
   "name": "python3"
  }
 },
 "nbformat": 4,
 "nbformat_minor": 2
}
